{
 "cells": [
  {
   "cell_type": "markdown",
   "id": "2dbc33b1",
   "metadata": {},
   "source": [
    "#### Import relevant libraries"
   ]
  },
  {
   "cell_type": "code",
   "execution_count": 1,
   "id": "0ae67507",
   "metadata": {},
   "outputs": [],
   "source": [
    "import pandas as pd\n",
    "import matplotlib.pyplot as plt\n",
    "import seaborn as sns\n",
    "import nltk\n",
    "from nltk.tokenize import word_tokenize\n",
    "from nltk import pos_tag"
   ]
  },
  {
   "cell_type": "markdown",
   "id": "a2050fe1",
   "metadata": {},
   "source": [
    "#### Load dataset"
   ]
  },
  {
   "cell_type": "code",
   "execution_count": 2,
   "id": "3a02fac1",
   "metadata": {},
   "outputs": [],
   "source": [
    "reviews_data = pd.read_csv(\"data/cleaned_reviews_no_stopwords_data.csv\")"
   ]
  },
  {
   "cell_type": "markdown",
   "id": "128c9ecd",
   "metadata": {},
   "source": [
    "#### Inspect first 5 rows and data types of the dataset"
   ]
  },
  {
   "cell_type": "code",
   "execution_count": 3,
   "id": "1f556097",
   "metadata": {
    "scrolled": false
   },
   "outputs": [
    {
     "data": {
      "text/html": [
       "<div>\n",
       "<style scoped>\n",
       "    .dataframe tbody tr th:only-of-type {\n",
       "        vertical-align: middle;\n",
       "    }\n",
       "\n",
       "    .dataframe tbody tr th {\n",
       "        vertical-align: top;\n",
       "    }\n",
       "\n",
       "    .dataframe thead th {\n",
       "        text-align: right;\n",
       "    }\n",
       "</style>\n",
       "<table border=\"1\" class=\"dataframe\">\n",
       "  <thead>\n",
       "    <tr style=\"text-align: right;\">\n",
       "      <th></th>\n",
       "      <th>Review</th>\n",
       "      <th>Liked</th>\n",
       "      <th>reviews_cleaned</th>\n",
       "      <th>reviews_cleaned_stopwords</th>\n",
       "    </tr>\n",
       "  </thead>\n",
       "  <tbody>\n",
       "    <tr>\n",
       "      <th>0</th>\n",
       "      <td>Wow... Loved this place.</td>\n",
       "      <td>1</td>\n",
       "      <td>wow ... loved this place</td>\n",
       "      <td>wow ... loved place</td>\n",
       "    </tr>\n",
       "    <tr>\n",
       "      <th>1</th>\n",
       "      <td>Crust is not good.</td>\n",
       "      <td>0</td>\n",
       "      <td>crust is not good</td>\n",
       "      <td>crust good</td>\n",
       "    </tr>\n",
       "    <tr>\n",
       "      <th>2</th>\n",
       "      <td>Not tasty and the texture was just nasty.</td>\n",
       "      <td>0</td>\n",
       "      <td>not tasty and the texture was just nasty</td>\n",
       "      <td>tasty texture nasty</td>\n",
       "    </tr>\n",
       "    <tr>\n",
       "      <th>3</th>\n",
       "      <td>Stopped by during the late May bank holiday of...</td>\n",
       "      <td>1</td>\n",
       "      <td>stopped by during the late may bank holiday of...</td>\n",
       "      <td>stopped late may bank holiday rick steve recom...</td>\n",
       "    </tr>\n",
       "    <tr>\n",
       "      <th>4</th>\n",
       "      <td>The selection on the menu was great and so wer...</td>\n",
       "      <td>1</td>\n",
       "      <td>the selection on the menu was great and so wer...</td>\n",
       "      <td>selection menu great prices</td>\n",
       "    </tr>\n",
       "  </tbody>\n",
       "</table>\n",
       "</div>"
      ],
      "text/plain": [
       "                                              Review  Liked  \\\n",
       "0                           Wow... Loved this place.      1   \n",
       "1                                 Crust is not good.      0   \n",
       "2          Not tasty and the texture was just nasty.      0   \n",
       "3  Stopped by during the late May bank holiday of...      1   \n",
       "4  The selection on the menu was great and so wer...      1   \n",
       "\n",
       "                                     reviews_cleaned  \\\n",
       "0                           wow ... loved this place   \n",
       "1                                  crust is not good   \n",
       "2           not tasty and the texture was just nasty   \n",
       "3  stopped by during the late may bank holiday of...   \n",
       "4  the selection on the menu was great and so wer...   \n",
       "\n",
       "                           reviews_cleaned_stopwords  \n",
       "0                                wow ... loved place  \n",
       "1                                         crust good  \n",
       "2                                tasty texture nasty  \n",
       "3  stopped late may bank holiday rick steve recom...  \n",
       "4                        selection menu great prices  "
      ]
     },
     "execution_count": 3,
     "metadata": {},
     "output_type": "execute_result"
    }
   ],
   "source": [
    "reviews_data.head()"
   ]
  },
  {
   "cell_type": "code",
   "execution_count": 4,
   "id": "bdf17c4b",
   "metadata": {},
   "outputs": [
    {
     "data": {
      "text/plain": [
       "(900, 4)"
      ]
     },
     "execution_count": 4,
     "metadata": {},
     "output_type": "execute_result"
    }
   ],
   "source": [
    "reviews_data.shape"
   ]
  },
  {
   "cell_type": "code",
   "execution_count": 5,
   "id": "1a6386f1",
   "metadata": {},
   "outputs": [],
   "source": [
    "reviews_data = reviews_data.dropna()"
   ]
  },
  {
   "cell_type": "markdown",
   "id": "ea069eb6",
   "metadata": {},
   "source": [
    "#### Tokenize data"
   ]
  },
  {
   "cell_type": "code",
   "execution_count": 6,
   "id": "fe7aeea9",
   "metadata": {},
   "outputs": [],
   "source": [
    "reviews_data['reviews_tokenized'] = reviews_data['reviews_cleaned_stopwords'].apply(word_tokenize)"
   ]
  },
  {
   "cell_type": "markdown",
   "id": "78264212",
   "metadata": {},
   "source": [
    "#### Perform Part of Speech tagging"
   ]
  },
  {
   "cell_type": "code",
   "execution_count": 7,
   "id": "7bb1bf05",
   "metadata": {},
   "outputs": [
    {
     "data": {
      "text/html": [
       "<div>\n",
       "<style scoped>\n",
       "    .dataframe tbody tr th:only-of-type {\n",
       "        vertical-align: middle;\n",
       "    }\n",
       "\n",
       "    .dataframe tbody tr th {\n",
       "        vertical-align: top;\n",
       "    }\n",
       "\n",
       "    .dataframe thead th {\n",
       "        text-align: right;\n",
       "    }\n",
       "</style>\n",
       "<table border=\"1\" class=\"dataframe\">\n",
       "  <thead>\n",
       "    <tr style=\"text-align: right;\">\n",
       "      <th></th>\n",
       "      <th>Review</th>\n",
       "      <th>Liked</th>\n",
       "      <th>reviews_cleaned</th>\n",
       "      <th>reviews_cleaned_stopwords</th>\n",
       "      <th>reviews_tokenized</th>\n",
       "      <th>reviews_pos_tags</th>\n",
       "    </tr>\n",
       "  </thead>\n",
       "  <tbody>\n",
       "    <tr>\n",
       "      <th>0</th>\n",
       "      <td>Wow... Loved this place.</td>\n",
       "      <td>1</td>\n",
       "      <td>wow ... loved this place</td>\n",
       "      <td>wow ... loved place</td>\n",
       "      <td>[wow, ..., loved, place]</td>\n",
       "      <td>[(wow, NN), (..., :), (loved, VBD), (place, NN)]</td>\n",
       "    </tr>\n",
       "    <tr>\n",
       "      <th>1</th>\n",
       "      <td>Crust is not good.</td>\n",
       "      <td>0</td>\n",
       "      <td>crust is not good</td>\n",
       "      <td>crust good</td>\n",
       "      <td>[crust, good]</td>\n",
       "      <td>[(crust, NN), (good, NN)]</td>\n",
       "    </tr>\n",
       "    <tr>\n",
       "      <th>2</th>\n",
       "      <td>Not tasty and the texture was just nasty.</td>\n",
       "      <td>0</td>\n",
       "      <td>not tasty and the texture was just nasty</td>\n",
       "      <td>tasty texture nasty</td>\n",
       "      <td>[tasty, texture, nasty]</td>\n",
       "      <td>[(tasty, JJ), (texture, NN), (nasty, NN)]</td>\n",
       "    </tr>\n",
       "    <tr>\n",
       "      <th>3</th>\n",
       "      <td>Stopped by during the late May bank holiday of...</td>\n",
       "      <td>1</td>\n",
       "      <td>stopped by during the late may bank holiday of...</td>\n",
       "      <td>stopped late may bank holiday rick steve recom...</td>\n",
       "      <td>[stopped, late, may, bank, holiday, rick, stev...</td>\n",
       "      <td>[(stopped, VBN), (late, JJ), (may, MD), (bank,...</td>\n",
       "    </tr>\n",
       "    <tr>\n",
       "      <th>4</th>\n",
       "      <td>The selection on the menu was great and so wer...</td>\n",
       "      <td>1</td>\n",
       "      <td>the selection on the menu was great and so wer...</td>\n",
       "      <td>selection menu great prices</td>\n",
       "      <td>[selection, menu, great, prices]</td>\n",
       "      <td>[(selection, NN), (menu, VBZ), (great, JJ), (p...</td>\n",
       "    </tr>\n",
       "  </tbody>\n",
       "</table>\n",
       "</div>"
      ],
      "text/plain": [
       "                                              Review  Liked  \\\n",
       "0                           Wow... Loved this place.      1   \n",
       "1                                 Crust is not good.      0   \n",
       "2          Not tasty and the texture was just nasty.      0   \n",
       "3  Stopped by during the late May bank holiday of...      1   \n",
       "4  The selection on the menu was great and so wer...      1   \n",
       "\n",
       "                                     reviews_cleaned  \\\n",
       "0                           wow ... loved this place   \n",
       "1                                  crust is not good   \n",
       "2           not tasty and the texture was just nasty   \n",
       "3  stopped by during the late may bank holiday of...   \n",
       "4  the selection on the menu was great and so wer...   \n",
       "\n",
       "                           reviews_cleaned_stopwords  \\\n",
       "0                                wow ... loved place   \n",
       "1                                         crust good   \n",
       "2                                tasty texture nasty   \n",
       "3  stopped late may bank holiday rick steve recom...   \n",
       "4                        selection menu great prices   \n",
       "\n",
       "                                   reviews_tokenized  \\\n",
       "0                           [wow, ..., loved, place]   \n",
       "1                                      [crust, good]   \n",
       "2                            [tasty, texture, nasty]   \n",
       "3  [stopped, late, may, bank, holiday, rick, stev...   \n",
       "4                   [selection, menu, great, prices]   \n",
       "\n",
       "                                    reviews_pos_tags  \n",
       "0   [(wow, NN), (..., :), (loved, VBD), (place, NN)]  \n",
       "1                          [(crust, NN), (good, NN)]  \n",
       "2          [(tasty, JJ), (texture, NN), (nasty, NN)]  \n",
       "3  [(stopped, VBN), (late, JJ), (may, MD), (bank,...  \n",
       "4  [(selection, NN), (menu, VBZ), (great, JJ), (p...  "
      ]
     },
     "execution_count": 7,
     "metadata": {},
     "output_type": "execute_result"
    }
   ],
   "source": [
    "reviews_data['reviews_pos_tags'] = reviews_data['reviews_tokenized'].apply(nltk.tag.pos_tag)\n",
    "reviews_data.head()"
   ]
  },
  {
   "cell_type": "code",
   "execution_count": 8,
   "id": "fe2b5999",
   "metadata": {},
   "outputs": [],
   "source": [
    "reviews_data['reviews_adjectives'] = reviews_data['reviews_pos_tags'].apply(lambda x: [word for (word, pos_tag) in x if 'JJ' in (word, pos_tag)])"
   ]
  },
  {
   "cell_type": "markdown",
   "id": "229df88a",
   "metadata": {},
   "source": [
    "#### Visualise most common Adjectives"
   ]
  },
  {
   "cell_type": "code",
   "execution_count": 9,
   "id": "c2a35a7b",
   "metadata": {},
   "outputs": [],
   "source": [
    "def combine_words(word_list):    \n",
    "    all_words = []\n",
    "    for word in word_list:\n",
    "        all_words += word\n",
    "    return all_words"
   ]
  },
  {
   "cell_type": "code",
   "execution_count": 10,
   "id": "4e93d7cd",
   "metadata": {},
   "outputs": [],
   "source": [
    "def count_topwords(all_words):\n",
    "    counts = dict()\n",
    "    for word in all_words:\n",
    "        if word in counts:\n",
    "            counts[word] += 1\n",
    "        else:\n",
    "            counts[word] = 1\n",
    "\n",
    "    word_count = pd.DataFrame([counts])\n",
    "    word_count_transposed = word_count.T.reset_index()\n",
    "    word_count_transposed.columns = ['words','word_count']\n",
    "    word_count_sorted = word_count_transposed.sort_values(\"word_count\",ascending = False)\n",
    "    word_count_sorted\n",
    "    return word_count_sorted[:20]"
   ]
  },
  {
   "cell_type": "code",
   "execution_count": 11,
   "id": "860ad50c",
   "metadata": {},
   "outputs": [
    {
     "data": {
      "text/plain": [
       "['tasty',\n",
       " 'late',\n",
       " 'rick',\n",
       " 'great',\n",
       " 'angry',\n",
       " 'fresh',\n",
       " 'great',\n",
       " 'great',\n",
       " 'tried',\n",
       " 'pretty']"
      ]
     },
     "execution_count": 11,
     "metadata": {},
     "output_type": "execute_result"
    }
   ],
   "source": [
    "reviews = reviews_data['reviews_adjectives']\n",
    "reviews_words =  combine_words(reviews)\n",
    "reviews_words[:10]"
   ]
  },
  {
   "cell_type": "code",
   "execution_count": 12,
   "id": "eee58d6c",
   "metadata": {},
   "outputs": [
    {
     "data": {
      "text/html": [
       "<div>\n",
       "<style scoped>\n",
       "    .dataframe tbody tr th:only-of-type {\n",
       "        vertical-align: middle;\n",
       "    }\n",
       "\n",
       "    .dataframe tbody tr th {\n",
       "        vertical-align: top;\n",
       "    }\n",
       "\n",
       "    .dataframe thead th {\n",
       "        text-align: right;\n",
       "    }\n",
       "</style>\n",
       "<table border=\"1\" class=\"dataframe\">\n",
       "  <thead>\n",
       "    <tr style=\"text-align: right;\">\n",
       "      <th></th>\n",
       "      <th>words</th>\n",
       "      <th>word_count</th>\n",
       "    </tr>\n",
       "  </thead>\n",
       "  <tbody>\n",
       "    <tr>\n",
       "      <th>17</th>\n",
       "      <td>good</td>\n",
       "      <td>87</td>\n",
       "    </tr>\n",
       "    <tr>\n",
       "      <th>3</th>\n",
       "      <td>great</td>\n",
       "      <td>70</td>\n",
       "    </tr>\n",
       "    <tr>\n",
       "      <th>54</th>\n",
       "      <td>delicious</td>\n",
       "      <td>23</td>\n",
       "    </tr>\n",
       "    <tr>\n",
       "      <th>44</th>\n",
       "      <td>nice</td>\n",
       "      <td>21</td>\n",
       "    </tr>\n",
       "    <tr>\n",
       "      <th>38</th>\n",
       "      <td>bad</td>\n",
       "      <td>15</td>\n",
       "    </tr>\n",
       "  </tbody>\n",
       "</table>\n",
       "</div>"
      ],
      "text/plain": [
       "        words  word_count\n",
       "17       good          87\n",
       "3       great          70\n",
       "54  delicious          23\n",
       "44       nice          21\n",
       "38        bad          15"
      ]
     },
     "execution_count": 12,
     "metadata": {},
     "output_type": "execute_result"
    }
   ],
   "source": [
    "reviews_topword_count = count_topwords(reviews_words)\n",
    "reviews_topword_count.head()"
   ]
  },
  {
   "cell_type": "code",
   "execution_count": 13,
   "id": "817872ea",
   "metadata": {},
   "outputs": [
    {
     "data": {
      "text/plain": [
       "<AxesSubplot:xlabel='words', ylabel='word_count'>"
      ]
     },
     "execution_count": 13,
     "metadata": {},
     "output_type": "execute_result"
    },
    {
     "data": {
      "image/png": "[encoded data removed]",
      "text/plain": [
       "<Figure size 1296x720 with 1 Axes>"
      ]
     },
     "metadata": {
      "needs_background": "light"
     },
     "output_type": "display_data"
    }
   ],
   "source": [
    "plt.figure(figsize= (18,10))\n",
    "\n",
    "sns.barplot(data = reviews_topword_count ,x= reviews_topword_count['words'], y= reviews_topword_count['word_count'] )"
   ]
  }
 ],
 "metadata": {
  "kernelspec": {
   "display_name": "Python 3",
   "language": "python",
   "name": "python3"
  },
  "language_info": {
   "codemirror_mode": {
    "name": "ipython",
    "version": 3
   },
   "file_extension": ".py",
   "mimetype": "text/x-python",
   "name": "python",
   "nbconvert_exporter": "python",
   "pygments_lexer": "ipython3",
   "version": "3.7.1"
  }
 },
 "nbformat": 4,
 "nbformat_minor": 5
}

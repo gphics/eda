{
 "cells": [
  {
   "cell_type": "markdown",
   "id": "2dbc33b1",
   "metadata": {},
   "source": [
    "#### Import relevant libraries"
   ]
  },
  {
   "cell_type": "code",
   "execution_count": 1,
   "id": "0ae67507",
   "metadata": {},
   "outputs": [],
   "source": [
    "import pandas as pd\n",
    "import nltk\n",
    "from nltk.tokenize import word_tokenize\n",
    "import gensim\n",
    "from gensim.utils import simple_preprocess\n",
    "import gensim.corpora as corpora\n",
    "from pprint import pprint\n",
    "import pyLDAvis.gensim_models\n",
    "pyLDAvis.enable_notebook()# Visualise inside a notebook"
   ]
  },
  {
   "cell_type": "markdown",
   "id": "a2050fe1",
   "metadata": {},
   "source": [
    "#### Load dataset"
   ]
  },
  {
   "cell_type": "code",
   "execution_count": 2,
   "id": "3a02fac1",
   "metadata": {},
   "outputs": [
    {
     "name": "stderr",
     "output_type": "stream",
     "text": [
      "c:\\users\\ay_de\\appdata\\local\\programs\\python\\python37\\lib\\site-packages\\ipykernel\\ipkernel.py:283: DeprecationWarning: `should_run_async` will not call `transform_cell` automatically in the future. Please pass the result to `transformed_cell` argument and any exception that happen during thetransform in `preprocessing_exc_tuple` in IPython 7.17 and above.\n",
      "  and should_run_async(code)\n"
     ]
    }
   ],
   "source": [
    "reviews_data = pd.read_csv(\"data/cleaned_reviews_lemmatized_data.csv\")"
   ]
  },
  {
   "cell_type": "markdown",
   "id": "128c9ecd",
   "metadata": {},
   "source": [
    "#### Inspect first 5 rows and data types of the dataset"
   ]
  },
  {
   "cell_type": "code",
   "execution_count": 3,
   "id": "1f556097",
   "metadata": {
    "scrolled": false
   },
   "outputs": [
    {
     "name": "stderr",
     "output_type": "stream",
     "text": [
      "c:\\users\\ay_de\\appdata\\local\\programs\\python\\python37\\lib\\site-packages\\ipykernel\\ipkernel.py:283: DeprecationWarning: `should_run_async` will not call `transform_cell` automatically in the future. Please pass the result to `transformed_cell` argument and any exception that happen during thetransform in `preprocessing_exc_tuple` in IPython 7.17 and above.\n",
      "  and should_run_async(code)\n"
     ]
    },
    {
     "data": {
      "text/html": [
       "<div>\n",
       "<style scoped>\n",
       "    .dataframe tbody tr th:only-of-type {\n",
       "        vertical-align: middle;\n",
       "    }\n",
       "\n",
       "    .dataframe tbody tr th {\n",
       "        vertical-align: top;\n",
       "    }\n",
       "\n",
       "    .dataframe thead th {\n",
       "        text-align: right;\n",
       "    }\n",
       "</style>\n",
       "<table border=\"1\" class=\"dataframe\">\n",
       "  <thead>\n",
       "    <tr style=\"text-align: right;\">\n",
       "      <th></th>\n",
       "      <th>Review</th>\n",
       "      <th>Liked</th>\n",
       "      <th>reviews_cleaned_lemmatized</th>\n",
       "      <th>reviews_cleaned</th>\n",
       "    </tr>\n",
       "  </thead>\n",
       "  <tbody>\n",
       "    <tr>\n",
       "      <th>0</th>\n",
       "      <td>Wow... Loved this place.</td>\n",
       "      <td>1</td>\n",
       "      <td>wow ... love place</td>\n",
       "      <td>wow ... loved this place</td>\n",
       "    </tr>\n",
       "    <tr>\n",
       "      <th>1</th>\n",
       "      <td>Crust is not good.</td>\n",
       "      <td>0</td>\n",
       "      <td>crust good</td>\n",
       "      <td>crust is not good</td>\n",
       "    </tr>\n",
       "    <tr>\n",
       "      <th>2</th>\n",
       "      <td>Not tasty and the texture was just nasty.</td>\n",
       "      <td>0</td>\n",
       "      <td>tasty texture nasty</td>\n",
       "      <td>not tasty and the texture was just nasty</td>\n",
       "    </tr>\n",
       "    <tr>\n",
       "      <th>3</th>\n",
       "      <td>Stopped by during the late May bank holiday of...</td>\n",
       "      <td>1</td>\n",
       "      <td>stop late may bank holiday rick steve recommen...</td>\n",
       "      <td>stopped by during the late may bank holiday of...</td>\n",
       "    </tr>\n",
       "    <tr>\n",
       "      <th>4</th>\n",
       "      <td>The selection on the menu was great and so wer...</td>\n",
       "      <td>1</td>\n",
       "      <td>selection menu great price</td>\n",
       "      <td>the selection on the menu was great and so wer...</td>\n",
       "    </tr>\n",
       "  </tbody>\n",
       "</table>\n",
       "</div>"
      ],
      "text/plain": [
       "                                              Review  Liked  \\\n",
       "0                           Wow... Loved this place.      1   \n",
       "1                                 Crust is not good.      0   \n",
       "2          Not tasty and the texture was just nasty.      0   \n",
       "3  Stopped by during the late May bank holiday of...      1   \n",
       "4  The selection on the menu was great and so wer...      1   \n",
       "\n",
       "                          reviews_cleaned_lemmatized  \\\n",
       "0                                 wow ... love place   \n",
       "1                                         crust good   \n",
       "2                                tasty texture nasty   \n",
       "3  stop late may bank holiday rick steve recommen...   \n",
       "4                         selection menu great price   \n",
       "\n",
       "                                     reviews_cleaned  \n",
       "0                           wow ... loved this place  \n",
       "1                                  crust is not good  \n",
       "2           not tasty and the texture was just nasty  \n",
       "3  stopped by during the late may bank holiday of...  \n",
       "4  the selection on the menu was great and so wer...  "
      ]
     },
     "execution_count": 3,
     "metadata": {},
     "output_type": "execute_result"
    }
   ],
   "source": [
    "reviews_data.head()"
   ]
  },
  {
   "cell_type": "code",
   "execution_count": 4,
   "id": "bdf17c4b",
   "metadata": {},
   "outputs": [
    {
     "name": "stderr",
     "output_type": "stream",
     "text": [
      "c:\\users\\ay_de\\appdata\\local\\programs\\python\\python37\\lib\\site-packages\\ipykernel\\ipkernel.py:283: DeprecationWarning: `should_run_async` will not call `transform_cell` automatically in the future. Please pass the result to `transformed_cell` argument and any exception that happen during thetransform in `preprocessing_exc_tuple` in IPython 7.17 and above.\n",
      "  and should_run_async(code)\n"
     ]
    },
    {
     "data": {
      "text/plain": [
       "(899, 4)"
      ]
     },
     "execution_count": 4,
     "metadata": {},
     "output_type": "execute_result"
    }
   ],
   "source": [
    "reviews_data.shape"
   ]
  },
  {
   "cell_type": "markdown",
   "id": "3960637e",
   "metadata": {},
   "source": [
    "#### Tokenized data"
   ]
  },
  {
   "cell_type": "code",
   "execution_count": 5,
   "id": "c7a899de",
   "metadata": {},
   "outputs": [
    {
     "name": "stderr",
     "output_type": "stream",
     "text": [
      "c:\\users\\ay_de\\appdata\\local\\programs\\python\\python37\\lib\\site-packages\\ipykernel\\ipkernel.py:283: DeprecationWarning: `should_run_async` will not call `transform_cell` automatically in the future. Please pass the result to `transformed_cell` argument and any exception that happen during thetransform in `preprocessing_exc_tuple` in IPython 7.17 and above.\n",
      "  and should_run_async(code)\n"
     ]
    }
   ],
   "source": [
    "reviews_data['reviews_tokenized'] = reviews_data['reviews_cleaned_lemmatized'].apply(word_tokenize)"
   ]
  },
  {
   "cell_type": "code",
   "execution_count": 6,
   "id": "61ff5798",
   "metadata": {},
   "outputs": [
    {
     "name": "stderr",
     "output_type": "stream",
     "text": [
      "c:\\users\\ay_de\\appdata\\local\\programs\\python\\python37\\lib\\site-packages\\ipykernel\\ipkernel.py:283: DeprecationWarning: `should_run_async` will not call `transform_cell` automatically in the future. Please pass the result to `transformed_cell` argument and any exception that happen during thetransform in `preprocessing_exc_tuple` in IPython 7.17 and above.\n",
      "  and should_run_async(code)\n"
     ]
    },
    {
     "data": {
      "text/plain": [
       "['wow', '...', 'love', 'place']"
      ]
     },
     "execution_count": 6,
     "metadata": {},
     "output_type": "execute_result"
    }
   ],
   "source": [
    "data = reviews_data['reviews_tokenized'].values.tolist()\n",
    "all_reviews_words = list(data)\n",
    "all_reviews_words[:1][0][:30]"
   ]
  },
  {
   "cell_type": "markdown",
   "id": "eae8aa02",
   "metadata": {},
   "source": [
    "#### Create dictionary and corpus to prepare data for LDA"
   ]
  },
  {
   "cell_type": "code",
   "execution_count": 7,
   "id": "4f270227",
   "metadata": {},
   "outputs": [
    {
     "name": "stderr",
     "output_type": "stream",
     "text": [
      "c:\\users\\ay_de\\appdata\\local\\programs\\python\\python37\\lib\\site-packages\\ipykernel\\ipkernel.py:283: DeprecationWarning: `should_run_async` will not call `transform_cell` automatically in the future. Please pass the result to `transformed_cell` argument and any exception that happen during thetransform in `preprocessing_exc_tuple` in IPython 7.17 and above.\n",
      "  and should_run_async(code)\n"
     ]
    },
    {
     "name": "stdout",
     "output_type": "stream",
     "text": [
      "[(0, 1), (1, 1), (2, 1), (3, 1)]\n"
     ]
    }
   ],
   "source": [
    "dictionary = corpora.Dictionary(all_reviews_words)\n",
    "corpus = [dictionary.doc2bow(words) for words in all_reviews_words]\n",
    "# View\n",
    "print(corpus[:1][0][:30])"
   ]
  },
  {
   "cell_type": "markdown",
   "id": "8337f9d8",
   "metadata": {},
   "source": [
    "#### Build LDA model"
   ]
  },
  {
   "cell_type": "code",
   "execution_count": 8,
   "id": "277e55d7",
   "metadata": {},
   "outputs": [
    {
     "name": "stderr",
     "output_type": "stream",
     "text": [
      "c:\\users\\ay_de\\appdata\\local\\programs\\python\\python37\\lib\\site-packages\\ipykernel\\ipkernel.py:283: DeprecationWarning: `should_run_async` will not call `transform_cell` automatically in the future. Please pass the result to `transformed_cell` argument and any exception that happen during thetransform in `preprocessing_exc_tuple` in IPython 7.17 and above.\n",
      "  and should_run_async(code)\n"
     ]
    },
    {
     "name": "stdout",
     "output_type": "stream",
     "text": [
      "[(0,\n",
      "  '0.019*\"good\" + 0.018*\"food\" + 0.015*\"service\" + 0.012*\"go\" + 0.012*\"great\" '\n",
      "  '+ 0.010*\"back\" + 0.010*\"place\" + 0.007*\"come\" + 0.007*\"get\" + '\n",
      "  '0.006*\"never\"'),\n",
      " (1,\n",
      "  '0.021*\"place\" + 0.016*\"food\" + 0.011*\"good\" + 0.010*\"great\" + 0.009*\"like\" '\n",
      "  '+ 0.009*\"service\" + 0.009*\"time\" + 0.009*\"go\" + 0.007*\"back\" + 0.006*\"get\"')]\n"
     ]
    }
   ],
   "source": [
    "topics = 2\n",
    "lda_model = gensim.models.LdaMulticore(corpus=corpus,id2word=dictionary, num_topics=topics)\n",
    "model_result = lda_model[corpus]\n",
    "\n",
    "pprint(lda_model.print_topics()[:4])"
   ]
  },
  {
   "cell_type": "markdown",
   "id": "3badcb4d",
   "metadata": {},
   "source": [
    "#### Review model output"
   ]
  },
  {
   "cell_type": "code",
   "execution_count": 9,
   "id": "24d71180",
   "metadata": {},
   "outputs": [
    {
     "name": "stdout",
     "output_type": "stream",
     "text": [
      "['wow', '...', 'love', 'place']\n"
     ]
    },
    {
     "name": "stderr",
     "output_type": "stream",
     "text": [
      "c:\\users\\ay_de\\appdata\\local\\programs\\python\\python37\\lib\\site-packages\\ipykernel\\ipkernel.py:283: DeprecationWarning: `should_run_async` will not call `transform_cell` automatically in the future. Please pass the result to `transformed_cell` argument and any exception that happen during thetransform in `preprocessing_exc_tuple` in IPython 7.17 and above.\n",
      "  and should_run_async(code)\n"
     ]
    },
    {
     "data": {
      "text/plain": [
       "[(0, 0.18448327), (1, 0.81551677)]"
      ]
     },
     "execution_count": 9,
     "metadata": {},
     "output_type": "execute_result"
    }
   ],
   "source": [
    "print(reviews_data['reviews_tokenized'][0])\n",
    "model_result[0]"
   ]
  },
  {
   "cell_type": "markdown",
   "id": "4112b81c",
   "metadata": {},
   "source": [
    "#### Visualise Topics"
   ]
  },
  {
   "cell_type": "code",
   "execution_count": 10,
   "id": "04997db4",
   "metadata": {
    "scrolled": false
   },
   "outputs": [
    {
     "name": "stderr",
     "output_type": "stream",
     "text": [
      "c:\\users\\ay_de\\appdata\\local\\programs\\python\\python37\\lib\\site-packages\\ipykernel\\ipkernel.py:283: DeprecationWarning: `should_run_async` will not call `transform_cell` automatically in the future. Please pass the result to `transformed_cell` argument and any exception that happen during thetransform in `preprocessing_exc_tuple` in IPython 7.17 and above.\n",
      "  and should_run_async(code)\n"
     ]
    },
    {
     "data": {
      "text/html": [
       "\n",
       "<link rel=\"stylesheet\" type=\"text/css\" href=\"https://cdn.jsdelivr.net/gh/bmabey/pyLDAvis@3.3.1/pyLDAvis/js/ldavis.v1.0.0.css\">\n",
       "\n",
       "\n",
       "<div id=\"ldavis_el1924826470504444968914470462\"></div>\n",
       "<script type=\"text/javascript\">\n",
       "\n",
       "var ldavis_el1924826470504444968914470462_data = {\"mdsDat\": {\"x\": [0.02012027337342025, -0.02012027337342025], \"y\": [0.0, 0.0], \"topics\": [1, 2], \"cluster\": [1, 1], \"Freq\": [51.37524468910674, 48.62475531089326]}, \"tinfo\": {\"Term\": [\"place\", \"never\", \"wait\", \"much\", \"like\", \"breakfast\", \"friendly\", \"good\", \"friend\", \"come\", \"well\", \"bad\", \"one\", \"u\", \"taste\", \"price\", \"delicious\", \"every\", \"service\", \"try\", \"side\", \"make\", \"enough\", \"flavor\", \"``\", \"order\", \"way\", \"seriously\", \"ambiance\", \"best\", \"every\", \"much\", \"never\", \"ordered\", \"show\", \"subway\", \"side\", \"bug\", \"focus\", \"thin\", \"overcook\", \"gold\", \"outside\", \"return\", \"opportunity\", \"wait\", \"happy\", \"waiter\", \"help\", \"cocktail\", \"u\", \"watch\", \"flavor\", \"consider\", \"puree\", \"business\", \"today\", \"stuffed\", \"friendly\", \"poor\", \"waitress\", \"delicious\", \"hour\", \"come\", \"make\", \"another\", \"good\", \"``\", \"service\", \"thing\", \"table\", \"slow\", \"minute\", \"around\", \"go\", \"back\", \"experience\", \"food\", \"great\", \"sushi\", \"dish\", \"nice\", \"would\", \"get\", \"eat\", \"definitely\", \"could\", \"place\", \"time\", \"restaurant\", \"also\", \"ever\", \"love\", \"like\", \"really\", \"breakfast\", \"friend\", \"ambiance\", \"three\", \"frozen\", \"sugary\", \"seriously\", \"delight\", \"authentic\", \"year\", \"bloody\", \"talk\", \"horrible\", \"die\", \"heart\", \"enough\", \"multiple\", \"yummy\", \"cow\", \"establishment\", \"choose\", \"last\", \"overprice\", \"min\", \"plate\", \"recommendation\", \"brick\", \"late\", \"customer\", \"pan\", \"quite\", \"grill\", \"place\", \"well\", \"try\", \"price\", \"taste\", \"sandwich\", \"one\", \"bad\", \"like\", \"selection\", \"way\", \"order\", \"want\", \"best\", \"time\", \"deal\", \"beer\", \"really\", \"say\", \"food\", \"think\", \"amaze\", \"...\", \"great\", \"love\", \"get\", \"'s\", \"go\", \"good\", \"service\", \"ever\", \"back\", \"would\", \"staff\", \"restaurant\", \"even\", \"also\", \"nice\"], \"Freq\": [75.0, 20.0, 19.0, 12.0, 34.0, 7.0, 20.0, 74.0, 7.0, 27.0, 17.0, 21.0, 19.0, 13.0, 16.0, 15.0, 18.0, 6.0, 61.0, 12.0, 8.0, 18.0, 8.0, 9.0, 19.0, 18.0, 12.0, 5.0, 4.0, 22.0, 5.754066293028347, 10.076216498922957, 16.664478705113623, 2.463104196937865, 1.8286181320949377, 1.8245415790252797, 6.681791733739329, 1.8173505684228644, 1.8170395910999586, 2.417426493834566, 1.8072474319861231, 1.8009837624093024, 2.393839060330693, 3.584270829874579, 1.7918267042129468, 15.519925005986046, 5.345596823858546, 4.129377206925386, 2.3560485158019313, 1.764445438033564, 9.994987046245306, 2.341837849448498, 7.6059190247841135, 3.509446180310966, 1.74109373078029, 2.890255878107083, 2.8806687706099545, 1.717048746579741, 15.407037517852915, 3.993803484877211, 5.703710934916362, 13.253268417608478, 5.102008196162384, 19.35838126516065, 12.998856932878393, 5.598936660787831, 48.189993697916506, 13.829532062938812, 38.72631730101225, 7.0590317056887155, 7.004831591986828, 6.006176122470531, 9.887028050028551, 4.476324844607058, 31.432393452995637, 25.465603560442542, 10.199239006979289, 46.29691607148863, 30.33831660166305, 6.856979856626992, 8.881975937153044, 12.36253870086334, 15.388598889645785, 17.004121548944997, 10.510365018750988, 9.030989984256218, 8.100871015462229, 25.095585878155745, 16.025743976816788, 10.435541880253083, 10.169755092865875, 10.527252689114432, 10.569978374248688, 11.714156120227873, 10.081343242660349, 6.346219120469317, 6.181654333758548, 3.5987822982697346, 1.7903017201949794, 2.3689676174535257, 1.7732296688696179, 4.091785315478661, 2.3282714888721427, 4.068231030391984, 3.466451482624115, 1.7318832431693665, 2.307362155383519, 3.398517100738565, 1.6982288298379757, 2.820192012372533, 6.165846979469068, 1.680945542786956, 2.237345449756882, 1.6778593845445857, 2.783555700002567, 1.6660098755305746, 3.8730735327295758, 3.3158305420746426, 1.6575890498523338, 1.656774426498678, 2.203991800630677, 1.6518097433703753, 1.650482118968692, 3.8482252321752233, 1.0975106808094255, 4.370636209657825, 2.1919111765640835, 50.624132174485, 12.117985759870757, 9.029428268662572, 10.512915746500092, 11.476951549248595, 5.334965482757749, 13.35205547474911, 14.309482759954472, 22.371564102293426, 6.807004756554987, 8.179119377927268, 11.826611461796539, 7.190980677875687, 14.064849765064109, 21.93038834959257, 4.759659763816293, 5.220094436820876, 14.955154145369285, 10.363503297407501, 40.50932926806652, 8.038495021502417, 6.395574197601805, 11.058481134263046, 24.518760236852483, 12.229264225287293, 15.727679091303608, 8.482720463176829, 21.204659625270434, 26.66691057910388, 22.362626128081686, 10.770571273709713, 16.501954562141155, 12.044718855800443, 8.490098410783641, 9.359765475440547, 8.229615728648621, 8.868113966428961, 8.236013725549807], \"Total\": [75.0, 20.0, 19.0, 12.0, 34.0, 7.0, 20.0, 74.0, 7.0, 27.0, 17.0, 21.0, 19.0, 13.0, 16.0, 15.0, 18.0, 6.0, 61.0, 12.0, 8.0, 18.0, 8.0, 9.0, 19.0, 18.0, 12.0, 5.0, 4.0, 22.0, 6.9115930193626856, 12.282740696976946, 20.717481026948025, 3.0692303094817714, 2.3015265821856365, 2.301441483325456, 8.437705936791325, 2.301197189103183, 2.3011518653756804, 3.0679846897625023, 2.3009298859747864, 2.3007791809354154, 3.067418017395023, 4.600698956272703, 2.3004977774061466, 19.935649531341497, 6.900010307758544, 5.365924972865676, 3.0662851662389263, 2.299771864051004, 13.030805684241738, 3.065948196335594, 9.96371660575755, 4.598799329261336, 2.299046942568344, 3.8314728593567198, 3.8311727584264235, 2.298412618892866, 20.682966262216045, 5.3621747860847115, 7.660134608092231, 18.37260241217315, 6.89369160108694, 27.544513611973077, 18.364937137690458, 7.657638469869654, 74.85690427702039, 19.889054676880853, 61.08894342909394, 9.94861915896733, 9.947061791227608, 8.41894147255578, 14.528255365037055, 6.125969600560361, 52.63705307826607, 41.967558122583696, 15.28665795781004, 86.80624533955515, 54.85707683851553, 9.942812020828987, 13.750056977944979, 20.598552426413146, 27.433317745446228, 32.73180064024861, 17.545395666294212, 14.504468896349639, 12.978189793553906, 75.71971805264074, 37.95613232640936, 19.79530735569363, 19.037869059294835, 21.297823962824147, 22.79924259953598, 34.0857202225213, 25.036497388029634, 7.535677990356483, 7.54056660550798, 4.527441199822433, 2.264173437593543, 3.019282700024193, 2.2646033048423218, 5.285100727268258, 3.020464850927476, 5.2857693543693625, 4.5310514462988385, 2.2657026771303825, 3.021043174033541, 4.533127231968268, 2.266742899126574, 3.7779754966130525, 8.312484302886881, 2.2671618224094177, 3.0230010969368295, 2.267288605407387, 3.779076161492465, 2.267587573597136, 5.291371442374366, 4.535529387802705, 2.2678641399265818, 2.2678904246399676, 3.023907916183377, 2.2680626849425924, 2.2681028772206684, 5.291955133234826, 1.5122515259911633, 6.04865216458946, 3.024262380708892, 75.71971805264074, 17.402849226328115, 12.860191994525952, 15.133064127500015, 16.64855157442443, 7.56459189487131, 19.68169818042335, 21.198008228748197, 34.0857202225213, 9.837327359489294, 12.112714751843729, 18.18166545728538, 10.598259172406093, 22.747819557198426, 37.95613232640936, 6.809272464700596, 7.567645323501846, 25.036497388029634, 16.680590860319057, 86.80624533955515, 12.888610075045284, 9.848870385020028, 19.74663690391055, 54.85707683851553, 22.79924259953598, 32.73180064024861, 14.41921409269137, 52.63705307826607, 74.85690427702039, 61.08894342909394, 21.297823962824147, 41.967558122583696, 27.433317745446228, 15.189860342360321, 19.79530735569363, 15.197883761462371, 19.037869059294835, 20.598552426413146], \"Category\": [\"Default\", \"Default\", \"Default\", \"Default\", \"Default\", \"Default\", \"Default\", \"Default\", \"Default\", \"Default\", \"Default\", \"Default\", \"Default\", \"Default\", \"Default\", \"Default\", \"Default\", \"Default\", \"Default\", \"Default\", \"Default\", \"Default\", \"Default\", \"Default\", \"Default\", \"Default\", \"Default\", \"Default\", \"Default\", \"Default\", \"Topic1\", \"Topic1\", \"Topic1\", \"Topic1\", \"Topic1\", \"Topic1\", \"Topic1\", \"Topic1\", \"Topic1\", \"Topic1\", \"Topic1\", \"Topic1\", \"Topic1\", \"Topic1\", \"Topic1\", \"Topic1\", \"Topic1\", \"Topic1\", \"Topic1\", \"Topic1\", \"Topic1\", \"Topic1\", \"Topic1\", \"Topic1\", \"Topic1\", \"Topic1\", \"Topic1\", \"Topic1\", \"Topic1\", \"Topic1\", \"Topic1\", \"Topic1\", \"Topic1\", \"Topic1\", \"Topic1\", \"Topic1\", \"Topic1\", \"Topic1\", \"Topic1\", \"Topic1\", \"Topic1\", \"Topic1\", \"Topic1\", \"Topic1\", \"Topic1\", \"Topic1\", \"Topic1\", \"Topic1\", \"Topic1\", \"Topic1\", \"Topic1\", \"Topic1\", \"Topic1\", \"Topic1\", \"Topic1\", \"Topic1\", \"Topic1\", \"Topic1\", \"Topic1\", \"Topic1\", \"Topic1\", \"Topic1\", \"Topic1\", \"Topic1\", \"Topic1\", \"Topic2\", \"Topic2\", \"Topic2\", \"Topic2\", \"Topic2\", \"Topic2\", \"Topic2\", \"Topic2\", \"Topic2\", \"Topic2\", \"Topic2\", \"Topic2\", \"Topic2\", \"Topic2\", \"Topic2\", \"Topic2\", \"Topic2\", \"Topic2\", \"Topic2\", \"Topic2\", \"Topic2\", \"Topic2\", \"Topic2\", \"Topic2\", \"Topic2\", \"Topic2\", \"Topic2\", \"Topic2\", \"Topic2\", \"Topic2\", \"Topic2\", \"Topic2\", \"Topic2\", \"Topic2\", \"Topic2\", \"Topic2\", \"Topic2\", \"Topic2\", \"Topic2\", \"Topic2\", \"Topic2\", \"Topic2\", \"Topic2\", \"Topic2\", \"Topic2\", \"Topic2\", \"Topic2\", \"Topic2\", \"Topic2\", \"Topic2\", \"Topic2\", \"Topic2\", \"Topic2\", \"Topic2\", \"Topic2\", \"Topic2\", \"Topic2\", \"Topic2\", \"Topic2\", \"Topic2\", \"Topic2\", \"Topic2\", \"Topic2\", \"Topic2\", \"Topic2\", \"Topic2\", \"Topic2\", \"Topic2\", \"Topic2\", \"Topic2\"], \"logprob\": [30.0, 29.0, 28.0, 27.0, 26.0, 25.0, 24.0, 23.0, 22.0, 21.0, 20.0, 19.0, 18.0, 17.0, 16.0, 15.0, 14.0, 13.0, 12.0, 11.0, 10.0, 9.0, 8.0, 7.0, 6.0, 5.0, 4.0, 3.0, 2.0, 1.0, -6.1118, -5.5515, -5.0484, -6.9603, -7.2582, -7.2604, -5.9623, -7.2643, -7.2645, -6.979, -7.2699, -7.2734, -6.9888, -6.5852, -7.2785, -5.1196, -6.1855, -6.4436, -7.0047, -7.2939, -5.5596, -7.0108, -5.8328, -6.6063, -7.3072, -6.8004, -6.8037, -7.3211, -5.1269, -6.477, -6.1206, -5.2775, -6.2321, -4.8986, -5.2969, -6.1391, -3.9866, -5.2349, -4.2052, -5.9074, -5.9151, -6.0689, -5.5705, -6.3629, -4.4139, -4.6244, -5.5394, -4.0266, -4.4493, -5.9365, -5.6777, -5.3471, -5.1281, -5.0283, -5.5094, -5.6611, -5.7698, -4.639, -5.0875, -5.5165, -5.5423, -5.5078, -5.5037, -5.4009, -5.551, -5.9588, -5.9851, -6.5261, -7.2243, -6.9442, -7.2339, -6.3977, -6.9616, -6.4035, -6.5636, -7.2575, -6.9706, -6.5834, -7.2771, -6.7699, -5.9877, -7.2873, -7.0014, -7.2892, -6.783, -7.2963, -6.4527, -6.608, -7.3013, -7.3018, -7.0164, -7.3048, -7.3056, -6.4591, -7.7137, -6.3318, -7.0219, -3.8823, -5.312, -5.6062, -5.4541, -5.3664, -6.1324, -5.215, -5.1458, -4.6989, -5.8887, -5.7051, -5.3363, -5.8339, -5.163, -4.7188, -6.2465, -6.1542, -5.1016, -5.4684, -4.1052, -5.7225, -5.9511, -5.4035, -4.6073, -5.3029, -5.0513, -5.6687, -4.7525, -4.5233, -4.6993, -5.4299, -5.0032, -5.3181, -5.6678, -5.5703, -5.699, -5.6242, -5.6982], \"loglift\": [30.0, 29.0, 28.0, 27.0, 26.0, 25.0, 24.0, 23.0, 22.0, 21.0, 20.0, 19.0, 18.0, 17.0, 16.0, 15.0, 14.0, 13.0, 12.0, 11.0, 10.0, 9.0, 8.0, 7.0, 6.0, 5.0, 4.0, 3.0, 2.0, 1.0, 0.4827, 0.468, 0.4483, 0.446, 0.436, 0.4338, 0.4327, 0.43, 0.4298, 0.4277, 0.4245, 0.4211, 0.4181, 0.4164, 0.4161, 0.4156, 0.4108, 0.4041, 0.4025, 0.401, 0.4008, 0.3966, 0.396, 0.3957, 0.388, 0.3841, 0.3809, 0.3744, 0.3715, 0.3714, 0.3711, 0.3394, 0.365, 0.3133, 0.3204, 0.3529, 0.2256, 0.3027, 0.2102, 0.3229, 0.3153, 0.3283, 0.2811, 0.3523, 0.1504, 0.1664, 0.2613, 0.0374, 0.0737, 0.2944, 0.229, 0.1555, 0.0879, 0.0111, 0.1536, 0.1922, 0.1947, -0.4383, -0.1962, 0.0258, 0.039, -0.0386, -0.1027, -0.4021, -0.2436, 0.5492, 0.5223, 0.4915, 0.4862, 0.4785, 0.4764, 0.4651, 0.4608, 0.4592, 0.4532, 0.4524, 0.4515, 0.433, 0.4323, 0.4287, 0.4223, 0.4219, 0.4201, 0.42, 0.4153, 0.4128, 0.409, 0.4078, 0.4076, 0.4071, 0.4048, 0.404, 0.4032, 0.4025, 0.4005, 0.3961, 0.3991, 0.3184, 0.3591, 0.3674, 0.3568, 0.3491, 0.3718, 0.333, 0.3281, 0.2999, 0.3528, 0.3284, 0.291, 0.3332, 0.2402, 0.1725, 0.3629, 0.3497, 0.2058, 0.2451, -0.0411, 0.2489, 0.2893, 0.1413, -0.0843, 0.0981, -0.0119, 0.1905, -0.1882, -0.3111, -0.2839, 0.0393, -0.2124, -0.1021, 0.1393, -0.028, 0.1076, -0.0429, -0.1957]}, \"token.table\": {\"Topic\": [1, 2, 1, 2, 1, 2, 1, 2, 1, 2, 1, 2, 1, 2, 1, 2, 1, 2, 1, 2, 1, 2, 1, 2, 1, 2, 1, 2, 1, 2, 1, 2, 1, 1, 2, 1, 2, 1, 2, 1, 2, 1, 2, 1, 2, 1, 2, 1, 2, 1, 2, 1, 2, 1, 2, 1, 2, 1, 2, 1, 2, 1, 2, 1, 2, 1, 2, 1, 2, 1, 2, 1, 2, 1, 2, 1, 2, 1, 1, 2, 1, 2, 1, 2, 1, 2, 1, 2, 1, 2, 1, 1, 2, 1, 2, 1, 2, 1, 2, 1, 2, 1, 2, 1, 2, 1, 2, 1, 2, 1, 2, 1, 2, 1, 2, 1, 2, 1, 2, 1, 2, 1, 2, 1, 2, 1, 2, 1, 2, 1, 2, 1, 2, 1, 2, 1, 2, 1, 2, 1, 1, 2, 2, 1, 2, 1, 2, 1, 2, 1, 2, 1, 2, 1, 2, 1, 2, 1, 2, 1, 2, 1, 2, 1, 2, 1, 2, 1, 2, 1, 2, 1, 2, 1, 1, 2, 1, 2, 1, 2, 1, 2, 1, 2, 1, 2, 1, 2, 1, 2, 1, 2, 1, 2, 1, 2, 1, 2, 2, 1, 2, 1, 2, 1, 2, 1, 2, 1, 2, 1, 2, 1, 2, 1, 2, 1, 2, 1, 2, 1, 2, 1, 2, 1, 2, 1, 2], \"Freq\": [0.4161114441765037, 0.5548152589020049, 0.4557738132217175, 0.5570568828265436, 0.7039047469799395, 0.30167346299140263, 0.5252688716817134, 0.47274198451354205, 0.304603460368709, 0.609206920737418, 0.2208753147449425, 0.88350125897977, 0.7835313750587823, 0.2611771250195941, 0.6529578598682743, 0.32647892993413713, 0.18918721816217207, 0.7567488726486883, 0.5956982278305807, 0.40507479492479487, 0.33021970387325256, 0.6604394077465051, 0.26428299880662504, 0.6607074970165626, 0.3956423154038954, 0.6154436017393928, 0.4413641781394487, 0.8827283562788975, 0.1327020609532035, 0.7962123657192209, 0.44090492147279925, 0.8818098429455985, 0.8691128293874872, 0.7829887122060109, 0.2609962374020036, 0.4409973011157725, 0.881994602231545, 0.8696514777239854, 0.4348257388619927, 0.689792539728894, 0.29043896409637643, 0.8697922465432916, 0.2174480616358229, 0.6164187862296091, 0.3852617413935057, 0.44105545170343224, 0.8821109034068645, 0.1889660767756222, 0.7558643071024888, 0.2937171350343285, 0.7342928375858213, 0.6204984177162836, 0.34472134317571307, 0.7075753183112795, 0.272144353196646, 0.3310748673976246, 0.6621497347952492, 0.4411616334544699, 0.8823232669089398, 0.6545427422181562, 0.36363485678786456, 0.626945109088174, 0.3989650694197471, 0.24060195810600338, 0.7218058743180101, 0.2646149368963952, 0.7938448106891856, 0.46059044205549615, 0.5263890766348527, 0.5164846896659846, 0.5164846896659846, 0.86810666993718, 0.14468444498953, 0.6541652222218358, 0.3270826111109179, 0.8029132417693601, 0.20072831044234002, 0.8691299475245563, 0.529915789123978, 0.4723162468278934, 0.13261602904873934, 0.795696174292436, 0.7252344663638612, 0.2417448221212871, 0.3312044943628456, 0.6624089887256912, 0.5193725877425752, 0.4888212590518355, 0.5889387453721255, 0.3989585049295044, 0.8692707307908057, 0.6412234177139898, 0.36068817246411927, 0.5468756581454737, 0.45572971512122806, 0.33065914068130503, 0.6613182813626101, 0.7246365986407115, 0.2898546394562846, 0.2646920290765512, 0.7940760872296535, 0.652255055081253, 0.3261275275406265, 0.22059826447134676, 0.6617947934140402, 0.7253007951808639, 0.29012031807234556, 0.18898692161200384, 0.7559476864480154, 0.4408971083469544, 0.8817942166939088, 0.35205358495172107, 0.6454315724114886, 0.482472167747532, 0.5263332739063985, 0.7078706506062594, 0.272257942540869, 0.44094352143703514, 0.8818870428740703, 0.6883138923938164, 0.3441569461969082, 0.8141505423509608, 0.1628301084701922, 0.44108011616799975, 0.8821602323359995, 0.8205630780058369, 0.1930736654131381, 0.5825652090295733, 0.3883768060197156, 0.30485174322853786, 0.6605121103284987, 0.8693770624960293, 0.43468853124801465, 0.3300027719735545, 0.660005543947109, 0.6516291702911317, 0.3258145851455658, 0.6520141658744255, 0.32600708293721276, 0.8692137957748775, 0.22048142884693395, 0.6614442865408019, 0.6612656577381053, 0.33016499061208693, 0.6735365808486573, 0.44093841092818764, 0.8818768218563753, 0.745965985737789, 0.18649149643444726, 0.3304023532758267, 0.7268851772068187, 0.8699256909324921, 0.43496284546624603, 0.33065217598534963, 0.6613043519706993, 0.3994168930667261, 0.5991253396000892, 0.33069790076880023, 0.6613958015376005, 0.5051702315257938, 0.45465320837321443, 0.8694331096248548, 0.2173582774062137, 0.26438967597921215, 0.6609741899480304, 0.3596994884799444, 0.599499147466574, 0.3049608791463198, 0.7115753846747462, 0.1892111525595986, 0.7568446102383944, 0.6384133987399435, 0.3601306351866348, 0.8689884424887707, 0.8296093810851564, 0.23703125173861608, 0.7126786686377272, 0.23755955621257574, 0.4608337300165253, 0.526667120018886, 0.8701657759621029, 0.43508288798105144, 0.8690205744923439, 0.8831568847945555, 0.7040261834716224, 0.3017255072021239, 0.7037253961942164, 0.30159659836894986, 0.33101148920849466, 0.6620229784169893, 0.3003264264550809, 0.660718138201178, 0.6518937355436488, 0.3259468677718244, 0.7036152342499159, 0.30154938610710685, 0.38793942643054413, 0.6207030822888706, 0.8833245575593724, 0.4215392617563254, 0.5796164849149474, 0.7830500447680645, 0.2610166815893548, 0.3110373470087098, 0.699834030769597, 0.7674122569484007, 0.23022367708452018, 0.8025823274454073, 0.2006455818613518, 0.7454446381988449, 0.18636115954971122, 0.7832760528335297, 0.26109201761117656, 0.2830653554699699, 0.6604858294299298, 0.6523267426339394, 0.3261633713169697, 0.3302315031724117, 0.6604630063448234, 0.287309275336115, 0.6895422608066759, 0.5467803835899474, 0.43742430687195794, 0.2206993259405262, 0.6620979778215786, 0.3307971012690958, 0.6615942025381916], \"Term\": [\"'s\", \"'s\", \"...\", \"...\", \"``\", \"``\", \"also\", \"also\", \"amaze\", \"amaze\", \"ambiance\", \"ambiance\", \"another\", \"another\", \"around\", \"around\", \"authentic\", \"authentic\", \"back\", \"back\", \"bad\", \"bad\", \"beer\", \"beer\", \"best\", \"best\", \"bloody\", \"bloody\", \"breakfast\", \"breakfast\", \"brick\", \"brick\", \"bug\", \"business\", \"business\", \"choose\", \"choose\", \"cocktail\", \"cocktail\", \"come\", \"come\", \"consider\", \"consider\", \"could\", \"could\", \"cow\", \"cow\", \"customer\", \"customer\", \"deal\", \"deal\", \"definitely\", \"definitely\", \"delicious\", \"delicious\", \"delight\", \"delight\", \"die\", \"die\", \"dish\", \"dish\", \"eat\", \"eat\", \"enough\", \"enough\", \"establishment\", \"establishment\", \"even\", \"even\", \"ever\", \"ever\", \"every\", \"every\", \"experience\", \"experience\", \"flavor\", \"flavor\", \"focus\", \"food\", \"food\", \"friend\", \"friend\", \"friendly\", \"friendly\", \"frozen\", \"frozen\", \"get\", \"get\", \"go\", \"go\", \"gold\", \"good\", \"good\", \"great\", \"great\", \"grill\", \"grill\", \"happy\", \"happy\", \"heart\", \"heart\", \"help\", \"help\", \"horrible\", \"horrible\", \"hour\", \"hour\", \"last\", \"last\", \"late\", \"late\", \"like\", \"like\", \"love\", \"love\", \"make\", \"make\", \"min\", \"min\", \"minute\", \"minute\", \"much\", \"much\", \"multiple\", \"multiple\", \"never\", \"never\", \"nice\", \"nice\", \"one\", \"one\", \"opportunity\", \"opportunity\", \"order\", \"order\", \"ordered\", \"ordered\", \"outside\", \"outside\", \"overcook\", \"overprice\", \"overprice\", \"pan\", \"place\", \"place\", \"plate\", \"plate\", \"poor\", \"poor\", \"price\", \"price\", \"puree\", \"puree\", \"quite\", \"quite\", \"really\", \"really\", \"recommendation\", \"recommendation\", \"restaurant\", \"restaurant\", \"return\", \"return\", \"sandwich\", \"sandwich\", \"say\", \"say\", \"selection\", \"selection\", \"seriously\", \"seriously\", \"service\", \"service\", \"show\", \"side\", \"side\", \"slow\", \"slow\", \"staff\", \"staff\", \"stuffed\", \"stuffed\", \"subway\", \"sugary\", \"sushi\", \"sushi\", \"table\", \"table\", \"talk\", \"talk\", \"taste\", \"taste\", \"thin\", \"thin\", \"thing\", \"thing\", \"think\", \"think\", \"three\", \"time\", \"time\", \"today\", \"today\", \"try\", \"try\", \"u\", \"u\", \"wait\", \"wait\", \"waiter\", \"waiter\", \"waitress\", \"waitress\", \"want\", \"want\", \"watch\", \"watch\", \"way\", \"way\", \"well\", \"well\", \"would\", \"would\", \"year\", \"year\", \"yummy\", \"yummy\"]}, \"R\": 30, \"lambda.step\": 0.01, \"plot.opts\": {\"xlab\": \"PC1\", \"ylab\": \"PC2\"}, \"topic.order\": [1, 2]};\n",
       "\n",
       "function LDAvis_load_lib(url, callback){\n",
       "  var s = document.createElement('script');\n",
       "  s.src = url;\n",
       "  s.async = true;\n",
       "  s.onreadystatechange = s.onload = callback;\n",
       "  s.onerror = function(){console.warn(\"failed to load library \" + url);};\n",
       "  document.getElementsByTagName(\"head\")[0].appendChild(s);\n",
       "}\n",
       "\n",
       "if(typeof(LDAvis) !== \"undefined\"){\n",
       "   // already loaded: just create the visualization\n",
       "   !function(LDAvis){\n",
       "       new LDAvis(\"#\" + \"ldavis_el1924826470504444968914470462\", ldavis_el1924826470504444968914470462_data);\n",
       "   }(LDAvis);\n",
       "}else if(typeof define === \"function\" && define.amd){\n",
       "   // require.js is available: use it to load d3/LDAvis\n",
       "   require.config({paths: {d3: \"https://d3js.org/d3.v5\"}});\n",
       "   require([\"d3\"], function(d3){\n",
       "      window.d3 = d3;\n",
       "      LDAvis_load_lib(\"https://cdn.jsdelivr.net/gh/bmabey/pyLDAvis@3.3.1/pyLDAvis/js/ldavis.v3.0.0.js\", function(){\n",
       "        new LDAvis(\"#\" + \"ldavis_el1924826470504444968914470462\", ldavis_el1924826470504444968914470462_data);\n",
       "      });\n",
       "    });\n",
       "}else{\n",
       "    // require.js not available: dynamically load d3 & LDAvis\n",
       "    LDAvis_load_lib(\"https://d3js.org/d3.v5.js\", function(){\n",
       "         LDAvis_load_lib(\"https://cdn.jsdelivr.net/gh/bmabey/pyLDAvis@3.3.1/pyLDAvis/js/ldavis.v3.0.0.js\", function(){\n",
       "                 new LDAvis(\"#\" + \"ldavis_el1924826470504444968914470462\", ldavis_el1924826470504444968914470462_data);\n",
       "            })\n",
       "         });\n",
       "}\n",
       "</script>"
      ],
      "text/plain": [
       "<IPython.core.display.HTML object>"
      ]
     },
     "execution_count": 10,
     "metadata": {},
     "output_type": "execute_result"
    }
   ],
   "source": [
    "lda_visuals = pyLDAvis.gensim_models.prepare(lda_model, corpus, dictionary)\n",
    "pyLDAvis.display(lda_visuals)"
   ]
  },
  {
   "cell_type": "markdown",
   "id": "b6f33ba1",
   "metadata": {},
   "source": [
    "#### Add model results to original dataframe"
   ]
  },
  {
   "cell_type": "code",
   "execution_count": 11,
   "id": "c4369789",
   "metadata": {},
   "outputs": [
    {
     "name": "stderr",
     "output_type": "stream",
     "text": [
      "c:\\users\\ay_de\\appdata\\local\\programs\\python\\python37\\lib\\site-packages\\ipykernel\\ipkernel.py:283: DeprecationWarning: `should_run_async` will not call `transform_cell` automatically in the future. Please pass the result to `transformed_cell` argument and any exception that happen during thetransform in `preprocessing_exc_tuple` in IPython 7.17 and above.\n",
      "  and should_run_async(code)\n"
     ]
    }
   ],
   "source": [
    "reviews_data['reviews_topics'] = [sorted(lda_model[corpus][i], key=lambda x: x[1], reverse=True)[0][0] for i in range(len(reviews_data['reviews_tokenized']))]"
   ]
  },
  {
   "cell_type": "code",
   "execution_count": 12,
   "id": "469970a9",
   "metadata": {},
   "outputs": [
    {
     "name": "stderr",
     "output_type": "stream",
     "text": [
      "c:\\users\\ay_de\\appdata\\local\\programs\\python\\python37\\lib\\site-packages\\ipykernel\\ipkernel.py:283: DeprecationWarning: `should_run_async` will not call `transform_cell` automatically in the future. Please pass the result to `transformed_cell` argument and any exception that happen during thetransform in `preprocessing_exc_tuple` in IPython 7.17 and above.\n",
      "  and should_run_async(code)\n"
     ]
    },
    {
     "data": {
      "text/plain": [
       "0    469\n",
       "1    430\n",
       "Name: reviews_topics, dtype: int64"
      ]
     },
     "execution_count": 12,
     "metadata": {},
     "output_type": "execute_result"
    }
   ],
   "source": [
    "reviews_data['reviews_topics'].value_counts()"
   ]
  }
 ],
 "metadata": {
  "kernelspec": {
   "display_name": "Python 3",
   "language": "python",
   "name": "python3"
  },
  "language_info": {
   "codemirror_mode": {
    "name": "ipython",
    "version": 3
   },
   "file_extension": ".py",
   "mimetype": "text/x-python",
   "name": "python",
   "nbconvert_exporter": "python",
   "pygments_lexer": "ipython3",
   "version": "3.7.1"
  }
 },
 "nbformat": 4,
 "nbformat_minor": 5
}

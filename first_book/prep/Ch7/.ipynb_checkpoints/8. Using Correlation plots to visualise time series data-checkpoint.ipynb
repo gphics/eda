{
 "cells": [
  {
   "cell_type": "markdown",
   "id": "2dbc33b1",
   "metadata": {},
   "source": [
    "#### Import relevant libraries"
   ]
  },
  {
   "cell_type": "code",
   "execution_count": 1,
   "id": "0ae67507",
   "metadata": {},
   "outputs": [],
   "source": [
    "import numpy as np\n",
    "import pandas as pd\n",
    "import matplotlib.pyplot as plt\n",
    "import seaborn as sns\n",
    "from statsmodels.tsa.stattools import acf, pacf\n",
    "from statsmodels.graphics.tsaplots import plot_acf, plot_pacf"
   ]
  },
  {
   "cell_type": "markdown",
   "id": "a2050fe1",
   "metadata": {},
   "source": [
    "#### Load dataset"
   ]
  },
  {
   "cell_type": "code",
   "execution_count": 2,
   "id": "3a02fac1",
   "metadata": {},
   "outputs": [],
   "source": [
    "air_traffic_data = pd.read_csv(\"data/SF_Air_Traffic_Passenger_Statistics_Transformed.csv\")"
   ]
  },
  {
   "cell_type": "markdown",
   "id": "128c9ecd",
   "metadata": {},
   "source": [
    "#### Inspect first 5 rows and data types of the dataset"
   ]
  },
  {
   "cell_type": "code",
   "execution_count": 3,
   "id": "1f556097",
   "metadata": {
    "scrolled": true
   },
   "outputs": [
    {
     "data": {
      "text/html": [
       "<div>\n",
       "<style scoped>\n",
       "    .dataframe tbody tr th:only-of-type {\n",
       "        vertical-align: middle;\n",
       "    }\n",
       "\n",
       "    .dataframe tbody tr th {\n",
       "        vertical-align: top;\n",
       "    }\n",
       "\n",
       "    .dataframe thead th {\n",
       "        text-align: right;\n",
       "    }\n",
       "</style>\n",
       "<table border=\"1\" class=\"dataframe\">\n",
       "  <thead>\n",
       "    <tr style=\"text-align: right;\">\n",
       "      <th></th>\n",
       "      <th>Date</th>\n",
       "      <th>Total Passenger Count</th>\n",
       "    </tr>\n",
       "  </thead>\n",
       "  <tbody>\n",
       "    <tr>\n",
       "      <th>0</th>\n",
       "      <td>200601</td>\n",
       "      <td>2448889</td>\n",
       "    </tr>\n",
       "    <tr>\n",
       "      <th>1</th>\n",
       "      <td>200602</td>\n",
       "      <td>2223024</td>\n",
       "    </tr>\n",
       "    <tr>\n",
       "      <th>2</th>\n",
       "      <td>200603</td>\n",
       "      <td>2708778</td>\n",
       "    </tr>\n",
       "    <tr>\n",
       "      <th>3</th>\n",
       "      <td>200604</td>\n",
       "      <td>2773293</td>\n",
       "    </tr>\n",
       "    <tr>\n",
       "      <th>4</th>\n",
       "      <td>200605</td>\n",
       "      <td>2829000</td>\n",
       "    </tr>\n",
       "  </tbody>\n",
       "</table>\n",
       "</div>"
      ],
      "text/plain": [
       "     Date  Total Passenger Count\n",
       "0  200601                2448889\n",
       "1  200602                2223024\n",
       "2  200603                2708778\n",
       "3  200604                2773293\n",
       "4  200605                2829000"
      ]
     },
     "execution_count": 3,
     "metadata": {},
     "output_type": "execute_result"
    }
   ],
   "source": [
    "air_traffic_data.head()"
   ]
  },
  {
   "cell_type": "code",
   "execution_count": 4,
   "id": "bdf17c4b",
   "metadata": {},
   "outputs": [
    {
     "data": {
      "text/plain": [
       "(132, 2)"
      ]
     },
     "execution_count": 4,
     "metadata": {},
     "output_type": "execute_result"
    }
   ],
   "source": [
    "air_traffic_data.shape"
   ]
  },
  {
   "cell_type": "code",
   "execution_count": 5,
   "id": "b3601b62",
   "metadata": {},
   "outputs": [
    {
     "data": {
      "text/plain": [
       "Date                     int64\n",
       "Total Passenger Count    int64\n",
       "dtype: object"
      ]
     },
     "execution_count": 5,
     "metadata": {},
     "output_type": "execute_result"
    }
   ],
   "source": [
    "air_traffic_data.dtypes"
   ]
  },
  {
   "cell_type": "markdown",
   "id": "32043140",
   "metadata": {},
   "source": [
    "#### Transform date int to date"
   ]
  },
  {
   "cell_type": "code",
   "execution_count": 6,
   "id": "592fcb98",
   "metadata": {},
   "outputs": [],
   "source": [
    "air_traffic_data['Date']= pd.to_datetime(air_traffic_data['Date'], format = \"%Y%m\")"
   ]
  },
  {
   "cell_type": "code",
   "execution_count": 7,
   "id": "0a562145",
   "metadata": {},
   "outputs": [
    {
     "data": {
      "text/plain": [
       "Date                     datetime64[ns]\n",
       "Total Passenger Count             int64\n",
       "dtype: object"
      ]
     },
     "execution_count": 7,
     "metadata": {},
     "output_type": "execute_result"
    }
   ],
   "source": [
    "air_traffic_data.dtypes"
   ]
  },
  {
   "cell_type": "markdown",
   "id": "f525a931",
   "metadata": {},
   "source": [
    "#### Set date as index"
   ]
  },
  {
   "cell_type": "code",
   "execution_count": 8,
   "id": "8cdc6f00",
   "metadata": {},
   "outputs": [
    {
     "data": {
      "text/plain": [
       "(132, 1)"
      ]
     },
     "execution_count": 8,
     "metadata": {},
     "output_type": "execute_result"
    }
   ],
   "source": [
    "air_traffic_data.set_index('Date',inplace = True)\n",
    "air_traffic_data.shape"
   ]
  },
  {
   "cell_type": "markdown",
   "id": "9866acfc",
   "metadata": {},
   "source": [
    "#### Compute Autocorrelation"
   ]
  },
  {
   "cell_type": "code",
   "execution_count": 9,
   "id": "52a33fca",
   "metadata": {},
   "outputs": [
    {
     "name": "stdout",
     "output_type": "stream",
     "text": [
      "Lag  0   1.0\n",
      "Lag  1   0.87\n",
      "Lag  2   0.76\n",
      "Lag  3   0.61\n",
      "Lag  4   0.47\n",
      "Lag  5   0.37\n",
      "Lag  6   0.26\n",
      "Lag  7   0.33\n",
      "Lag  8   0.38\n",
      "Lag  9   0.49\n",
      "Lag  10   0.59\n",
      "Lag  11   0.67\n",
      "Lag  12   0.76\n",
      "Lag  13   0.64\n",
      "Lag  14   0.55\n",
      "Lag  15   0.41\n",
      "Lag  16   0.28\n",
      "Lag  17   0.19\n",
      "Lag  18   0.1\n",
      "Lag  19   0.16\n",
      "Lag  20   0.21\n",
      "Lag  21   0.31\n",
      "Lag  22   0.41\n",
      "Lag  23   0.48\n",
      "Lag  24   0.56\n"
     ]
    }
   ],
   "source": [
    "acf_values = acf(air_traffic_data[['Total Passenger Count']],nlags = 24)\n",
    "for i in range(0,25):\n",
    "    print(\"Lag \" ,i, \" \" , np.round(acf_values[i],2))"
   ]
  },
  {
   "cell_type": "markdown",
   "id": "17fcc00e",
   "metadata": {},
   "source": [
    "#### Plot Autocorrelation"
   ]
  },
  {
   "cell_type": "code",
   "execution_count": 10,
   "id": "4bcf1d0b",
   "metadata": {
    "scrolled": false
   },
   "outputs": [
    {
     "data": {
      "image/png": "[encoded data removed]",
      "text/plain": [
       "<Figure size 720x648 with 1 Axes>"
      ]
     },
     "metadata": {
      "needs_background": "light"
     },
     "output_type": "display_data"
    }
   ],
   "source": [
    "fig= plot_acf(air_traffic_data['Total Passenger Count'],lags = 24)\n",
    "fig.set_size_inches((10, 9))\n",
    "plt.show()"
   ]
  },
  {
   "cell_type": "markdown",
   "id": "d875ced4",
   "metadata": {},
   "source": [
    "#### Compute Partial Autocorrelation"
   ]
  },
  {
   "cell_type": "code",
   "execution_count": 11,
   "id": "cfd13be2",
   "metadata": {},
   "outputs": [
    {
     "name": "stdout",
     "output_type": "stream",
     "text": [
      "Lag  0   1.0\n",
      "Lag  1   0.88\n",
      "Lag  2   0.05\n",
      "Lag  3   -0.24\n",
      "Lag  4   -0.13\n",
      "Lag  5   0.21\n",
      "Lag  6   -0.04\n",
      "Lag  7   0.75\n",
      "Lag  8   0.18\n",
      "Lag  9   0.4\n",
      "Lag  10   0.1\n",
      "Lag  11   0.44\n",
      "Lag  12   0.74\n",
      "Lag  13   -0.63\n",
      "Lag  14   -0.19\n",
      "Lag  15   -0.1\n",
      "Lag  16   0.01\n",
      "Lag  17   0.21\n",
      "Lag  18   0.0\n",
      "Lag  19   -0.03\n",
      "Lag  20   0.32\n",
      "Lag  21   0.06\n",
      "Lag  22   0.24\n",
      "Lag  23   0.09\n",
      "Lag  24   0.12\n"
     ]
    }
   ],
   "source": [
    "pacf_values = pacf(air_traffic_data['Total Passenger Count'],nlags=24,method=\"ols\")\n",
    "for i in range(0,25):\n",
    "    print(\"Lag \" ,i, \" \" , np.round(pacf_values[i],2))"
   ]
  },
  {
   "cell_type": "markdown",
   "id": "093653fa",
   "metadata": {},
   "source": [
    "#### Plot Partial Autocorrelation"
   ]
  },
  {
   "cell_type": "code",
   "execution_count": 12,
   "id": "f63e9c69",
   "metadata": {},
   "outputs": [
    {
     "data": {
      "image/png": "[encoded data removed]",
      "text/plain": [
       "<Figure size 720x648 with 1 Axes>"
      ]
     },
     "metadata": {
      "needs_background": "light"
     },
     "output_type": "display_data"
    }
   ],
   "source": [
    "fig = plot_pacf(air_traffic_data['Total Passenger Count'],method = 'ols', lags=24)\n",
    "fig.set_size_inches((10, 9))\n",
    "plt.show()"
   ]
  }
 ],
 "metadata": {
  "kernelspec": {
   "display_name": "Python 3",
   "language": "python",
   "name": "python3"
  },
  "language_info": {
   "codemirror_mode": {
    "name": "ipython",
    "version": 3
   },
   "file_extension": ".py",
   "mimetype": "text/x-python",
   "name": "python",
   "nbconvert_exporter": "python",
   "pygments_lexer": "ipython3",
   "version": "3.7.1"
  }
 },
 "nbformat": 4,
 "nbformat_minor": 5
}

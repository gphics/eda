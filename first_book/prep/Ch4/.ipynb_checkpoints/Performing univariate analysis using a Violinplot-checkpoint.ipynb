{
 "cells": [
  {
   "cell_type": "markdown",
   "id": "2dbc33b1",
   "metadata": {},
   "source": [
    "#### Import relevant libraries"
   ]
  },
  {
   "cell_type": "code",
   "execution_count": 1,
   "id": "0ae67507",
   "metadata": {},
   "outputs": [],
   "source": [
    "import pandas as pd\n",
    "import matplotlib.pyplot as plt\n",
    "import seaborn as sns"
   ]
  },
  {
   "cell_type": "markdown",
   "id": "a2050fe1",
   "metadata": {},
   "source": [
    "#### Load dataset"
   ]
  },
  {
   "cell_type": "code",
   "execution_count": 2,
   "id": "3a02fac1",
   "metadata": {},
   "outputs": [],
   "source": [
    "Houseprices_data = pd.read_csv(\"Data/HousingPricesData.csv\")"
   ]
  },
  {
   "cell_type": "markdown",
   "id": "e81aa501",
   "metadata": {},
   "source": [
    "#### Subset for relevant columns"
   ]
  },
  {
   "cell_type": "code",
   "execution_count": 3,
   "id": "9279d462",
   "metadata": {},
   "outputs": [],
   "source": [
    "Houseprices_data = Houseprices_data[['Zip','Price','Area','Room']]"
   ]
  },
  {
   "cell_type": "markdown",
   "id": "128c9ecd",
   "metadata": {},
   "source": [
    "#### Inspect first 5 rows and data types of the dataset"
   ]
  },
  {
   "cell_type": "code",
   "execution_count": 4,
   "id": "1f556097",
   "metadata": {
    "scrolled": true
   },
   "outputs": [
    {
     "data": {
      "text/html": [
       "<div>\n",
       "<style scoped>\n",
       "    .dataframe tbody tr th:only-of-type {\n",
       "        vertical-align: middle;\n",
       "    }\n",
       "\n",
       "    .dataframe tbody tr th {\n",
       "        vertical-align: top;\n",
       "    }\n",
       "\n",
       "    .dataframe thead th {\n",
       "        text-align: right;\n",
       "    }\n",
       "</style>\n",
       "<table border=\"1\" class=\"dataframe\">\n",
       "  <thead>\n",
       "    <tr style=\"text-align: right;\">\n",
       "      <th></th>\n",
       "      <th>Zip</th>\n",
       "      <th>Price</th>\n",
       "      <th>Area</th>\n",
       "      <th>Room</th>\n",
       "    </tr>\n",
       "  </thead>\n",
       "  <tbody>\n",
       "    <tr>\n",
       "      <th>0</th>\n",
       "      <td>1091 CR</td>\n",
       "      <td>685000.0</td>\n",
       "      <td>64</td>\n",
       "      <td>3</td>\n",
       "    </tr>\n",
       "    <tr>\n",
       "      <th>1</th>\n",
       "      <td>1059 EL</td>\n",
       "      <td>475000.0</td>\n",
       "      <td>60</td>\n",
       "      <td>3</td>\n",
       "    </tr>\n",
       "    <tr>\n",
       "      <th>2</th>\n",
       "      <td>1097 SM</td>\n",
       "      <td>850000.0</td>\n",
       "      <td>109</td>\n",
       "      <td>4</td>\n",
       "    </tr>\n",
       "    <tr>\n",
       "      <th>3</th>\n",
       "      <td>1060 TH</td>\n",
       "      <td>580000.0</td>\n",
       "      <td>128</td>\n",
       "      <td>6</td>\n",
       "    </tr>\n",
       "    <tr>\n",
       "      <th>4</th>\n",
       "      <td>1036 KN</td>\n",
       "      <td>720000.0</td>\n",
       "      <td>138</td>\n",
       "      <td>5</td>\n",
       "    </tr>\n",
       "  </tbody>\n",
       "</table>\n",
       "</div>"
      ],
      "text/plain": [
       "       Zip     Price  Area  Room\n",
       "0  1091 CR  685000.0    64     3\n",
       "1  1059 EL  475000.0    60     3\n",
       "2  1097 SM  850000.0   109     4\n",
       "3  1060 TH  580000.0   128     6\n",
       "4  1036 KN  720000.0   138     5"
      ]
     },
     "execution_count": 4,
     "metadata": {},
     "output_type": "execute_result"
    }
   ],
   "source": [
    "Houseprices_data.head()"
   ]
  },
  {
   "cell_type": "code",
   "execution_count": 5,
   "id": "bdf17c4b",
   "metadata": {},
   "outputs": [
    {
     "data": {
      "text/plain": [
       "(924, 4)"
      ]
     },
     "execution_count": 5,
     "metadata": {},
     "output_type": "execute_result"
    }
   ],
   "source": [
    "Houseprices_data.shape"
   ]
  },
  {
   "cell_type": "code",
   "execution_count": 6,
   "id": "b3601b62",
   "metadata": {},
   "outputs": [
    {
     "data": {
      "text/plain": [
       "Zip       object\n",
       "Price    float64\n",
       "Area       int64\n",
       "Room       int64\n",
       "dtype: object"
      ]
     },
     "execution_count": 6,
     "metadata": {},
     "output_type": "execute_result"
    }
   ],
   "source": [
    "Houseprices_data.dtypes"
   ]
  },
  {
   "cell_type": "markdown",
   "id": "09bbdf22",
   "metadata": {},
   "source": [
    "#### Create a Violinplot in Seaborn"
   ]
  },
  {
   "cell_type": "code",
   "execution_count": 7,
   "id": "aa501b1d",
   "metadata": {},
   "outputs": [
    {
     "data": {
      "text/plain": [
       "<AxesSubplot:xlabel='Price'>"
      ]
     },
     "execution_count": 7,
     "metadata": {},
     "output_type": "execute_result"
    },
    {
     "data": {
      "image/png": "[encoded data removed]",
      "text/plain": [
       "<Figure size 432x288 with 1 Axes>"
      ]
     },
     "metadata": {
      "needs_background": "light"
     },
     "output_type": "display_data"
    }
   ],
   "source": [
    "sns.violinplot(data = Houseprices_data, x= Houseprices_data[\"Price\"])"
   ]
  },
  {
   "cell_type": "markdown",
   "id": "7e869e75",
   "metadata": {},
   "source": [
    "#### Provide additional chart details"
   ]
  },
  {
   "cell_type": "code",
   "execution_count": 8,
   "id": "9d24ed27",
   "metadata": {},
   "outputs": [
    {
     "data": {
      "text/plain": [
       "Text(0.5, 1.0, 'Univariate analysis of House Prices')"
      ]
     },
     "execution_count": 8,
     "metadata": {},
     "output_type": "execute_result"
    },
    {
     "data": {
      "image/png": "[encoded data removed]",
      "text/plain": [
       "<Figure size 864x432 with 1 Axes>"
      ]
     },
     "metadata": {
      "needs_background": "light"
     },
     "output_type": "display_data"
    }
   ],
   "source": [
    "plt.figure(figsize= (12,6))\n",
    "\n",
    "ax = sns.violinplot(data = Houseprices_data, x= Houseprices_data[\"Price\"])\n",
    "ax.set_xlabel('House Prices in millions',fontsize = 15)\n",
    "ax.set_title('Univariate analysis of House Prices', fontsize= 20)\n"
   ]
  }
 ],
 "metadata": {
  "kernelspec": {
   "display_name": "Python 3",
   "language": "python",
   "name": "python3"
  },
  "language_info": {
   "codemirror_mode": {
    "name": "ipython",
    "version": 3
   },
   "file_extension": ".py",
   "mimetype": "text/x-python",
   "name": "python",
   "nbconvert_exporter": "python",
   "pygments_lexer": "ipython3",
   "version": "3.7.1"
  }
 },
 "nbformat": 4,
 "nbformat_minor": 5
}

{
 "cells": [
  {
   "cell_type": "markdown",
   "id": "2dbc33b1",
   "metadata": {},
   "source": [
    "#### Import relevant libraries"
   ]
  },
  {
   "cell_type": "code",
   "execution_count": 1,
   "id": "0ae67507",
   "metadata": {},
   "outputs": [],
   "source": [
    "import numpy as np\n",
    "import pandas as pd\n",
    "import matplotlib.pyplot as plt\n",
    "import seaborn as sns\n",
    "from sklearn.preprocessing import StandardScaler\n",
    "from sklearn.decomposition import PCA"
   ]
  },
  {
   "cell_type": "markdown",
   "id": "a2050fe1",
   "metadata": {},
   "source": [
    "#### Load dataset"
   ]
  },
  {
   "cell_type": "code",
   "execution_count": 2,
   "id": "3a02fac1",
   "metadata": {},
   "outputs": [],
   "source": [
    "marketing_data = pd.read_csv(\"data/marketing_campaign.csv\")"
   ]
  },
  {
   "cell_type": "markdown",
   "id": "e81aa501",
   "metadata": {},
   "source": [
    "#### Subset for relevant columns"
   ]
  },
  {
   "cell_type": "code",
   "execution_count": 3,
   "id": "9279d462",
   "metadata": {},
   "outputs": [],
   "source": [
    "marketing_data = marketing_data[['MntWines','MntFruits', 'MntMeatProducts', 'MntFishProducts', \n",
    "                                 'MntSweetProducts', 'MntGoldProds', 'NumDealsPurchases', \n",
    "                                 'NumWebPurchases','NumCatalogPurchases', 'NumStorePurchases', \n",
    "                                 'NumWebVisitsMonth']]"
   ]
  },
  {
   "cell_type": "markdown",
   "id": "128c9ecd",
   "metadata": {},
   "source": [
    "#### Inspect first 5 rows and data types of the dataset"
   ]
  },
  {
   "cell_type": "code",
   "execution_count": 4,
   "id": "1f556097",
   "metadata": {
    "scrolled": true
   },
   "outputs": [
    {
     "data": {
      "text/html": [
       "<div>\n",
       "<style scoped>\n",
       "    .dataframe tbody tr th:only-of-type {\n",
       "        vertical-align: middle;\n",
       "    }\n",
       "\n",
       "    .dataframe tbody tr th {\n",
       "        vertical-align: top;\n",
       "    }\n",
       "\n",
       "    .dataframe thead th {\n",
       "        text-align: right;\n",
       "    }\n",
       "</style>\n",
       "<table border=\"1\" class=\"dataframe\">\n",
       "  <thead>\n",
       "    <tr style=\"text-align: right;\">\n",
       "      <th></th>\n",
       "      <th>MntWines</th>\n",
       "      <th>MntFruits</th>\n",
       "      <th>MntMeatProducts</th>\n",
       "      <th>MntFishProducts</th>\n",
       "      <th>MntSweetProducts</th>\n",
       "      <th>MntGoldProds</th>\n",
       "      <th>NumDealsPurchases</th>\n",
       "      <th>NumWebPurchases</th>\n",
       "      <th>NumCatalogPurchases</th>\n",
       "      <th>NumStorePurchases</th>\n",
       "      <th>NumWebVisitsMonth</th>\n",
       "    </tr>\n",
       "  </thead>\n",
       "  <tbody>\n",
       "    <tr>\n",
       "      <th>0</th>\n",
       "      <td>635</td>\n",
       "      <td>88</td>\n",
       "      <td>546</td>\n",
       "      <td>172</td>\n",
       "      <td>88</td>\n",
       "      <td>88</td>\n",
       "      <td>3</td>\n",
       "      <td>8</td>\n",
       "      <td>10</td>\n",
       "      <td>4</td>\n",
       "      <td>7</td>\n",
       "    </tr>\n",
       "    <tr>\n",
       "      <th>1</th>\n",
       "      <td>11</td>\n",
       "      <td>1</td>\n",
       "      <td>6</td>\n",
       "      <td>2</td>\n",
       "      <td>1</td>\n",
       "      <td>6</td>\n",
       "      <td>2</td>\n",
       "      <td>1</td>\n",
       "      <td>1</td>\n",
       "      <td>2</td>\n",
       "      <td>5</td>\n",
       "    </tr>\n",
       "    <tr>\n",
       "      <th>2</th>\n",
       "      <td>426</td>\n",
       "      <td>49</td>\n",
       "      <td>127</td>\n",
       "      <td>111</td>\n",
       "      <td>21</td>\n",
       "      <td>42</td>\n",
       "      <td>1</td>\n",
       "      <td>8</td>\n",
       "      <td>2</td>\n",
       "      <td>10</td>\n",
       "      <td>4</td>\n",
       "    </tr>\n",
       "    <tr>\n",
       "      <th>3</th>\n",
       "      <td>11</td>\n",
       "      <td>4</td>\n",
       "      <td>20</td>\n",
       "      <td>10</td>\n",
       "      <td>3</td>\n",
       "      <td>5</td>\n",
       "      <td>2</td>\n",
       "      <td>2</td>\n",
       "      <td>0</td>\n",
       "      <td>4</td>\n",
       "      <td>6</td>\n",
       "    </tr>\n",
       "    <tr>\n",
       "      <th>4</th>\n",
       "      <td>173</td>\n",
       "      <td>43</td>\n",
       "      <td>118</td>\n",
       "      <td>46</td>\n",
       "      <td>27</td>\n",
       "      <td>15</td>\n",
       "      <td>5</td>\n",
       "      <td>5</td>\n",
       "      <td>3</td>\n",
       "      <td>6</td>\n",
       "      <td>5</td>\n",
       "    </tr>\n",
       "  </tbody>\n",
       "</table>\n",
       "</div>"
      ],
      "text/plain": [
       "   MntWines  MntFruits  MntMeatProducts  MntFishProducts  MntSweetProducts  \\\n",
       "0       635         88              546              172                88   \n",
       "1        11          1                6                2                 1   \n",
       "2       426         49              127              111                21   \n",
       "3        11          4               20               10                 3   \n",
       "4       173         43              118               46                27   \n",
       "\n",
       "   MntGoldProds  NumDealsPurchases  NumWebPurchases  NumCatalogPurchases  \\\n",
       "0            88                  3                8                   10   \n",
       "1             6                  2                1                    1   \n",
       "2            42                  1                8                    2   \n",
       "3             5                  2                2                    0   \n",
       "4            15                  5                5                    3   \n",
       "\n",
       "   NumStorePurchases  NumWebVisitsMonth  \n",
       "0                  4                  7  \n",
       "1                  2                  5  \n",
       "2                 10                  4  \n",
       "3                  4                  6  \n",
       "4                  6                  5  "
      ]
     },
     "execution_count": 4,
     "metadata": {},
     "output_type": "execute_result"
    }
   ],
   "source": [
    "marketing_data.head()"
   ]
  },
  {
   "cell_type": "code",
   "execution_count": 5,
   "id": "bdf17c4b",
   "metadata": {},
   "outputs": [
    {
     "data": {
      "text/plain": [
       "(2240, 11)"
      ]
     },
     "execution_count": 5,
     "metadata": {},
     "output_type": "execute_result"
    }
   ],
   "source": [
    "marketing_data.shape"
   ]
  },
  {
   "cell_type": "code",
   "execution_count": 6,
   "id": "b3601b62",
   "metadata": {},
   "outputs": [
    {
     "data": {
      "text/plain": [
       "MntWines               int64\n",
       "MntFruits              int64\n",
       "MntMeatProducts        int64\n",
       "MntFishProducts        int64\n",
       "MntSweetProducts       int64\n",
       "MntGoldProds           int64\n",
       "NumDealsPurchases      int64\n",
       "NumWebPurchases        int64\n",
       "NumCatalogPurchases    int64\n",
       "NumStorePurchases      int64\n",
       "NumWebVisitsMonth      int64\n",
       "dtype: object"
      ]
     },
     "execution_count": 6,
     "metadata": {},
     "output_type": "execute_result"
    }
   ],
   "source": [
    "marketing_data.dtypes"
   ]
  },
  {
   "cell_type": "markdown",
   "id": "182d3aca",
   "metadata": {},
   "source": [
    "#### Check for missing values and remove them"
   ]
  },
  {
   "cell_type": "code",
   "execution_count": 7,
   "id": "95a5d5fb",
   "metadata": {},
   "outputs": [
    {
     "data": {
      "text/plain": [
       "MntWines               0\n",
       "MntFruits              0\n",
       "MntMeatProducts        0\n",
       "MntFishProducts        0\n",
       "MntSweetProducts       0\n",
       "MntGoldProds           0\n",
       "NumDealsPurchases      0\n",
       "NumWebPurchases        0\n",
       "NumCatalogPurchases    0\n",
       "NumStorePurchases      0\n",
       "NumWebVisitsMonth      0\n",
       "dtype: int64"
      ]
     },
     "execution_count": 7,
     "metadata": {},
     "output_type": "execute_result"
    }
   ],
   "source": [
    "marketing_data.isnull().sum()"
   ]
  },
  {
   "cell_type": "code",
   "execution_count": 8,
   "id": "7b8deeb9",
   "metadata": {},
   "outputs": [],
   "source": [
    "marketing_data.dropna(inplace=True)"
   ]
  },
  {
   "cell_type": "code",
   "execution_count": 9,
   "id": "f2834fea",
   "metadata": {},
   "outputs": [
    {
     "data": {
      "text/plain": [
       "(2240, 11)"
      ]
     },
     "execution_count": 9,
     "metadata": {},
     "output_type": "execute_result"
    }
   ],
   "source": [
    "marketing_data.shape"
   ]
  },
  {
   "cell_type": "markdown",
   "id": "09bbdf22",
   "metadata": {},
   "source": [
    "#### Scale the data"
   ]
  },
  {
   "cell_type": "code",
   "execution_count": 10,
   "id": "60b95d7c",
   "metadata": {
    "scrolled": true
   },
   "outputs": [],
   "source": [
    "x = marketing_data.values\n",
    "marketing_data_scaled = StandardScaler().fit_transform(x)"
   ]
  },
  {
   "cell_type": "markdown",
   "id": "9866acfc",
   "metadata": {},
   "source": [
    "#### Apply PCA to the dataset"
   ]
  },
  {
   "cell_type": "code",
   "execution_count": 11,
   "id": "ec5bc4f6",
   "metadata": {},
   "outputs": [],
   "source": [
    "pca_marketing = PCA(n_components=6,random_state = 1)\n",
    "principalComponents_marketing = pca_marketing.fit_transform(marketing_data_scaled)"
   ]
  },
  {
   "cell_type": "code",
   "execution_count": 12,
   "id": "642d23d5",
   "metadata": {},
   "outputs": [
    {
     "data": {
      "text/html": [
       "<div>\n",
       "<style scoped>\n",
       "    .dataframe tbody tr th:only-of-type {\n",
       "        vertical-align: middle;\n",
       "    }\n",
       "\n",
       "    .dataframe tbody tr th {\n",
       "        vertical-align: top;\n",
       "    }\n",
       "\n",
       "    .dataframe thead th {\n",
       "        text-align: right;\n",
       "    }\n",
       "</style>\n",
       "<table border=\"1\" class=\"dataframe\">\n",
       "  <thead>\n",
       "    <tr style=\"text-align: right;\">\n",
       "      <th></th>\n",
       "      <th>principal component 1</th>\n",
       "      <th>principal component 2</th>\n",
       "      <th>principal component 3</th>\n",
       "      <th>principal component 4</th>\n",
       "      <th>principal component 5</th>\n",
       "      <th>principal component 6</th>\n",
       "    </tr>\n",
       "  </thead>\n",
       "  <tbody>\n",
       "    <tr>\n",
       "      <th>0</th>\n",
       "      <td>3.800461</td>\n",
       "      <td>0.572973</td>\n",
       "      <td>1.254630</td>\n",
       "      <td>1.083547</td>\n",
       "      <td>0.274886</td>\n",
       "      <td>2.368660</td>\n",
       "    </tr>\n",
       "    <tr>\n",
       "      <th>1</th>\n",
       "      <td>-2.175610</td>\n",
       "      <td>-0.928702</td>\n",
       "      <td>-0.117578</td>\n",
       "      <td>0.292224</td>\n",
       "      <td>0.323580</td>\n",
       "      <td>-0.105413</td>\n",
       "    </tr>\n",
       "    <tr>\n",
       "      <th>2</th>\n",
       "      <td>1.501507</td>\n",
       "      <td>0.123894</td>\n",
       "      <td>0.096791</td>\n",
       "      <td>-0.992810</td>\n",
       "      <td>-1.071276</td>\n",
       "      <td>-0.602728</td>\n",
       "    </tr>\n",
       "    <tr>\n",
       "      <th>3</th>\n",
       "      <td>-2.016701</td>\n",
       "      <td>-0.518668</td>\n",
       "      <td>0.025703</td>\n",
       "      <td>0.070743</td>\n",
       "      <td>-0.181590</td>\n",
       "      <td>-0.227872</td>\n",
       "    </tr>\n",
       "    <tr>\n",
       "      <th>4</th>\n",
       "      <td>-0.044173</td>\n",
       "      <td>0.763401</td>\n",
       "      <td>0.238572</td>\n",
       "      <td>1.149119</td>\n",
       "      <td>-0.334696</td>\n",
       "      <td>-0.495866</td>\n",
       "    </tr>\n",
       "    <tr>\n",
       "      <th>...</th>\n",
       "      <td>...</td>\n",
       "      <td>...</td>\n",
       "      <td>...</td>\n",
       "      <td>...</td>\n",
       "      <td>...</td>\n",
       "      <td>...</td>\n",
       "    </tr>\n",
       "    <tr>\n",
       "      <th>2235</th>\n",
       "      <td>2.660651</td>\n",
       "      <td>1.308848</td>\n",
       "      <td>2.151732</td>\n",
       "      <td>-2.178308</td>\n",
       "      <td>1.453732</td>\n",
       "      <td>0.526411</td>\n",
       "    </tr>\n",
       "    <tr>\n",
       "      <th>2236</th>\n",
       "      <td>-1.063664</td>\n",
       "      <td>2.738997</td>\n",
       "      <td>-0.463307</td>\n",
       "      <td>0.821222</td>\n",
       "      <td>-0.336517</td>\n",
       "      <td>-0.070777</td>\n",
       "    </tr>\n",
       "    <tr>\n",
       "      <th>2237</th>\n",
       "      <td>1.130411</td>\n",
       "      <td>0.004491</td>\n",
       "      <td>-1.519866</td>\n",
       "      <td>-0.539346</td>\n",
       "      <td>-0.947537</td>\n",
       "      <td>-0.493189</td>\n",
       "    </tr>\n",
       "    <tr>\n",
       "      <th>2238</th>\n",
       "      <td>1.749883</td>\n",
       "      <td>0.079894</td>\n",
       "      <td>-0.509966</td>\n",
       "      <td>-0.305776</td>\n",
       "      <td>-0.035570</td>\n",
       "      <td>-0.746510</td>\n",
       "    </tr>\n",
       "    <tr>\n",
       "      <th>2239</th>\n",
       "      <td>-1.796636</td>\n",
       "      <td>0.271300</td>\n",
       "      <td>0.011374</td>\n",
       "      <td>0.207581</td>\n",
       "      <td>0.083997</td>\n",
       "      <td>0.072001</td>\n",
       "    </tr>\n",
       "  </tbody>\n",
       "</table>\n",
       "<p>2240 rows × 6 columns</p>\n",
       "</div>"
      ],
      "text/plain": [
       "      principal component 1  principal component 2  principal component 3  \\\n",
       "0                  3.800461               0.572973               1.254630   \n",
       "1                 -2.175610              -0.928702              -0.117578   \n",
       "2                  1.501507               0.123894               0.096791   \n",
       "3                 -2.016701              -0.518668               0.025703   \n",
       "4                 -0.044173               0.763401               0.238572   \n",
       "...                     ...                    ...                    ...   \n",
       "2235               2.660651               1.308848               2.151732   \n",
       "2236              -1.063664               2.738997              -0.463307   \n",
       "2237               1.130411               0.004491              -1.519866   \n",
       "2238               1.749883               0.079894              -0.509966   \n",
       "2239              -1.796636               0.271300               0.011374   \n",
       "\n",
       "      principal component 4  principal component 5  principal component 6  \n",
       "0                  1.083547               0.274886               2.368660  \n",
       "1                  0.292224               0.323580              -0.105413  \n",
       "2                 -0.992810              -1.071276              -0.602728  \n",
       "3                  0.070743              -0.181590              -0.227872  \n",
       "4                  1.149119              -0.334696              -0.495866  \n",
       "...                     ...                    ...                    ...  \n",
       "2235              -2.178308               1.453732               0.526411  \n",
       "2236               0.821222              -0.336517              -0.070777  \n",
       "2237              -0.539346              -0.947537              -0.493189  \n",
       "2238              -0.305776              -0.035570              -0.746510  \n",
       "2239               0.207581               0.083997               0.072001  \n",
       "\n",
       "[2240 rows x 6 columns]"
      ]
     },
     "execution_count": 12,
     "metadata": {},
     "output_type": "execute_result"
    }
   ],
   "source": [
    "principal_marketing_data = pd.DataFrame(data = principalComponents_marketing\n",
    "             , columns = ['principal component 1', 'principal component 2',\n",
    "                          'principal component 3','principal component 4'\n",
    "                         ,'principal component 5','principal component 6'])\n",
    "principal_marketing_data"
   ]
  }
 ],
 "metadata": {
  "kernelspec": {
   "display_name": "Python 3",
   "language": "python",
   "name": "python3"
  },
  "language_info": {
   "codemirror_mode": {
    "name": "ipython",
    "version": 3
   },
   "file_extension": ".py",
   "mimetype": "text/x-python",
   "name": "python",
   "nbconvert_exporter": "python",
   "pygments_lexer": "ipython3",
   "version": "3.7.1"
  }
 },
 "nbformat": 4,
 "nbformat_minor": 5
}

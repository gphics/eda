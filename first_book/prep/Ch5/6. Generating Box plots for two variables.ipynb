{
 "cells": [
  {
   "cell_type": "markdown",
   "id": "2dbc33b1",
   "metadata": {},
   "source": [
    "#### Import relevant libraries"
   ]
  },
  {
   "cell_type": "code",
   "execution_count": 1,
   "id": "0ae67507",
   "metadata": {},
   "outputs": [],
   "source": [
    "import pandas as pd\n",
    "import matplotlib.pyplot as plt\n",
    "import seaborn as sns"
   ]
  },
  {
   "cell_type": "markdown",
   "id": "a2050fe1",
   "metadata": {},
   "source": [
    "#### Load dataset"
   ]
  },
  {
   "cell_type": "code",
   "execution_count": 2,
   "id": "3a02fac1",
   "metadata": {},
   "outputs": [],
   "source": [
    "penguins_data = pd.read_csv(\"data/penguins_size.csv\")"
   ]
  },
  {
   "cell_type": "markdown",
   "id": "e81aa501",
   "metadata": {},
   "source": [
    "#### Subset for relevant columns"
   ]
  },
  {
   "cell_type": "code",
   "execution_count": 3,
   "id": "9279d462",
   "metadata": {},
   "outputs": [],
   "source": [
    "penguins_data = penguins_data[['species','culmen_length_mm','sex']]"
   ]
  },
  {
   "cell_type": "markdown",
   "id": "128c9ecd",
   "metadata": {},
   "source": [
    "#### Inspect first 5 rows and data types of the dataset"
   ]
  },
  {
   "cell_type": "code",
   "execution_count": 4,
   "id": "1f556097",
   "metadata": {
    "scrolled": true
   },
   "outputs": [
    {
     "data": {
      "text/html": [
       "<div>\n",
       "<style scoped>\n",
       "    .dataframe tbody tr th:only-of-type {\n",
       "        vertical-align: middle;\n",
       "    }\n",
       "\n",
       "    .dataframe tbody tr th {\n",
       "        vertical-align: top;\n",
       "    }\n",
       "\n",
       "    .dataframe thead th {\n",
       "        text-align: right;\n",
       "    }\n",
       "</style>\n",
       "<table border=\"1\" class=\"dataframe\">\n",
       "  <thead>\n",
       "    <tr style=\"text-align: right;\">\n",
       "      <th></th>\n",
       "      <th>species</th>\n",
       "      <th>culmen_length_mm</th>\n",
       "      <th>sex</th>\n",
       "    </tr>\n",
       "  </thead>\n",
       "  <tbody>\n",
       "    <tr>\n",
       "      <th>0</th>\n",
       "      <td>Adelie</td>\n",
       "      <td>39.1</td>\n",
       "      <td>MALE</td>\n",
       "    </tr>\n",
       "    <tr>\n",
       "      <th>1</th>\n",
       "      <td>Adelie</td>\n",
       "      <td>39.5</td>\n",
       "      <td>FEMALE</td>\n",
       "    </tr>\n",
       "    <tr>\n",
       "      <th>2</th>\n",
       "      <td>Adelie</td>\n",
       "      <td>40.3</td>\n",
       "      <td>FEMALE</td>\n",
       "    </tr>\n",
       "    <tr>\n",
       "      <th>3</th>\n",
       "      <td>Adelie</td>\n",
       "      <td>NaN</td>\n",
       "      <td>NaN</td>\n",
       "    </tr>\n",
       "    <tr>\n",
       "      <th>4</th>\n",
       "      <td>Adelie</td>\n",
       "      <td>36.7</td>\n",
       "      <td>FEMALE</td>\n",
       "    </tr>\n",
       "  </tbody>\n",
       "</table>\n",
       "</div>"
      ],
      "text/plain": [
       "  species  culmen_length_mm     sex\n",
       "0  Adelie              39.1    MALE\n",
       "1  Adelie              39.5  FEMALE\n",
       "2  Adelie              40.3  FEMALE\n",
       "3  Adelie               NaN     NaN\n",
       "4  Adelie              36.7  FEMALE"
      ]
     },
     "execution_count": 4,
     "metadata": {},
     "output_type": "execute_result"
    }
   ],
   "source": [
    "penguins_data.head()"
   ]
  },
  {
   "cell_type": "code",
   "execution_count": 5,
   "id": "bdf17c4b",
   "metadata": {},
   "outputs": [
    {
     "data": {
      "text/plain": [
       "(344, 3)"
      ]
     },
     "execution_count": 5,
     "metadata": {},
     "output_type": "execute_result"
    }
   ],
   "source": [
    "penguins_data.shape"
   ]
  },
  {
   "cell_type": "code",
   "execution_count": 6,
   "id": "b3601b62",
   "metadata": {},
   "outputs": [
    {
     "data": {
      "text/plain": [
       "species              object\n",
       "culmen_length_mm    float64\n",
       "sex                  object\n",
       "dtype: object"
      ]
     },
     "execution_count": 6,
     "metadata": {},
     "output_type": "execute_result"
    }
   ],
   "source": [
    "penguins_data.dtypes"
   ]
  },
  {
   "cell_type": "markdown",
   "id": "09bbdf22",
   "metadata": {},
   "source": [
    "#### Create a Boxplots in Seaborn"
   ]
  },
  {
   "cell_type": "code",
   "execution_count": 7,
   "id": "60b95d7c",
   "metadata": {
    "scrolled": true
   },
   "outputs": [
    {
     "data": {
      "text/plain": [
       "<AxesSubplot:xlabel='species', ylabel='culmen_length_mm'>"
      ]
     },
     "execution_count": 7,
     "metadata": {},
     "output_type": "execute_result"
    },
    {
     "data": {
      "image/png": "[encoded data removed]",
      "text/plain": [
       "<Figure size 432x288 with 1 Axes>"
      ]
     },
     "metadata": {
      "needs_background": "light"
     },
     "output_type": "display_data"
    }
   ],
   "source": [
    "sns.boxplot( data = penguins_data, x= penguins_data['species'] ,  y= penguins_data[\"culmen_length_mm\"])"
   ]
  },
  {
   "cell_type": "markdown",
   "id": "9866acfc",
   "metadata": {},
   "source": [
    "#### Set the chart size and chart title. Also specify the axes label names and label sizes"
   ]
  },
  {
   "cell_type": "code",
   "execution_count": 8,
   "id": "ec5bc4f6",
   "metadata": {},
   "outputs": [
    {
     "data": {
      "text/plain": [
       "Text(0.5, 1.0, 'Bivariate analysis of Culmen Length and Species')"
      ]
     },
     "execution_count": 8,
     "metadata": {},
     "output_type": "execute_result"
    },
    {
     "data": {
      "image/png": "[encoded data removed]",
      "text/plain": [
       "<Figure size 864x432 with 1 Axes>"
      ]
     },
     "metadata": {
      "needs_background": "light"
     },
     "output_type": "display_data"
    }
   ],
   "source": [
    "plt.figure(figsize= (12,6))\n",
    "\n",
    "ax = sns.boxplot( data = penguins_data, x= penguins_data['species'] ,  y= penguins_data[\"culmen_length_mm\"])\n",
    "ax.set_xlabel('Species',fontsize = 15)\n",
    "ax.set_ylabel('Culment Length in mm', fontsize = 15)\n",
    "ax.set_title('Bivariate analysis of Culmen Length and Species', fontsize= 20)\n"
   ]
  }
 ],
 "metadata": {
  "kernelspec": {
   "display_name": "Python 3",
   "language": "python",
   "name": "python3"
  },
  "language_info": {
   "codemirror_mode": {
    "name": "ipython",
    "version": 3
   },
   "file_extension": ".py",
   "mimetype": "text/x-python",
   "name": "python",
   "nbconvert_exporter": "python",
   "pygments_lexer": "ipython3",
   "version": "3.7.1"
  }
 },
 "nbformat": 4,
 "nbformat_minor": 5
}

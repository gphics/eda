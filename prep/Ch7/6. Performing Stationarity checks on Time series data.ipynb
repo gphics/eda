{
 "cells": [
  {
   "cell_type": "markdown",
   "id": "2dbc33b1",
   "metadata": {},
   "source": [
    "#### Import relevant libraries"
   ]
  },
  {
   "cell_type": "code",
   "execution_count": 1,
   "id": "0ae67507",
   "metadata": {},
   "outputs": [],
   "source": [
    "import numpy as np\n",
    "import pandas as pd\n",
    "import matplotlib.pyplot as plt\n",
    "import seaborn as sns\n",
    "from statsmodels.tsa.stattools import adfuller"
   ]
  },
  {
   "cell_type": "markdown",
   "id": "a2050fe1",
   "metadata": {},
   "source": [
    "#### Load dataset"
   ]
  },
  {
   "cell_type": "code",
   "execution_count": 2,
   "id": "3a02fac1",
   "metadata": {},
   "outputs": [],
   "source": [
    "air_traffic_data = pd.read_csv(\"data/SF_Air_Traffic_Passenger_Statistics_Transformed.csv\")"
   ]
  },
  {
   "cell_type": "markdown",
   "id": "128c9ecd",
   "metadata": {},
   "source": [
    "#### Inspect first 5 rows and data types of the dataset"
   ]
  },
  {
   "cell_type": "code",
   "execution_count": 3,
   "id": "1f556097",
   "metadata": {
    "scrolled": true
   },
   "outputs": [
    {
     "data": {
      "text/html": [
       "<div>\n",
       "<style scoped>\n",
       "    .dataframe tbody tr th:only-of-type {\n",
       "        vertical-align: middle;\n",
       "    }\n",
       "\n",
       "    .dataframe tbody tr th {\n",
       "        vertical-align: top;\n",
       "    }\n",
       "\n",
       "    .dataframe thead th {\n",
       "        text-align: right;\n",
       "    }\n",
       "</style>\n",
       "<table border=\"1\" class=\"dataframe\">\n",
       "  <thead>\n",
       "    <tr style=\"text-align: right;\">\n",
       "      <th></th>\n",
       "      <th>Date</th>\n",
       "      <th>Total Passenger Count</th>\n",
       "    </tr>\n",
       "  </thead>\n",
       "  <tbody>\n",
       "    <tr>\n",
       "      <th>0</th>\n",
       "      <td>200601</td>\n",
       "      <td>2448889</td>\n",
       "    </tr>\n",
       "    <tr>\n",
       "      <th>1</th>\n",
       "      <td>200602</td>\n",
       "      <td>2223024</td>\n",
       "    </tr>\n",
       "    <tr>\n",
       "      <th>2</th>\n",
       "      <td>200603</td>\n",
       "      <td>2708778</td>\n",
       "    </tr>\n",
       "    <tr>\n",
       "      <th>3</th>\n",
       "      <td>200604</td>\n",
       "      <td>2773293</td>\n",
       "    </tr>\n",
       "    <tr>\n",
       "      <th>4</th>\n",
       "      <td>200605</td>\n",
       "      <td>2829000</td>\n",
       "    </tr>\n",
       "  </tbody>\n",
       "</table>\n",
       "</div>"
      ],
      "text/plain": [
       "     Date  Total Passenger Count\n",
       "0  200601                2448889\n",
       "1  200602                2223024\n",
       "2  200603                2708778\n",
       "3  200604                2773293\n",
       "4  200605                2829000"
      ]
     },
     "execution_count": 3,
     "metadata": {},
     "output_type": "execute_result"
    }
   ],
   "source": [
    "air_traffic_data.head()"
   ]
  },
  {
   "cell_type": "code",
   "execution_count": 4,
   "id": "bdf17c4b",
   "metadata": {},
   "outputs": [
    {
     "data": {
      "text/plain": [
       "(132, 2)"
      ]
     },
     "execution_count": 4,
     "metadata": {},
     "output_type": "execute_result"
    }
   ],
   "source": [
    "air_traffic_data.shape"
   ]
  },
  {
   "cell_type": "code",
   "execution_count": 5,
   "id": "b3601b62",
   "metadata": {},
   "outputs": [
    {
     "data": {
      "text/plain": [
       "Date                     int64\n",
       "Total Passenger Count    int64\n",
       "dtype: object"
      ]
     },
     "execution_count": 5,
     "metadata": {},
     "output_type": "execute_result"
    }
   ],
   "source": [
    "air_traffic_data.dtypes"
   ]
  },
  {
   "cell_type": "markdown",
   "id": "32043140",
   "metadata": {},
   "source": [
    "#### Transform date int to date"
   ]
  },
  {
   "cell_type": "code",
   "execution_count": 6,
   "id": "592fcb98",
   "metadata": {},
   "outputs": [],
   "source": [
    "air_traffic_data['Date']= pd.to_datetime(air_traffic_data['Date'], format = \"%Y%m\")"
   ]
  },
  {
   "cell_type": "code",
   "execution_count": 7,
   "id": "0a562145",
   "metadata": {},
   "outputs": [
    {
     "data": {
      "text/plain": [
       "Date                     datetime64[ns]\n",
       "Total Passenger Count             int64\n",
       "dtype: object"
      ]
     },
     "execution_count": 7,
     "metadata": {},
     "output_type": "execute_result"
    }
   ],
   "source": [
    "air_traffic_data.dtypes"
   ]
  },
  {
   "cell_type": "markdown",
   "id": "f525a931",
   "metadata": {},
   "source": [
    "#### Set date as index"
   ]
  },
  {
   "cell_type": "code",
   "execution_count": 8,
   "id": "8cdc6f00",
   "metadata": {},
   "outputs": [
    {
     "data": {
      "text/plain": [
       "(132, 1)"
      ]
     },
     "execution_count": 8,
     "metadata": {},
     "output_type": "execute_result"
    }
   ],
   "source": [
    "air_traffic_data.set_index('Date',inplace = True)\n",
    "air_traffic_data.shape"
   ]
  },
  {
   "cell_type": "markdown",
   "id": "60de4cbf",
   "metadata": {},
   "source": [
    "#### Check Stationarity"
   ]
  },
  {
   "cell_type": "code",
   "execution_count": 9,
   "id": "d0be68f5",
   "metadata": {},
   "outputs": [
    {
     "data": {
      "text/plain": [
       "(0.7015289287377346,\n",
       " 0.9898683326442054,\n",
       " 13,\n",
       " 118,\n",
       " {'1%': -3.4870216863700767,\n",
       "  '5%': -2.8863625166643136,\n",
       "  '10%': -2.580009026141913},\n",
       " 3039.0876643475)"
      ]
     },
     "execution_count": 9,
     "metadata": {},
     "output_type": "execute_result"
    }
   ],
   "source": [
    "adf_result = adfuller(air_traffic_data)\n",
    "adf_result"
   ]
  },
  {
   "cell_type": "code",
   "execution_count": 10,
   "id": "46f1e971",
   "metadata": {},
   "outputs": [
    {
     "name": "stdout",
     "output_type": "stream",
     "text": [
      "ADF Test Statistic: 0.701529\n",
      "p-value: 0.989868\n",
      "Critical Values:\n",
      "{'1%': -3.4870216863700767, '5%': -2.8863625166643136, '10%': -2.580009026141913}\n",
      "Failed to Reject Null Hypothesis - Time Series is Non-Stationary\n"
     ]
    }
   ],
   "source": [
    "print('ADF Test Statistic: %f' % adf_result[0])\n",
    "\n",
    "print('p-value: %f' % adf_result[1])\n",
    "\n",
    "print('Critical Values:')\n",
    "\n",
    "print(adf_result[4])\n",
    "\n",
    "if adf_result[0] < adf_result[4][\"5%\"]:\n",
    "    print (\"Reject Null Hypothesis - Time Series is Stationary\")\n",
    "else:\n",
    "    print (\"Failed to Reject Null Hypothesis - Time Series is Non-Stationary\")"
   ]
  }
 ],
 "metadata": {
  "kernelspec": {
   "display_name": "Python 3",
   "language": "python",
   "name": "python3"
  },
  "language_info": {
   "codemirror_mode": {
    "name": "ipython",
    "version": 3
   },
   "file_extension": ".py",
   "mimetype": "text/x-python",
   "name": "python",
   "nbconvert_exporter": "python",
   "pygments_lexer": "ipython3",
   "version": "3.7.1"
  }
 },
 "nbformat": 4,
 "nbformat_minor": 5
}

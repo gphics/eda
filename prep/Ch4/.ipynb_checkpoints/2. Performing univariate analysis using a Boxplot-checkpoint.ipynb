{
 "cells": [
  {
   "cell_type": "markdown",
   "id": "2dbc33b1",
   "metadata": {},
   "source": [
    "#### Import relevant libraries"
   ]
  },
  {
   "cell_type": "code",
   "execution_count": null,
   "id": "0ae67507",
   "metadata": {},
   "outputs": [],
   "source": [
    "import pandas as pd\n",
    "import matplotlib.pyplot as plt\n",
    "import seaborn as sns"
   ]
  },
  {
   "cell_type": "markdown",
   "id": "a2050fe1",
   "metadata": {},
   "source": [
    "#### Load dataset"
   ]
  },
  {
   "cell_type": "code",
   "execution_count": null,
   "id": "3a02fac1",
   "metadata": {},
   "outputs": [],
   "source": [
    "houseprices_data = pd.read_csv(\"Data/HousingPricesData.csv\")"
   ]
  },
  {
   "cell_type": "markdown",
   "id": "e81aa501",
   "metadata": {},
   "source": [
    "#### Subset for relevant columns"
   ]
  },
  {
   "cell_type": "code",
   "execution_count": null,
   "id": "9279d462",
   "metadata": {},
   "outputs": [],
   "source": [
    "houseprices_data = houseprices_data[['Zip','Price','Area','Room']]"
   ]
  },
  {
   "cell_type": "markdown",
   "id": "128c9ecd",
   "metadata": {},
   "source": [
    "#### Inspect first 5 rows and data types of the dataset"
   ]
  },
  {
   "cell_type": "code",
   "execution_count": null,
   "id": "1f556097",
   "metadata": {
    "scrolled": true
   },
   "outputs": [],
   "source": [
    "houseprices_data.head()"
   ]
  },
  {
   "cell_type": "code",
   "execution_count": null,
   "id": "bdf17c4b",
   "metadata": {},
   "outputs": [],
   "source": [
    "houseprices_data.shape"
   ]
  },
  {
   "cell_type": "code",
   "execution_count": null,
   "id": "b3601b62",
   "metadata": {},
   "outputs": [],
   "source": [
    "houseprices_data.dtypes"
   ]
  },
  {
   "cell_type": "markdown",
   "id": "09bbdf22",
   "metadata": {},
   "source": [
    "#### Create a Boxplot in Seaborn"
   ]
  },
  {
   "cell_type": "code",
   "execution_count": null,
   "id": "aa501b1d",
   "metadata": {
    "scrolled": true
   },
   "outputs": [],
   "source": [
    "sns.boxplot(data = houseprices_data, x= houseprices_data[\"Price\"])"
   ]
  },
  {
   "cell_type": "markdown",
   "id": "e7bceadc",
   "metadata": {},
   "source": [
    "#### Provide additional chart details"
   ]
  },
  {
   "cell_type": "code",
   "execution_count": null,
   "id": "8b23246b",
   "metadata": {},
   "outputs": [],
   "source": [
    "plt.figure(figsize= (12,6))\n",
    "\n",
    "ax = sns.boxplot(data = houseprices_data, x= houseprices_data[\"Price\"])\n",
    "ax.set_xlabel('House Prices in millions',fontsize = 15)\n",
    "ax.set_title('Univariate analysis of House Prices', fontsize= 20)\n",
    "plt.ticklabel_format(style='plain', axis='x')\n"
   ]
  }
 ],
 "metadata": {
  "kernelspec": {
   "display_name": "Python 3",
   "language": "python",
   "name": "python3"
  },
  "language_info": {
   "codemirror_mode": {
    "name": "ipython",
    "version": 3
   },
   "file_extension": ".py",
   "mimetype": "text/x-python",
   "name": "python",
   "nbconvert_exporter": "python",
   "pygments_lexer": "ipython3",
   "version": "3.7.1"
  }
 },
 "nbformat": 4,
 "nbformat_minor": 5
}

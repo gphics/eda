{
 "cells": [
  {
   "cell_type": "markdown",
   "id": "2dbc33b1",
   "metadata": {},
   "source": [
    "#### Import relevant libraries"
   ]
  },
  {
   "cell_type": "code",
   "execution_count": 1,
   "id": "0ae67507",
   "metadata": {},
   "outputs": [],
   "source": [
    "import pandas as pd\n",
    "import matplotlib.pyplot as plt\n",
    "import seaborn as sns\n",
    "import string\n",
    "import nltk\n",
    "from nltk.corpus import stopwords\n",
    "from nltk.tokenize import word_tokenize"
   ]
  },
  {
   "cell_type": "markdown",
   "id": "a2050fe1",
   "metadata": {},
   "source": [
    "#### Load dataset"
   ]
  },
  {
   "cell_type": "code",
   "execution_count": 2,
   "id": "3a02fac1",
   "metadata": {},
   "outputs": [],
   "source": [
    "reviews_data = pd.read_csv(\"data/cleaned_reviews_data.csv\")"
   ]
  },
  {
   "cell_type": "markdown",
   "id": "128c9ecd",
   "metadata": {},
   "source": [
    "#### Inspect first 5 rows and data types of the dataset"
   ]
  },
  {
   "cell_type": "code",
   "execution_count": 3,
   "id": "1f556097",
   "metadata": {
    "scrolled": false
   },
   "outputs": [
    {
     "data": {
      "text/html": [
       "<div>\n",
       "<style scoped>\n",
       "    .dataframe tbody tr th:only-of-type {\n",
       "        vertical-align: middle;\n",
       "    }\n",
       "\n",
       "    .dataframe tbody tr th {\n",
       "        vertical-align: top;\n",
       "    }\n",
       "\n",
       "    .dataframe thead th {\n",
       "        text-align: right;\n",
       "    }\n",
       "</style>\n",
       "<table border=\"1\" class=\"dataframe\">\n",
       "  <thead>\n",
       "    <tr style=\"text-align: right;\">\n",
       "      <th></th>\n",
       "      <th>Review</th>\n",
       "      <th>Liked</th>\n",
       "      <th>reviews_cleaned</th>\n",
       "    </tr>\n",
       "  </thead>\n",
       "  <tbody>\n",
       "    <tr>\n",
       "      <th>0</th>\n",
       "      <td>Wow... Loved this place.</td>\n",
       "      <td>1</td>\n",
       "      <td>wow ... loved this place</td>\n",
       "    </tr>\n",
       "    <tr>\n",
       "      <th>1</th>\n",
       "      <td>Crust is not good.</td>\n",
       "      <td>0</td>\n",
       "      <td>crust is not good</td>\n",
       "    </tr>\n",
       "    <tr>\n",
       "      <th>2</th>\n",
       "      <td>Not tasty and the texture was just nasty.</td>\n",
       "      <td>0</td>\n",
       "      <td>not tasty and the texture was just nasty</td>\n",
       "    </tr>\n",
       "    <tr>\n",
       "      <th>3</th>\n",
       "      <td>Stopped by during the late May bank holiday of...</td>\n",
       "      <td>1</td>\n",
       "      <td>stopped by during the late may bank holiday of...</td>\n",
       "    </tr>\n",
       "    <tr>\n",
       "      <th>4</th>\n",
       "      <td>The selection on the menu was great and so wer...</td>\n",
       "      <td>1</td>\n",
       "      <td>the selection on the menu was great and so wer...</td>\n",
       "    </tr>\n",
       "  </tbody>\n",
       "</table>\n",
       "</div>"
      ],
      "text/plain": [
       "                                              Review  Liked  \\\n",
       "0                           Wow... Loved this place.      1   \n",
       "1                                 Crust is not good.      0   \n",
       "2          Not tasty and the texture was just nasty.      0   \n",
       "3  Stopped by during the late May bank holiday of...      1   \n",
       "4  The selection on the menu was great and so wer...      1   \n",
       "\n",
       "                                     reviews_cleaned  \n",
       "0                           wow ... loved this place  \n",
       "1                                  crust is not good  \n",
       "2           not tasty and the texture was just nasty  \n",
       "3  stopped by during the late may bank holiday of...  \n",
       "4  the selection on the menu was great and so wer...  "
      ]
     },
     "execution_count": 3,
     "metadata": {},
     "output_type": "execute_result"
    }
   ],
   "source": [
    "reviews_data.head()"
   ]
  },
  {
   "cell_type": "code",
   "execution_count": 4,
   "id": "bdf17c4b",
   "metadata": {},
   "outputs": [
    {
     "data": {
      "text/plain": [
       "(900, 3)"
      ]
     },
     "execution_count": 4,
     "metadata": {},
     "output_type": "execute_result"
    }
   ],
   "source": [
    "reviews_data.shape"
   ]
  },
  {
   "cell_type": "markdown",
   "id": "96d628f1",
   "metadata": {},
   "source": [
    "#### Tokenize data"
   ]
  },
  {
   "cell_type": "code",
   "execution_count": 5,
   "id": "c5696dd9",
   "metadata": {},
   "outputs": [],
   "source": [
    "reviews_data['reviews_tokenized'] = reviews_data['reviews_cleaned'].apply(word_tokenize)"
   ]
  },
  {
   "cell_type": "markdown",
   "id": "9ada7d5c",
   "metadata": {},
   "source": [
    "#### Visualise most common words"
   ]
  },
  {
   "cell_type": "code",
   "execution_count": 6,
   "id": "21ff9f1b",
   "metadata": {},
   "outputs": [],
   "source": [
    "def combine_words(word_list):    \n",
    "    all_words = []\n",
    "    for word in word_list:\n",
    "        all_words += word\n",
    "    return all_words"
   ]
  },
  {
   "cell_type": "code",
   "execution_count": 7,
   "id": "0f47ece4",
   "metadata": {},
   "outputs": [],
   "source": [
    "def count_topwords(all_words):\n",
    "    counts = dict()\n",
    "    for word in all_words:\n",
    "        if word in counts:\n",
    "            counts[word] += 1\n",
    "        else:\n",
    "            counts[word] = 1\n",
    "\n",
    "    word_count = pd.DataFrame([counts])\n",
    "    word_count_transposed = word_count.T.reset_index()\n",
    "    word_count_transposed.columns = ['words','word_count']\n",
    "    word_count_sorted = word_count_transposed.sort_values(\"word_count\",ascending = False)\n",
    "    word_count_sorted\n",
    "    return word_count_sorted[:20]"
   ]
  },
  {
   "cell_type": "code",
   "execution_count": 8,
   "id": "908ff4c0",
   "metadata": {},
   "outputs": [
    {
     "data": {
      "text/plain": [
       "['wow', '...', 'loved', 'this', 'place', 'crust', 'is', 'not', 'good', 'not']"
      ]
     },
     "execution_count": 8,
     "metadata": {},
     "output_type": "execute_result"
    }
   ],
   "source": [
    "reviews = reviews_data['reviews_tokenized']\n",
    "reviews_words =  combine_words(reviews)\n",
    "reviews_words[:10]"
   ]
  },
  {
   "cell_type": "code",
   "execution_count": 9,
   "id": "2a162078",
   "metadata": {},
   "outputs": [
    {
     "data": {
      "text/html": [
       "<div>\n",
       "<style scoped>\n",
       "    .dataframe tbody tr th:only-of-type {\n",
       "        vertical-align: middle;\n",
       "    }\n",
       "\n",
       "    .dataframe tbody tr th {\n",
       "        vertical-align: top;\n",
       "    }\n",
       "\n",
       "    .dataframe thead th {\n",
       "        text-align: right;\n",
       "    }\n",
       "</style>\n",
       "<table border=\"1\" class=\"dataframe\">\n",
       "  <thead>\n",
       "    <tr style=\"text-align: right;\">\n",
       "      <th></th>\n",
       "      <th>words</th>\n",
       "      <th>word_count</th>\n",
       "    </tr>\n",
       "  </thead>\n",
       "  <tbody>\n",
       "    <tr>\n",
       "      <th>11</th>\n",
       "      <td>the</td>\n",
       "      <td>517</td>\n",
       "    </tr>\n",
       "    <tr>\n",
       "      <th>10</th>\n",
       "      <td>and</td>\n",
       "      <td>360</td>\n",
       "    </tr>\n",
       "    <tr>\n",
       "      <th>36</th>\n",
       "      <td>i</td>\n",
       "      <td>310</td>\n",
       "    </tr>\n",
       "    <tr>\n",
       "      <th>13</th>\n",
       "      <td>was</td>\n",
       "      <td>267</td>\n",
       "    </tr>\n",
       "    <tr>\n",
       "      <th>66</th>\n",
       "      <td>a</td>\n",
       "      <td>208</td>\n",
       "    </tr>\n",
       "  </tbody>\n",
       "</table>\n",
       "</div>"
      ],
      "text/plain": [
       "   words  word_count\n",
       "11   the         517\n",
       "10   and         360\n",
       "36     i         310\n",
       "13   was         267\n",
       "66     a         208"
      ]
     },
     "execution_count": 9,
     "metadata": {},
     "output_type": "execute_result"
    }
   ],
   "source": [
    "reviews_topword_count = count_topwords(reviews_words)\n",
    "reviews_topword_count.head()"
   ]
  },
  {
   "cell_type": "code",
   "execution_count": 10,
   "id": "fcf6b6cf",
   "metadata": {},
   "outputs": [
    {
     "data": {
      "text/plain": [
       "<AxesSubplot:xlabel='words', ylabel='word_count'>"
      ]
     },
     "execution_count": 10,
     "metadata": {},
     "output_type": "execute_result"
    },
    {
     "data": {
      "image/png": "[encoded data removed]",
      "text/plain": [
       "<Figure size 1296x720 with 1 Axes>"
      ]
     },
     "metadata": {
      "needs_background": "light"
     },
     "output_type": "display_data"
    }
   ],
   "source": [
    "plt.figure(figsize= (18,10))\n",
    "\n",
    "sns.barplot(data = reviews_topword_count ,x= reviews_topword_count['words'], y= reviews_topword_count['word_count'] )"
   ]
  },
  {
   "cell_type": "markdown",
   "id": "67ffe50c",
   "metadata": {},
   "source": [
    "#### Remove Stop words"
   ]
  },
  {
   "cell_type": "code",
   "execution_count": 11,
   "id": "81b15d6e",
   "metadata": {},
   "outputs": [
    {
     "data": {
      "text/html": [
       "<div>\n",
       "<style scoped>\n",
       "    .dataframe tbody tr th:only-of-type {\n",
       "        vertical-align: middle;\n",
       "    }\n",
       "\n",
       "    .dataframe tbody tr th {\n",
       "        vertical-align: top;\n",
       "    }\n",
       "\n",
       "    .dataframe thead th {\n",
       "        text-align: right;\n",
       "    }\n",
       "</style>\n",
       "<table border=\"1\" class=\"dataframe\">\n",
       "  <thead>\n",
       "    <tr style=\"text-align: right;\">\n",
       "      <th></th>\n",
       "      <th>Review</th>\n",
       "      <th>Liked</th>\n",
       "      <th>reviews_cleaned</th>\n",
       "      <th>reviews_tokenized</th>\n",
       "      <th>reviews_no_stopwords</th>\n",
       "    </tr>\n",
       "  </thead>\n",
       "  <tbody>\n",
       "    <tr>\n",
       "      <th>0</th>\n",
       "      <td>Wow... Loved this place.</td>\n",
       "      <td>1</td>\n",
       "      <td>wow ... loved this place</td>\n",
       "      <td>[wow, ..., loved, this, place]</td>\n",
       "      <td>[wow, ..., loved, place]</td>\n",
       "    </tr>\n",
       "    <tr>\n",
       "      <th>1</th>\n",
       "      <td>Crust is not good.</td>\n",
       "      <td>0</td>\n",
       "      <td>crust is not good</td>\n",
       "      <td>[crust, is, not, good]</td>\n",
       "      <td>[crust, good]</td>\n",
       "    </tr>\n",
       "    <tr>\n",
       "      <th>2</th>\n",
       "      <td>Not tasty and the texture was just nasty.</td>\n",
       "      <td>0</td>\n",
       "      <td>not tasty and the texture was just nasty</td>\n",
       "      <td>[not, tasty, and, the, texture, was, just, nasty]</td>\n",
       "      <td>[tasty, texture, nasty]</td>\n",
       "    </tr>\n",
       "    <tr>\n",
       "      <th>3</th>\n",
       "      <td>Stopped by during the late May bank holiday of...</td>\n",
       "      <td>1</td>\n",
       "      <td>stopped by during the late may bank holiday of...</td>\n",
       "      <td>[stopped, by, during, the, late, may, bank, ho...</td>\n",
       "      <td>[stopped, late, may, bank, holiday, rick, stev...</td>\n",
       "    </tr>\n",
       "    <tr>\n",
       "      <th>4</th>\n",
       "      <td>The selection on the menu was great and so wer...</td>\n",
       "      <td>1</td>\n",
       "      <td>the selection on the menu was great and so wer...</td>\n",
       "      <td>[the, selection, on, the, menu, was, great, an...</td>\n",
       "      <td>[selection, menu, great, prices]</td>\n",
       "    </tr>\n",
       "  </tbody>\n",
       "</table>\n",
       "</div>"
      ],
      "text/plain": [
       "                                              Review  Liked  \\\n",
       "0                           Wow... Loved this place.      1   \n",
       "1                                 Crust is not good.      0   \n",
       "2          Not tasty and the texture was just nasty.      0   \n",
       "3  Stopped by during the late May bank holiday of...      1   \n",
       "4  The selection on the menu was great and so wer...      1   \n",
       "\n",
       "                                     reviews_cleaned  \\\n",
       "0                           wow ... loved this place   \n",
       "1                                  crust is not good   \n",
       "2           not tasty and the texture was just nasty   \n",
       "3  stopped by during the late may bank holiday of...   \n",
       "4  the selection on the menu was great and so wer...   \n",
       "\n",
       "                                   reviews_tokenized  \\\n",
       "0                     [wow, ..., loved, this, place]   \n",
       "1                             [crust, is, not, good]   \n",
       "2  [not, tasty, and, the, texture, was, just, nasty]   \n",
       "3  [stopped, by, during, the, late, may, bank, ho...   \n",
       "4  [the, selection, on, the, menu, was, great, an...   \n",
       "\n",
       "                                reviews_no_stopwords  \n",
       "0                           [wow, ..., loved, place]  \n",
       "1                                      [crust, good]  \n",
       "2                            [tasty, texture, nasty]  \n",
       "3  [stopped, late, may, bank, holiday, rick, stev...  \n",
       "4                   [selection, menu, great, prices]  "
      ]
     },
     "execution_count": 11,
     "metadata": {},
     "output_type": "execute_result"
    }
   ],
   "source": [
    "stop_words = set(stopwords.words('english'))\n",
    "reviews_data['reviews_no_stopwords'] = reviews_data['reviews_tokenized'].apply(lambda x: [word for word in x if word not in stop_words])\n",
    "reviews_data.head()"
   ]
  },
  {
   "cell_type": "code",
   "execution_count": 12,
   "id": "7d63b4a8",
   "metadata": {},
   "outputs": [
    {
     "data": {
      "text/html": [
       "<div>\n",
       "<style scoped>\n",
       "    .dataframe tbody tr th:only-of-type {\n",
       "        vertical-align: middle;\n",
       "    }\n",
       "\n",
       "    .dataframe tbody tr th {\n",
       "        vertical-align: top;\n",
       "    }\n",
       "\n",
       "    .dataframe thead th {\n",
       "        text-align: right;\n",
       "    }\n",
       "</style>\n",
       "<table border=\"1\" class=\"dataframe\">\n",
       "  <thead>\n",
       "    <tr style=\"text-align: right;\">\n",
       "      <th></th>\n",
       "      <th>Review</th>\n",
       "      <th>Liked</th>\n",
       "      <th>reviews_cleaned</th>\n",
       "      <th>reviews_tokenized</th>\n",
       "      <th>reviews_no_stopwords</th>\n",
       "      <th>reviews_cleaned_stopwords</th>\n",
       "    </tr>\n",
       "  </thead>\n",
       "  <tbody>\n",
       "    <tr>\n",
       "      <th>0</th>\n",
       "      <td>Wow... Loved this place.</td>\n",
       "      <td>1</td>\n",
       "      <td>wow ... loved this place</td>\n",
       "      <td>[wow, ..., loved, this, place]</td>\n",
       "      <td>[wow, ..., loved, place]</td>\n",
       "      <td>wow ... loved place</td>\n",
       "    </tr>\n",
       "    <tr>\n",
       "      <th>1</th>\n",
       "      <td>Crust is not good.</td>\n",
       "      <td>0</td>\n",
       "      <td>crust is not good</td>\n",
       "      <td>[crust, is, not, good]</td>\n",
       "      <td>[crust, good]</td>\n",
       "      <td>crust good</td>\n",
       "    </tr>\n",
       "    <tr>\n",
       "      <th>2</th>\n",
       "      <td>Not tasty and the texture was just nasty.</td>\n",
       "      <td>0</td>\n",
       "      <td>not tasty and the texture was just nasty</td>\n",
       "      <td>[not, tasty, and, the, texture, was, just, nasty]</td>\n",
       "      <td>[tasty, texture, nasty]</td>\n",
       "      <td>tasty texture nasty</td>\n",
       "    </tr>\n",
       "    <tr>\n",
       "      <th>3</th>\n",
       "      <td>Stopped by during the late May bank holiday of...</td>\n",
       "      <td>1</td>\n",
       "      <td>stopped by during the late may bank holiday of...</td>\n",
       "      <td>[stopped, by, during, the, late, may, bank, ho...</td>\n",
       "      <td>[stopped, late, may, bank, holiday, rick, stev...</td>\n",
       "      <td>stopped late may bank holiday rick steve recom...</td>\n",
       "    </tr>\n",
       "    <tr>\n",
       "      <th>4</th>\n",
       "      <td>The selection on the menu was great and so wer...</td>\n",
       "      <td>1</td>\n",
       "      <td>the selection on the menu was great and so wer...</td>\n",
       "      <td>[the, selection, on, the, menu, was, great, an...</td>\n",
       "      <td>[selection, menu, great, prices]</td>\n",
       "      <td>selection menu great prices</td>\n",
       "    </tr>\n",
       "  </tbody>\n",
       "</table>\n",
       "</div>"
      ],
      "text/plain": [
       "                                              Review  Liked  \\\n",
       "0                           Wow... Loved this place.      1   \n",
       "1                                 Crust is not good.      0   \n",
       "2          Not tasty and the texture was just nasty.      0   \n",
       "3  Stopped by during the late May bank holiday of...      1   \n",
       "4  The selection on the menu was great and so wer...      1   \n",
       "\n",
       "                                     reviews_cleaned  \\\n",
       "0                           wow ... loved this place   \n",
       "1                                  crust is not good   \n",
       "2           not tasty and the texture was just nasty   \n",
       "3  stopped by during the late may bank holiday of...   \n",
       "4  the selection on the menu was great and so wer...   \n",
       "\n",
       "                                   reviews_tokenized  \\\n",
       "0                     [wow, ..., loved, this, place]   \n",
       "1                             [crust, is, not, good]   \n",
       "2  [not, tasty, and, the, texture, was, just, nasty]   \n",
       "3  [stopped, by, during, the, late, may, bank, ho...   \n",
       "4  [the, selection, on, the, menu, was, great, an...   \n",
       "\n",
       "                                reviews_no_stopwords  \\\n",
       "0                           [wow, ..., loved, place]   \n",
       "1                                      [crust, good]   \n",
       "2                            [tasty, texture, nasty]   \n",
       "3  [stopped, late, may, bank, holiday, rick, stev...   \n",
       "4                   [selection, menu, great, prices]   \n",
       "\n",
       "                           reviews_cleaned_stopwords  \n",
       "0                                wow ... loved place  \n",
       "1                                         crust good  \n",
       "2                                tasty texture nasty  \n",
       "3  stopped late may bank holiday rick steve recom...  \n",
       "4                        selection menu great prices  "
      ]
     },
     "execution_count": 12,
     "metadata": {},
     "output_type": "execute_result"
    }
   ],
   "source": [
    "reviews_data['reviews_cleaned_stopwords'] = [' '.join(l) for l in reviews_data['reviews_no_stopwords']]\n",
    "reviews_data.head()"
   ]
  },
  {
   "cell_type": "markdown",
   "id": "d1bb5322",
   "metadata": {},
   "source": [
    "#### Visualise most common words without stop words"
   ]
  },
  {
   "cell_type": "code",
   "execution_count": 13,
   "id": "6573e0b7",
   "metadata": {},
   "outputs": [
    {
     "data": {
      "text/plain": [
       "['wow',\n",
       " '...',\n",
       " 'loved',\n",
       " 'place',\n",
       " 'crust',\n",
       " 'good',\n",
       " 'tasty',\n",
       " 'texture',\n",
       " 'nasty',\n",
       " 'stopped']"
      ]
     },
     "execution_count": 13,
     "metadata": {},
     "output_type": "execute_result"
    }
   ],
   "source": [
    "reviews_no_stopwords = reviews_data['reviews_no_stopwords']\n",
    "reviews_words =  combine_words(reviews_no_stopwords)\n",
    "reviews_words[:10]"
   ]
  },
  {
   "cell_type": "code",
   "execution_count": 14,
   "id": "420e12fa",
   "metadata": {},
   "outputs": [
    {
     "data": {
      "text/html": [
       "<div>\n",
       "<style scoped>\n",
       "    .dataframe tbody tr th:only-of-type {\n",
       "        vertical-align: middle;\n",
       "    }\n",
       "\n",
       "    .dataframe tbody tr th {\n",
       "        vertical-align: top;\n",
       "    }\n",
       "\n",
       "    .dataframe thead th {\n",
       "        text-align: right;\n",
       "    }\n",
       "</style>\n",
       "<table border=\"1\" class=\"dataframe\">\n",
       "  <thead>\n",
       "    <tr style=\"text-align: right;\">\n",
       "      <th></th>\n",
       "      <th>words</th>\n",
       "      <th>word_count</th>\n",
       "    </tr>\n",
       "  </thead>\n",
       "  <tbody>\n",
       "    <tr>\n",
       "      <th>81</th>\n",
       "      <td>food</td>\n",
       "      <td>112</td>\n",
       "    </tr>\n",
       "    <tr>\n",
       "      <th>3</th>\n",
       "      <td>place</td>\n",
       "      <td>95</td>\n",
       "    </tr>\n",
       "    <tr>\n",
       "      <th>5</th>\n",
       "      <td>good</td>\n",
       "      <td>92</td>\n",
       "    </tr>\n",
       "    <tr>\n",
       "      <th>41</th>\n",
       "      <td>service</td>\n",
       "      <td>79</td>\n",
       "    </tr>\n",
       "    <tr>\n",
       "      <th>19</th>\n",
       "      <td>great</td>\n",
       "      <td>70</td>\n",
       "    </tr>\n",
       "  </tbody>\n",
       "</table>\n",
       "</div>"
      ],
      "text/plain": [
       "      words  word_count\n",
       "81     food         112\n",
       "3     place          95\n",
       "5      good          92\n",
       "41  service          79\n",
       "19    great          70"
      ]
     },
     "execution_count": 14,
     "metadata": {},
     "output_type": "execute_result"
    }
   ],
   "source": [
    "reviews_topword_count = count_topwords(reviews_words)\n",
    "reviews_topword_count.head()"
   ]
  },
  {
   "cell_type": "code",
   "execution_count": 15,
   "id": "3f1f4377",
   "metadata": {},
   "outputs": [
    {
     "data": {
      "text/plain": [
       "<AxesSubplot:xlabel='words', ylabel='word_count'>"
      ]
     },
     "execution_count": 15,
     "metadata": {},
     "output_type": "execute_result"
    },
    {
     "data": {
      "image/png": "[encoded data removed]",
      "text/plain": [
       "<Figure size 1296x720 with 1 Axes>"
      ]
     },
     "metadata": {
      "needs_background": "light"
     },
     "output_type": "display_data"
    }
   ],
   "source": [
    "plt.figure(figsize= (18,10))\n",
    "\n",
    "sns.barplot(data = reviews_topword_count ,x= reviews_topword_count['words'], y= reviews_topword_count['word_count'] )"
   ]
  },
  {
   "cell_type": "markdown",
   "id": "bc5c0bbc",
   "metadata": {},
   "source": [
    "#### Export Clean Data"
   ]
  },
  {
   "cell_type": "code",
   "execution_count": 16,
   "id": "5283bf5a",
   "metadata": {},
   "outputs": [],
   "source": [
    "reviews_data[['Review','Liked',\"reviews_cleaned\",'reviews_cleaned_stopwords']].to_csv(\"data/cleaned_reviews_no_stopwords_data.csv\",index = False)"
   ]
  }
 ],
 "metadata": {
  "kernelspec": {
   "display_name": "Python 3",
   "language": "python",
   "name": "python3"
  },
  "language_info": {
   "codemirror_mode": {
    "name": "ipython",
    "version": 3
   },
   "file_extension": ".py",
   "mimetype": "text/x-python",
   "name": "python",
   "nbconvert_exporter": "python",
   "pygments_lexer": "ipython3",
   "version": "3.7.1"
  }
 },
 "nbformat": 4,
 "nbformat_minor": 5
}

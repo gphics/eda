{
 "cells": [
  {
   "cell_type": "markdown",
   "id": "2dbc33b1",
   "metadata": {},
   "source": [
    "#### Import relevant libraries"
   ]
  },
  {
   "cell_type": "code",
   "execution_count": 1,
   "id": "0ae67507",
   "metadata": {},
   "outputs": [],
   "source": [
    "import pandas as pd\n",
    "import matplotlib.pyplot as plt\n",
    "import seaborn as sns\n",
    "import nltk\n",
    "from nltk.tokenize import word_tokenize\n",
    "import gensim\n",
    "from gensim.utils import simple_preprocess\n",
    "import gensim.corpora as corpora\n",
    "from pprint import pprint\n",
    "from gensim.models import CoherenceModel"
   ]
  },
  {
   "cell_type": "markdown",
   "id": "a2050fe1",
   "metadata": {},
   "source": [
    "#### Load dataset"
   ]
  },
  {
   "cell_type": "code",
   "execution_count": 2,
   "id": "3a02fac1",
   "metadata": {},
   "outputs": [],
   "source": [
    "reviews_data = pd.read_csv(\"data/cleaned_reviews_lemmatized_data.csv\")"
   ]
  },
  {
   "cell_type": "markdown",
   "id": "128c9ecd",
   "metadata": {},
   "source": [
    "#### Inspect first 5 rows and data types of the dataset"
   ]
  },
  {
   "cell_type": "code",
   "execution_count": 3,
   "id": "1f556097",
   "metadata": {
    "scrolled": false
   },
   "outputs": [
    {
     "data": {
      "text/html": [
       "<div>\n",
       "<style scoped>\n",
       "    .dataframe tbody tr th:only-of-type {\n",
       "        vertical-align: middle;\n",
       "    }\n",
       "\n",
       "    .dataframe tbody tr th {\n",
       "        vertical-align: top;\n",
       "    }\n",
       "\n",
       "    .dataframe thead th {\n",
       "        text-align: right;\n",
       "    }\n",
       "</style>\n",
       "<table border=\"1\" class=\"dataframe\">\n",
       "  <thead>\n",
       "    <tr style=\"text-align: right;\">\n",
       "      <th></th>\n",
       "      <th>Review</th>\n",
       "      <th>Liked</th>\n",
       "      <th>reviews_cleaned_lemmatized</th>\n",
       "      <th>reviews_cleaned</th>\n",
       "    </tr>\n",
       "  </thead>\n",
       "  <tbody>\n",
       "    <tr>\n",
       "      <th>0</th>\n",
       "      <td>Wow... Loved this place.</td>\n",
       "      <td>1</td>\n",
       "      <td>wow ... love place</td>\n",
       "      <td>wow ... loved this place</td>\n",
       "    </tr>\n",
       "    <tr>\n",
       "      <th>1</th>\n",
       "      <td>Crust is not good.</td>\n",
       "      <td>0</td>\n",
       "      <td>crust good</td>\n",
       "      <td>crust is not good</td>\n",
       "    </tr>\n",
       "    <tr>\n",
       "      <th>2</th>\n",
       "      <td>Not tasty and the texture was just nasty.</td>\n",
       "      <td>0</td>\n",
       "      <td>tasty texture nasty</td>\n",
       "      <td>not tasty and the texture was just nasty</td>\n",
       "    </tr>\n",
       "    <tr>\n",
       "      <th>3</th>\n",
       "      <td>Stopped by during the late May bank holiday of...</td>\n",
       "      <td>1</td>\n",
       "      <td>stop late may bank holiday rick steve recommen...</td>\n",
       "      <td>stopped by during the late may bank holiday of...</td>\n",
       "    </tr>\n",
       "    <tr>\n",
       "      <th>4</th>\n",
       "      <td>The selection on the menu was great and so wer...</td>\n",
       "      <td>1</td>\n",
       "      <td>selection menu great price</td>\n",
       "      <td>the selection on the menu was great and so wer...</td>\n",
       "    </tr>\n",
       "  </tbody>\n",
       "</table>\n",
       "</div>"
      ],
      "text/plain": [
       "                                              Review  Liked  \\\n",
       "0                           Wow... Loved this place.      1   \n",
       "1                                 Crust is not good.      0   \n",
       "2          Not tasty and the texture was just nasty.      0   \n",
       "3  Stopped by during the late May bank holiday of...      1   \n",
       "4  The selection on the menu was great and so wer...      1   \n",
       "\n",
       "                          reviews_cleaned_lemmatized  \\\n",
       "0                                 wow ... love place   \n",
       "1                                         crust good   \n",
       "2                                tasty texture nasty   \n",
       "3  stop late may bank holiday rick steve recommen...   \n",
       "4                         selection menu great price   \n",
       "\n",
       "                                     reviews_cleaned  \n",
       "0                           wow ... loved this place  \n",
       "1                                  crust is not good  \n",
       "2           not tasty and the texture was just nasty  \n",
       "3  stopped by during the late may bank holiday of...  \n",
       "4  the selection on the menu was great and so wer...  "
      ]
     },
     "execution_count": 3,
     "metadata": {},
     "output_type": "execute_result"
    }
   ],
   "source": [
    "reviews_data.head()"
   ]
  },
  {
   "cell_type": "code",
   "execution_count": 4,
   "id": "bdf17c4b",
   "metadata": {},
   "outputs": [
    {
     "data": {
      "text/plain": [
       "(899, 4)"
      ]
     },
     "execution_count": 4,
     "metadata": {},
     "output_type": "execute_result"
    }
   ],
   "source": [
    "reviews_data.shape"
   ]
  },
  {
   "cell_type": "markdown",
   "id": "3960637e",
   "metadata": {},
   "source": [
    "#### Tokenized data"
   ]
  },
  {
   "cell_type": "code",
   "execution_count": 5,
   "id": "c7a899de",
   "metadata": {},
   "outputs": [],
   "source": [
    "reviews_data['reviews_tokenized'] = reviews_data['reviews_cleaned_lemmatized'].apply(word_tokenize)"
   ]
  },
  {
   "cell_type": "code",
   "execution_count": 6,
   "id": "61ff5798",
   "metadata": {},
   "outputs": [
    {
     "data": {
      "text/plain": [
       "['wow', '...', 'love', 'place']"
      ]
     },
     "execution_count": 6,
     "metadata": {},
     "output_type": "execute_result"
    }
   ],
   "source": [
    "data = reviews_data['reviews_tokenized'].values.tolist()\n",
    "all_reviews_words = list(data)\n",
    "all_reviews_words[:1][0][:30]"
   ]
  },
  {
   "cell_type": "markdown",
   "id": "43c6a3a6",
   "metadata": {},
   "source": [
    "#### Create dictionary and corpus to prepare data for LDA"
   ]
  },
  {
   "cell_type": "code",
   "execution_count": 7,
   "id": "4f270227",
   "metadata": {},
   "outputs": [
    {
     "name": "stdout",
     "output_type": "stream",
     "text": [
      "[(0, 1), (1, 1), (2, 1), (3, 1)]\n"
     ]
    }
   ],
   "source": [
    "dictionary = corpora.Dictionary(all_reviews_words)\n",
    "corpus = [dictionary.doc2bow(words) for words in all_reviews_words]\n",
    "# View\n",
    "print(corpus[:1][0][:30])"
   ]
  },
  {
   "cell_type": "markdown",
   "id": "71518136",
   "metadata": {},
   "source": [
    "#### Check for the optimal number of topics"
   ]
  },
  {
   "cell_type": "code",
   "execution_count": 8,
   "id": "65a14dd8",
   "metadata": {},
   "outputs": [
    {
     "data": {
      "image/png": "[encoded data removed]",
      "text/plain": [
       "<Figure size 432x288 with 1 Axes>"
      ]
     },
     "metadata": {
      "needs_background": "light"
     },
     "output_type": "display_data"
    }
   ],
   "source": [
    "review_topics_um = []\n",
    "coherence_scores_um = []\n",
    "for i in range(2,10,1):\n",
    "    lda_model_um = gensim.models.LdaMulticore(corpus=corpus, id2word=dictionary,num_topics = i ,random_state=1)\n",
    "    coherence_um = CoherenceModel(model=lda_model_um, corpus=corpus, dictionary=dictionary, coherence='u_mass')\n",
    "    review_topics_um.append(i)\n",
    "    coherence_scores_um.append(coherence_um.get_coherence())\n",
    "plt.plot(review_topics_um, coherence_scores_um)\n",
    "plt.xlabel('Number of Topics')\n",
    "plt.ylabel('Coherence Score')\n",
    "plt.show()"
   ]
  },
  {
   "cell_type": "code",
   "execution_count": 9,
   "id": "70874f53",
   "metadata": {},
   "outputs": [
    {
     "name": "stdout",
     "output_type": "stream",
     "text": [
      "Optimal topics:  2\n"
     ]
    }
   ],
   "source": [
    "topics_range = range(2,10,1)\n",
    "max_index = coherence_scores_um.index(max(coherence_scores_um))\n",
    "optimal_num_topics = topics_range[max_index]\n",
    "print(\"Optimal topics: \",optimal_num_topics)        "
   ]
  },
  {
   "cell_type": "code",
   "execution_count": 10,
   "id": "0e641e8f",
   "metadata": {},
   "outputs": [
    {
     "data": {
      "image/png": "[encoded data removed]",
      "text/plain": [
       "<Figure size 432x288 with 1 Axes>"
      ]
     },
     "metadata": {
      "needs_background": "light"
     },
     "output_type": "display_data"
    }
   ],
   "source": [
    "review_topics_cv = []\n",
    "coherence_scores_cv = []\n",
    "for i in range(2,10,1):\n",
    "    lda_model_cv = gensim.models.LdaMulticore(corpus=corpus, id2word=dictionary, num_topics=i, random_state=1)\n",
    "    coherence_cv = CoherenceModel(model=lda_model_cv, texts = reviews_data['reviews_tokenized'], corpus=corpus, dictionary=dictionary, coherence='c_v')\n",
    "    review_topics_cv.append(i)\n",
    "    coherence_scores_cv.append(coherence_cv.get_coherence())\n",
    "plt.plot(review_topics_cv, coherence_scores_cv)\n",
    "plt.xlabel('Number of Topics')\n",
    "plt.ylabel('Coherence Score')\n",
    "plt.show()"
   ]
  },
  {
   "cell_type": "code",
   "execution_count": 11,
   "id": "d53d2a5f",
   "metadata": {},
   "outputs": [
    {
     "name": "stdout",
     "output_type": "stream",
     "text": [
      "Optimal topics:  9\n"
     ]
    }
   ],
   "source": [
    "topics_range = range(2,10,1)\n",
    "max_index = coherence_scores_cv.index(max(coherence_scores_cv))\n",
    "optimal_num_topics = topics_range[max_index]\n",
    "print(\"Optimal topics: \",optimal_num_topics)                             "
   ]
  }
 ],
 "metadata": {
  "kernelspec": {
   "display_name": "Python 3",
   "language": "python",
   "name": "python3"
  },
  "language_info": {
   "codemirror_mode": {
    "name": "ipython",
    "version": 3
   },
   "file_extension": ".py",
   "mimetype": "text/x-python",
   "name": "python",
   "nbconvert_exporter": "python",
   "pygments_lexer": "ipython3",
   "version": "3.7.1"
  }
 },
 "nbformat": 4,
 "nbformat_minor": 5
}

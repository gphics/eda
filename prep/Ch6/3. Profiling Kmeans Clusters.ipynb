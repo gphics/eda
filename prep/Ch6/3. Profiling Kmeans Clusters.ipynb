{
 "cells": [
  {
   "cell_type": "markdown",
   "id": "2dbc33b1",
   "metadata": {},
   "source": [
    "#### Import relevant libraries"
   ]
  },
  {
   "cell_type": "code",
   "execution_count": 1,
   "id": "0ae67507",
   "metadata": {},
   "outputs": [],
   "source": [
    "import numpy as np\n",
    "import pandas as pd\n",
    "import matplotlib.pyplot as plt\n",
    "import seaborn as sns\n",
    "from sklearn.preprocessing import StandardScaler\n",
    "from sklearn.cluster import KMeans"
   ]
  },
  {
   "cell_type": "markdown",
   "id": "a2050fe1",
   "metadata": {},
   "source": [
    "#### Load dataset"
   ]
  },
  {
   "cell_type": "code",
   "execution_count": 2,
   "id": "3a02fac1",
   "metadata": {},
   "outputs": [],
   "source": [
    "marketing_data = pd.read_csv(\"data/marketing_campaign.csv\")"
   ]
  },
  {
   "cell_type": "markdown",
   "id": "e81aa501",
   "metadata": {},
   "source": [
    "#### Subset for relevant columns"
   ]
  },
  {
   "cell_type": "code",
   "execution_count": 3,
   "id": "9279d462",
   "metadata": {},
   "outputs": [],
   "source": [
    "marketing_data = marketing_data[['MntWines','MntFruits', 'MntMeatProducts', 'MntFishProducts', \n",
    "                                 'MntSweetProducts', 'MntGoldProds', 'NumDealsPurchases', \n",
    "                                 'NumWebPurchases','NumCatalogPurchases', 'NumStorePurchases', \n",
    "                                 'NumWebVisitsMonth']]"
   ]
  },
  {
   "cell_type": "markdown",
   "id": "128c9ecd",
   "metadata": {},
   "source": [
    "#### Inspect first 5 rows and data types of the dataset"
   ]
  },
  {
   "cell_type": "code",
   "execution_count": 4,
   "id": "1f556097",
   "metadata": {
    "scrolled": true
   },
   "outputs": [
    {
     "data": {
      "text/html": [
       "<div>\n",
       "<style scoped>\n",
       "    .dataframe tbody tr th:only-of-type {\n",
       "        vertical-align: middle;\n",
       "    }\n",
       "\n",
       "    .dataframe tbody tr th {\n",
       "        vertical-align: top;\n",
       "    }\n",
       "\n",
       "    .dataframe thead th {\n",
       "        text-align: right;\n",
       "    }\n",
       "</style>\n",
       "<table border=\"1\" class=\"dataframe\">\n",
       "  <thead>\n",
       "    <tr style=\"text-align: right;\">\n",
       "      <th></th>\n",
       "      <th>MntWines</th>\n",
       "      <th>MntFruits</th>\n",
       "      <th>MntMeatProducts</th>\n",
       "      <th>MntFishProducts</th>\n",
       "      <th>MntSweetProducts</th>\n",
       "      <th>MntGoldProds</th>\n",
       "      <th>NumDealsPurchases</th>\n",
       "      <th>NumWebPurchases</th>\n",
       "      <th>NumCatalogPurchases</th>\n",
       "      <th>NumStorePurchases</th>\n",
       "      <th>NumWebVisitsMonth</th>\n",
       "    </tr>\n",
       "  </thead>\n",
       "  <tbody>\n",
       "    <tr>\n",
       "      <th>0</th>\n",
       "      <td>635</td>\n",
       "      <td>88</td>\n",
       "      <td>546</td>\n",
       "      <td>172</td>\n",
       "      <td>88</td>\n",
       "      <td>88</td>\n",
       "      <td>3</td>\n",
       "      <td>8</td>\n",
       "      <td>10</td>\n",
       "      <td>4</td>\n",
       "      <td>7</td>\n",
       "    </tr>\n",
       "    <tr>\n",
       "      <th>1</th>\n",
       "      <td>11</td>\n",
       "      <td>1</td>\n",
       "      <td>6</td>\n",
       "      <td>2</td>\n",
       "      <td>1</td>\n",
       "      <td>6</td>\n",
       "      <td>2</td>\n",
       "      <td>1</td>\n",
       "      <td>1</td>\n",
       "      <td>2</td>\n",
       "      <td>5</td>\n",
       "    </tr>\n",
       "    <tr>\n",
       "      <th>2</th>\n",
       "      <td>426</td>\n",
       "      <td>49</td>\n",
       "      <td>127</td>\n",
       "      <td>111</td>\n",
       "      <td>21</td>\n",
       "      <td>42</td>\n",
       "      <td>1</td>\n",
       "      <td>8</td>\n",
       "      <td>2</td>\n",
       "      <td>10</td>\n",
       "      <td>4</td>\n",
       "    </tr>\n",
       "    <tr>\n",
       "      <th>3</th>\n",
       "      <td>11</td>\n",
       "      <td>4</td>\n",
       "      <td>20</td>\n",
       "      <td>10</td>\n",
       "      <td>3</td>\n",
       "      <td>5</td>\n",
       "      <td>2</td>\n",
       "      <td>2</td>\n",
       "      <td>0</td>\n",
       "      <td>4</td>\n",
       "      <td>6</td>\n",
       "    </tr>\n",
       "    <tr>\n",
       "      <th>4</th>\n",
       "      <td>173</td>\n",
       "      <td>43</td>\n",
       "      <td>118</td>\n",
       "      <td>46</td>\n",
       "      <td>27</td>\n",
       "      <td>15</td>\n",
       "      <td>5</td>\n",
       "      <td>5</td>\n",
       "      <td>3</td>\n",
       "      <td>6</td>\n",
       "      <td>5</td>\n",
       "    </tr>\n",
       "  </tbody>\n",
       "</table>\n",
       "</div>"
      ],
      "text/plain": [
       "   MntWines  MntFruits  MntMeatProducts  MntFishProducts  MntSweetProducts  \\\n",
       "0       635         88              546              172                88   \n",
       "1        11          1                6                2                 1   \n",
       "2       426         49              127              111                21   \n",
       "3        11          4               20               10                 3   \n",
       "4       173         43              118               46                27   \n",
       "\n",
       "   MntGoldProds  NumDealsPurchases  NumWebPurchases  NumCatalogPurchases  \\\n",
       "0            88                  3                8                   10   \n",
       "1             6                  2                1                    1   \n",
       "2            42                  1                8                    2   \n",
       "3             5                  2                2                    0   \n",
       "4            15                  5                5                    3   \n",
       "\n",
       "   NumStorePurchases  NumWebVisitsMonth  \n",
       "0                  4                  7  \n",
       "1                  2                  5  \n",
       "2                 10                  4  \n",
       "3                  4                  6  \n",
       "4                  6                  5  "
      ]
     },
     "execution_count": 4,
     "metadata": {},
     "output_type": "execute_result"
    }
   ],
   "source": [
    "marketing_data.head()"
   ]
  },
  {
   "cell_type": "code",
   "execution_count": 5,
   "id": "bdf17c4b",
   "metadata": {},
   "outputs": [
    {
     "data": {
      "text/plain": [
       "(2240, 11)"
      ]
     },
     "execution_count": 5,
     "metadata": {},
     "output_type": "execute_result"
    }
   ],
   "source": [
    "marketing_data.shape"
   ]
  },
  {
   "cell_type": "code",
   "execution_count": 6,
   "id": "b3601b62",
   "metadata": {},
   "outputs": [
    {
     "data": {
      "text/plain": [
       "MntWines               int64\n",
       "MntFruits              int64\n",
       "MntMeatProducts        int64\n",
       "MntFishProducts        int64\n",
       "MntSweetProducts       int64\n",
       "MntGoldProds           int64\n",
       "NumDealsPurchases      int64\n",
       "NumWebPurchases        int64\n",
       "NumCatalogPurchases    int64\n",
       "NumStorePurchases      int64\n",
       "NumWebVisitsMonth      int64\n",
       "dtype: object"
      ]
     },
     "execution_count": 6,
     "metadata": {},
     "output_type": "execute_result"
    }
   ],
   "source": [
    "marketing_data.dtypes"
   ]
  },
  {
   "cell_type": "markdown",
   "id": "09bbdf22",
   "metadata": {},
   "source": [
    "#### Scale the data"
   ]
  },
  {
   "cell_type": "code",
   "execution_count": 7,
   "id": "bd463496",
   "metadata": {},
   "outputs": [],
   "source": [
    "scaler = StandardScaler()\n",
    "marketing_data_scaled = scaler.fit_transform(marketing_data)"
   ]
  },
  {
   "cell_type": "markdown",
   "id": "9866acfc",
   "metadata": {},
   "source": [
    "#### Build Kmeans model"
   ]
  },
  {
   "cell_type": "code",
   "execution_count": 8,
   "id": "ec5bc4f6",
   "metadata": {
    "scrolled": true
   },
   "outputs": [
    {
     "data": {
      "text/plain": [
       "KMeans(n_clusters=4, random_state=1)"
      ]
     },
     "execution_count": 8,
     "metadata": {},
     "output_type": "execute_result"
    }
   ],
   "source": [
    "kmeans = KMeans(n_clusters= 4, init='k-means++',random_state = 1)\n",
    "\n",
    "kmeans.fit(marketing_data_scaled)"
   ]
  },
  {
   "cell_type": "code",
   "execution_count": 9,
   "id": "fe3e6173",
   "metadata": {},
   "outputs": [
    {
     "data": {
      "text/plain": [
       "0    1020\n",
       "2     475\n",
       "3     467\n",
       "1     278\n",
       "Name: cluster, dtype: int64"
      ]
     },
     "execution_count": 9,
     "metadata": {},
     "output_type": "execute_result"
    }
   ],
   "source": [
    "label = kmeans.fit_predict(marketing_data_scaled)\n",
    "marketing_data_output = marketing_data.copy()\n",
    "marketing_data_output['cluster'] = label\n",
    "marketing_data_output['cluster'].value_counts() "
   ]
  },
  {
   "cell_type": "markdown",
   "id": "6a198335",
   "metadata": {},
   "source": [
    "#### Profiling Clusters"
   ]
  },
  {
   "cell_type": "code",
   "execution_count": 10,
   "id": "01b41ad0",
   "metadata": {},
   "outputs": [],
   "source": [
    "cols  =['MntWines', 'MntFruits', 'MntMeatProducts', 'MntFishProducts',\n",
    "       'MntSweetProducts', 'MntGoldProds', 'NumDealsPurchases',\n",
    "       'NumWebPurchases', 'NumCatalogPurchases', 'NumStorePurchases',\n",
    "       'NumWebVisitsMonth']"
   ]
  },
  {
   "cell_type": "code",
   "execution_count": 11,
   "id": "13f45719",
   "metadata": {},
   "outputs": [
    {
     "data": {
      "text/html": [
       "<div>\n",
       "<style scoped>\n",
       "    .dataframe tbody tr th:only-of-type {\n",
       "        vertical-align: middle;\n",
       "    }\n",
       "\n",
       "    .dataframe tbody tr th {\n",
       "        vertical-align: top;\n",
       "    }\n",
       "\n",
       "    .dataframe thead th {\n",
       "        text-align: right;\n",
       "    }\n",
       "</style>\n",
       "<table border=\"1\" class=\"dataframe\">\n",
       "  <thead>\n",
       "    <tr style=\"text-align: right;\">\n",
       "      <th></th>\n",
       "      <th>overall_average</th>\n",
       "    </tr>\n",
       "  </thead>\n",
       "  <tbody>\n",
       "    <tr>\n",
       "      <th>MntWines</th>\n",
       "      <td>303.935714</td>\n",
       "    </tr>\n",
       "    <tr>\n",
       "      <th>MntFruits</th>\n",
       "      <td>26.302232</td>\n",
       "    </tr>\n",
       "    <tr>\n",
       "      <th>MntMeatProducts</th>\n",
       "      <td>166.950000</td>\n",
       "    </tr>\n",
       "    <tr>\n",
       "      <th>MntFishProducts</th>\n",
       "      <td>37.525446</td>\n",
       "    </tr>\n",
       "    <tr>\n",
       "      <th>MntSweetProducts</th>\n",
       "      <td>27.062946</td>\n",
       "    </tr>\n",
       "    <tr>\n",
       "      <th>MntGoldProds</th>\n",
       "      <td>44.021875</td>\n",
       "    </tr>\n",
       "    <tr>\n",
       "      <th>NumDealsPurchases</th>\n",
       "      <td>2.325000</td>\n",
       "    </tr>\n",
       "    <tr>\n",
       "      <th>NumWebPurchases</th>\n",
       "      <td>4.084821</td>\n",
       "    </tr>\n",
       "    <tr>\n",
       "      <th>NumCatalogPurchases</th>\n",
       "      <td>2.662054</td>\n",
       "    </tr>\n",
       "    <tr>\n",
       "      <th>NumStorePurchases</th>\n",
       "      <td>5.790179</td>\n",
       "    </tr>\n",
       "    <tr>\n",
       "      <th>NumWebVisitsMonth</th>\n",
       "      <td>5.316518</td>\n",
       "    </tr>\n",
       "  </tbody>\n",
       "</table>\n",
       "</div>"
      ],
      "text/plain": [
       "                     overall_average\n",
       "MntWines                  303.935714\n",
       "MntFruits                  26.302232\n",
       "MntMeatProducts           166.950000\n",
       "MntFishProducts            37.525446\n",
       "MntSweetProducts           27.062946\n",
       "MntGoldProds               44.021875\n",
       "NumDealsPurchases           2.325000\n",
       "NumWebPurchases             4.084821\n",
       "NumCatalogPurchases         2.662054\n",
       "NumStorePurchases           5.790179\n",
       "NumWebVisitsMonth           5.316518"
      ]
     },
     "execution_count": 11,
     "metadata": {},
     "output_type": "execute_result"
    }
   ],
   "source": [
    "overall_mean = marketing_data_output[cols].apply(np.mean).T\n",
    "overall_mean = pd.DataFrame(overall_mean,columns =['overall_average'])\n",
    "overall_mean"
   ]
  },
  {
   "cell_type": "code",
   "execution_count": 12,
   "id": "a664f5f2",
   "metadata": {},
   "outputs": [
    {
     "data": {
      "text/html": [
       "<div>\n",
       "<style scoped>\n",
       "    .dataframe tbody tr th:only-of-type {\n",
       "        vertical-align: middle;\n",
       "    }\n",
       "\n",
       "    .dataframe tbody tr th {\n",
       "        vertical-align: top;\n",
       "    }\n",
       "\n",
       "    .dataframe thead th {\n",
       "        text-align: right;\n",
       "    }\n",
       "</style>\n",
       "<table border=\"1\" class=\"dataframe\">\n",
       "  <thead>\n",
       "    <tr style=\"text-align: right;\">\n",
       "      <th>cluster</th>\n",
       "      <th>0</th>\n",
       "      <th>1</th>\n",
       "      <th>2</th>\n",
       "      <th>3</th>\n",
       "    </tr>\n",
       "  </thead>\n",
       "  <tbody>\n",
       "    <tr>\n",
       "      <th>MntWines</th>\n",
       "      <td>40.580392</td>\n",
       "      <td>535.892086</td>\n",
       "      <td>627.526316</td>\n",
       "      <td>411.929336</td>\n",
       "    </tr>\n",
       "    <tr>\n",
       "      <th>MntFruits</th>\n",
       "      <td>4.913725</td>\n",
       "      <td>98.348921</td>\n",
       "      <td>40.991579</td>\n",
       "      <td>15.188437</td>\n",
       "    </tr>\n",
       "    <tr>\n",
       "      <th>MntMeatProducts</th>\n",
       "      <td>21.498039</td>\n",
       "      <td>460.676259</td>\n",
       "      <td>363.021053</td>\n",
       "      <td>110.357602</td>\n",
       "    </tr>\n",
       "    <tr>\n",
       "      <th>MntFishProducts</th>\n",
       "      <td>7.219608</td>\n",
       "      <td>133.233813</td>\n",
       "      <td>63.473684</td>\n",
       "      <td>20.351178</td>\n",
       "    </tr>\n",
       "    <tr>\n",
       "      <th>MntSweetProducts</th>\n",
       "      <td>5.066667</td>\n",
       "      <td>103.719424</td>\n",
       "      <td>40.835789</td>\n",
       "      <td>15.464668</td>\n",
       "    </tr>\n",
       "    <tr>\n",
       "      <th>MntGoldProds</th>\n",
       "      <td>14.696078</td>\n",
       "      <td>98.370504</td>\n",
       "      <td>61.261053</td>\n",
       "      <td>58.186296</td>\n",
       "    </tr>\n",
       "    <tr>\n",
       "      <th>NumDealsPurchases</th>\n",
       "      <td>1.869608</td>\n",
       "      <td>1.438849</td>\n",
       "      <td>1.677895</td>\n",
       "      <td>4.505353</td>\n",
       "    </tr>\n",
       "    <tr>\n",
       "      <th>NumWebPurchases</th>\n",
       "      <td>2.017647</td>\n",
       "      <td>5.636691</td>\n",
       "      <td>5.277895</td>\n",
       "      <td>6.462527</td>\n",
       "    </tr>\n",
       "    <tr>\n",
       "      <th>NumCatalogPurchases</th>\n",
       "      <td>0.556863</td>\n",
       "      <td>5.683453</td>\n",
       "      <td>5.635789</td>\n",
       "      <td>2.436831</td>\n",
       "    </tr>\n",
       "    <tr>\n",
       "      <th>NumStorePurchases</th>\n",
       "      <td>3.228431</td>\n",
       "      <td>8.241007</td>\n",
       "      <td>8.713684</td>\n",
       "      <td>6.952891</td>\n",
       "    </tr>\n",
       "    <tr>\n",
       "      <th>NumWebVisitsMonth</th>\n",
       "      <td>6.290196</td>\n",
       "      <td>2.920863</td>\n",
       "      <td>3.298947</td>\n",
       "      <td>6.668094</td>\n",
       "    </tr>\n",
       "  </tbody>\n",
       "</table>\n",
       "</div>"
      ],
      "text/plain": [
       "cluster                      0           1           2           3\n",
       "MntWines             40.580392  535.892086  627.526316  411.929336\n",
       "MntFruits             4.913725   98.348921   40.991579   15.188437\n",
       "MntMeatProducts      21.498039  460.676259  363.021053  110.357602\n",
       "MntFishProducts       7.219608  133.233813   63.473684   20.351178\n",
       "MntSweetProducts      5.066667  103.719424   40.835789   15.464668\n",
       "MntGoldProds         14.696078   98.370504   61.261053   58.186296\n",
       "NumDealsPurchases     1.869608    1.438849    1.677895    4.505353\n",
       "NumWebPurchases       2.017647    5.636691    5.277895    6.462527\n",
       "NumCatalogPurchases   0.556863    5.683453    5.635789    2.436831\n",
       "NumStorePurchases     3.228431    8.241007    8.713684    6.952891\n",
       "NumWebVisitsMonth     6.290196    2.920863    3.298947    6.668094"
      ]
     },
     "execution_count": 12,
     "metadata": {},
     "output_type": "execute_result"
    }
   ],
   "source": [
    "cluster_mean = marketing_data_output.groupby('cluster')[cols].mean().T\n",
    "cluster_mean"
   ]
  },
  {
   "cell_type": "code",
   "execution_count": 13,
   "id": "d34db9ea",
   "metadata": {},
   "outputs": [
    {
     "data": {
      "text/html": [
       "<div>\n",
       "<style scoped>\n",
       "    .dataframe tbody tr th:only-of-type {\n",
       "        vertical-align: middle;\n",
       "    }\n",
       "\n",
       "    .dataframe tbody tr th {\n",
       "        vertical-align: top;\n",
       "    }\n",
       "\n",
       "    .dataframe thead th {\n",
       "        text-align: right;\n",
       "    }\n",
       "</style>\n",
       "<table border=\"1\" class=\"dataframe\">\n",
       "  <thead>\n",
       "    <tr style=\"text-align: right;\">\n",
       "      <th></th>\n",
       "      <th>0</th>\n",
       "      <th>1</th>\n",
       "      <th>2</th>\n",
       "      <th>3</th>\n",
       "      <th>overall_average</th>\n",
       "    </tr>\n",
       "  </thead>\n",
       "  <tbody>\n",
       "    <tr>\n",
       "      <th>MntWines</th>\n",
       "      <td>40.580392</td>\n",
       "      <td>535.892086</td>\n",
       "      <td>627.526316</td>\n",
       "      <td>411.929336</td>\n",
       "      <td>303.935714</td>\n",
       "    </tr>\n",
       "    <tr>\n",
       "      <th>MntFruits</th>\n",
       "      <td>4.913725</td>\n",
       "      <td>98.348921</td>\n",
       "      <td>40.991579</td>\n",
       "      <td>15.188437</td>\n",
       "      <td>26.302232</td>\n",
       "    </tr>\n",
       "    <tr>\n",
       "      <th>MntMeatProducts</th>\n",
       "      <td>21.498039</td>\n",
       "      <td>460.676259</td>\n",
       "      <td>363.021053</td>\n",
       "      <td>110.357602</td>\n",
       "      <td>166.950000</td>\n",
       "    </tr>\n",
       "    <tr>\n",
       "      <th>MntFishProducts</th>\n",
       "      <td>7.219608</td>\n",
       "      <td>133.233813</td>\n",
       "      <td>63.473684</td>\n",
       "      <td>20.351178</td>\n",
       "      <td>37.525446</td>\n",
       "    </tr>\n",
       "    <tr>\n",
       "      <th>MntSweetProducts</th>\n",
       "      <td>5.066667</td>\n",
       "      <td>103.719424</td>\n",
       "      <td>40.835789</td>\n",
       "      <td>15.464668</td>\n",
       "      <td>27.062946</td>\n",
       "    </tr>\n",
       "    <tr>\n",
       "      <th>MntGoldProds</th>\n",
       "      <td>14.696078</td>\n",
       "      <td>98.370504</td>\n",
       "      <td>61.261053</td>\n",
       "      <td>58.186296</td>\n",
       "      <td>44.021875</td>\n",
       "    </tr>\n",
       "    <tr>\n",
       "      <th>NumDealsPurchases</th>\n",
       "      <td>1.869608</td>\n",
       "      <td>1.438849</td>\n",
       "      <td>1.677895</td>\n",
       "      <td>4.505353</td>\n",
       "      <td>2.325000</td>\n",
       "    </tr>\n",
       "    <tr>\n",
       "      <th>NumWebPurchases</th>\n",
       "      <td>2.017647</td>\n",
       "      <td>5.636691</td>\n",
       "      <td>5.277895</td>\n",
       "      <td>6.462527</td>\n",
       "      <td>4.084821</td>\n",
       "    </tr>\n",
       "    <tr>\n",
       "      <th>NumCatalogPurchases</th>\n",
       "      <td>0.556863</td>\n",
       "      <td>5.683453</td>\n",
       "      <td>5.635789</td>\n",
       "      <td>2.436831</td>\n",
       "      <td>2.662054</td>\n",
       "    </tr>\n",
       "    <tr>\n",
       "      <th>NumStorePurchases</th>\n",
       "      <td>3.228431</td>\n",
       "      <td>8.241007</td>\n",
       "      <td>8.713684</td>\n",
       "      <td>6.952891</td>\n",
       "      <td>5.790179</td>\n",
       "    </tr>\n",
       "    <tr>\n",
       "      <th>NumWebVisitsMonth</th>\n",
       "      <td>6.290196</td>\n",
       "      <td>2.920863</td>\n",
       "      <td>3.298947</td>\n",
       "      <td>6.668094</td>\n",
       "      <td>5.316518</td>\n",
       "    </tr>\n",
       "  </tbody>\n",
       "</table>\n",
       "</div>"
      ],
      "text/plain": [
       "                             0           1           2           3  \\\n",
       "MntWines             40.580392  535.892086  627.526316  411.929336   \n",
       "MntFruits             4.913725   98.348921   40.991579   15.188437   \n",
       "MntMeatProducts      21.498039  460.676259  363.021053  110.357602   \n",
       "MntFishProducts       7.219608  133.233813   63.473684   20.351178   \n",
       "MntSweetProducts      5.066667  103.719424   40.835789   15.464668   \n",
       "MntGoldProds         14.696078   98.370504   61.261053   58.186296   \n",
       "NumDealsPurchases     1.869608    1.438849    1.677895    4.505353   \n",
       "NumWebPurchases       2.017647    5.636691    5.277895    6.462527   \n",
       "NumCatalogPurchases   0.556863    5.683453    5.635789    2.436831   \n",
       "NumStorePurchases     3.228431    8.241007    8.713684    6.952891   \n",
       "NumWebVisitsMonth     6.290196    2.920863    3.298947    6.668094   \n",
       "\n",
       "                     overall_average  \n",
       "MntWines                  303.935714  \n",
       "MntFruits                  26.302232  \n",
       "MntMeatProducts           166.950000  \n",
       "MntFishProducts            37.525446  \n",
       "MntSweetProducts           27.062946  \n",
       "MntGoldProds               44.021875  \n",
       "NumDealsPurchases           2.325000  \n",
       "NumWebPurchases             4.084821  \n",
       "NumCatalogPurchases         2.662054  \n",
       "NumStorePurchases           5.790179  \n",
       "NumWebVisitsMonth           5.316518  "
      ]
     },
     "execution_count": 13,
     "metadata": {},
     "output_type": "execute_result"
    }
   ],
   "source": [
    "pd.concat([cluster_mean,overall_mean],axis =1)"
   ]
  }
 ],
 "metadata": {
  "kernelspec": {
   "display_name": "Python 3",
   "language": "python",
   "name": "python3"
  },
  "language_info": {
   "codemirror_mode": {
    "name": "ipython",
    "version": 3
   },
   "file_extension": ".py",
   "mimetype": "text/x-python",
   "name": "python",
   "nbconvert_exporter": "python",
   "pygments_lexer": "ipython3",
   "version": "3.7.1"
  }
 },
 "nbformat": 4,
 "nbformat_minor": 5
}

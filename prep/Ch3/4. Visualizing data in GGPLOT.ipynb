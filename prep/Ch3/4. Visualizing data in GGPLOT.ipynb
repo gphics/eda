{
 "cells": [
  {
   "cell_type": "markdown",
   "id": "2dbc33b1",
   "metadata": {},
   "source": [
    "#### Import relevant libraries"
   ]
  },
  {
   "cell_type": "code",
   "execution_count": 1,
   "id": "0ae67507",
   "metadata": {},
   "outputs": [],
   "source": [
    "import pandas as pd\n",
    "from plotnine import *"
   ]
  },
  {
   "cell_type": "markdown",
   "id": "a2050fe1",
   "metadata": {},
   "source": [
    "#### Load dataset"
   ]
  },
  {
   "cell_type": "code",
   "execution_count": 2,
   "id": "3a02fac1",
   "metadata": {},
   "outputs": [],
   "source": [
    "houseprices_data = pd.read_csv(\"data/HousingPricesData.csv\")"
   ]
  },
  {
   "cell_type": "markdown",
   "id": "e81aa501",
   "metadata": {},
   "source": [
    "#### Subset for relevant columns"
   ]
  },
  {
   "cell_type": "code",
   "execution_count": 3,
   "id": "9279d462",
   "metadata": {},
   "outputs": [],
   "source": [
    "houseprices_data = houseprices_data[['Zip', 'Price', 'Area', 'Room']]"
   ]
  },
  {
   "cell_type": "markdown",
   "id": "128c9ecd",
   "metadata": {},
   "source": [
    "#### Inspect first 2 rows and data types of the dataset"
   ]
  },
  {
   "cell_type": "code",
   "execution_count": 4,
   "id": "1f556097",
   "metadata": {
    "scrolled": true
   },
   "outputs": [
    {
     "data": {
      "text/html": [
       "<div>\n",
       "<style scoped>\n",
       "    .dataframe tbody tr th:only-of-type {\n",
       "        vertical-align: middle;\n",
       "    }\n",
       "\n",
       "    .dataframe tbody tr th {\n",
       "        vertical-align: top;\n",
       "    }\n",
       "\n",
       "    .dataframe thead th {\n",
       "        text-align: right;\n",
       "    }\n",
       "</style>\n",
       "<table border=\"1\" class=\"dataframe\">\n",
       "  <thead>\n",
       "    <tr style=\"text-align: right;\">\n",
       "      <th></th>\n",
       "      <th>Zip</th>\n",
       "      <th>Price</th>\n",
       "      <th>Area</th>\n",
       "      <th>Room</th>\n",
       "    </tr>\n",
       "  </thead>\n",
       "  <tbody>\n",
       "    <tr>\n",
       "      <th>0</th>\n",
       "      <td>1091 CR</td>\n",
       "      <td>685000.0</td>\n",
       "      <td>64</td>\n",
       "      <td>3</td>\n",
       "    </tr>\n",
       "    <tr>\n",
       "      <th>1</th>\n",
       "      <td>1059 EL</td>\n",
       "      <td>475000.0</td>\n",
       "      <td>60</td>\n",
       "      <td>3</td>\n",
       "    </tr>\n",
       "    <tr>\n",
       "      <th>2</th>\n",
       "      <td>1097 SM</td>\n",
       "      <td>850000.0</td>\n",
       "      <td>109</td>\n",
       "      <td>4</td>\n",
       "    </tr>\n",
       "    <tr>\n",
       "      <th>3</th>\n",
       "      <td>1060 TH</td>\n",
       "      <td>580000.0</td>\n",
       "      <td>128</td>\n",
       "      <td>6</td>\n",
       "    </tr>\n",
       "    <tr>\n",
       "      <th>4</th>\n",
       "      <td>1036 KN</td>\n",
       "      <td>720000.0</td>\n",
       "      <td>138</td>\n",
       "      <td>5</td>\n",
       "    </tr>\n",
       "  </tbody>\n",
       "</table>\n",
       "</div>"
      ],
      "text/plain": [
       "       Zip     Price  Area  Room\n",
       "0  1091 CR  685000.0    64     3\n",
       "1  1059 EL  475000.0    60     3\n",
       "2  1097 SM  850000.0   109     4\n",
       "3  1060 TH  580000.0   128     6\n",
       "4  1036 KN  720000.0   138     5"
      ]
     },
     "execution_count": 4,
     "metadata": {},
     "output_type": "execute_result"
    }
   ],
   "source": [
    "houseprices_data.head()"
   ]
  },
  {
   "cell_type": "code",
   "execution_count": 5,
   "id": "bdf17c4b",
   "metadata": {},
   "outputs": [
    {
     "data": {
      "text/plain": [
       "(924, 4)"
      ]
     },
     "execution_count": 5,
     "metadata": {},
     "output_type": "execute_result"
    }
   ],
   "source": [
    "houseprices_data.shape"
   ]
  },
  {
   "cell_type": "code",
   "execution_count": 6,
   "id": "b3601b62",
   "metadata": {},
   "outputs": [
    {
     "data": {
      "text/plain": [
       "Zip       object\n",
       "Price    float64\n",
       "Area       int64\n",
       "Room       int64\n",
       "dtype: object"
      ]
     },
     "execution_count": 6,
     "metadata": {},
     "output_type": "execute_result"
    }
   ],
   "source": [
    "houseprices_data.dtypes"
   ]
  },
  {
   "cell_type": "markdown",
   "id": "f0ec1feb",
   "metadata": {},
   "source": [
    "#### Create a price per sqm variable based on the price and area variables"
   ]
  },
  {
   "cell_type": "code",
   "execution_count": 7,
   "id": "5c33d837",
   "metadata": {},
   "outputs": [],
   "source": [
    "houseprices_data['PriceperSqm'] = houseprices_data['Price']/houseprices_data['Area']"
   ]
  },
  {
   "cell_type": "markdown",
   "id": "6df85df8",
   "metadata": {},
   "source": [
    "#### Sort houses based on prices"
   ]
  },
  {
   "cell_type": "code",
   "execution_count": 8,
   "id": "837614ef",
   "metadata": {},
   "outputs": [],
   "source": [
    "houseprices_sorted = houseprices_data.sort_values('Price', ascending = False)"
   ]
  },
  {
   "cell_type": "code",
   "execution_count": 9,
   "id": "5c9a1274",
   "metadata": {
    "scrolled": true
   },
   "outputs": [
    {
     "data": {
      "text/html": [
       "<div>\n",
       "<style scoped>\n",
       "    .dataframe tbody tr th:only-of-type {\n",
       "        vertical-align: middle;\n",
       "    }\n",
       "\n",
       "    .dataframe tbody tr th {\n",
       "        vertical-align: top;\n",
       "    }\n",
       "\n",
       "    .dataframe thead th {\n",
       "        text-align: right;\n",
       "    }\n",
       "</style>\n",
       "<table border=\"1\" class=\"dataframe\">\n",
       "  <thead>\n",
       "    <tr style=\"text-align: right;\">\n",
       "      <th></th>\n",
       "      <th>Zip</th>\n",
       "      <th>Price</th>\n",
       "      <th>Area</th>\n",
       "      <th>Room</th>\n",
       "      <th>PriceperSqm</th>\n",
       "    </tr>\n",
       "  </thead>\n",
       "  <tbody>\n",
       "    <tr>\n",
       "      <th>195</th>\n",
       "      <td>1017 EL</td>\n",
       "      <td>5950000.0</td>\n",
       "      <td>394</td>\n",
       "      <td>10</td>\n",
       "      <td>15101.522843</td>\n",
       "    </tr>\n",
       "    <tr>\n",
       "      <th>837</th>\n",
       "      <td>1075 AH</td>\n",
       "      <td>5850000.0</td>\n",
       "      <td>480</td>\n",
       "      <td>14</td>\n",
       "      <td>12187.500000</td>\n",
       "    </tr>\n",
       "    <tr>\n",
       "      <th>305</th>\n",
       "      <td>1016 AE</td>\n",
       "      <td>4900000.0</td>\n",
       "      <td>623</td>\n",
       "      <td>13</td>\n",
       "      <td>7865.168539</td>\n",
       "    </tr>\n",
       "    <tr>\n",
       "      <th>103</th>\n",
       "      <td>1017 ZP</td>\n",
       "      <td>4550000.0</td>\n",
       "      <td>497</td>\n",
       "      <td>13</td>\n",
       "      <td>9154.929577</td>\n",
       "    </tr>\n",
       "    <tr>\n",
       "      <th>179</th>\n",
       "      <td>1012 JS</td>\n",
       "      <td>4495000.0</td>\n",
       "      <td>178</td>\n",
       "      <td>5</td>\n",
       "      <td>25252.808989</td>\n",
       "    </tr>\n",
       "  </tbody>\n",
       "</table>\n",
       "</div>"
      ],
      "text/plain": [
       "         Zip      Price  Area  Room   PriceperSqm\n",
       "195  1017 EL  5950000.0   394    10  15101.522843\n",
       "837  1075 AH  5850000.0   480    14  12187.500000\n",
       "305  1016 AE  4900000.0   623    13   7865.168539\n",
       "103  1017 ZP  4550000.0   497    13   9154.929577\n",
       "179  1012 JS  4495000.0   178     5  25252.808989"
      ]
     },
     "execution_count": 9,
     "metadata": {},
     "output_type": "execute_result"
    }
   ],
   "source": [
    "houseprices_sorted.head()"
   ]
  },
  {
   "cell_type": "markdown",
   "id": "46f24ec2",
   "metadata": {},
   "source": [
    "#### Plot a bar chart using GGPLOT"
   ]
  },
  {
   "cell_type": "code",
   "execution_count": 10,
   "id": "060d61eb",
   "metadata": {},
   "outputs": [
    {
     "data": {
      "image/png": "[encoded data removed]",
      "text/plain": [
       "<Figure size 1600x800 with 1 Axes>"
      ]
     },
     "metadata": {},
     "output_type": "display_data"
    },
    {
     "data": {
      "text/plain": [
       "<ggplot: (110164034294)>"
      ]
     },
     "execution_count": 10,
     "metadata": {},
     "output_type": "execute_result"
    }
   ],
   "source": [
    "chart_data = houseprices_sorted[0:10]\n",
    "\n",
    "ggplot(chart_data,aes(x='Zip',y = 'Price')) + geom_bar(stat = 'identity') \\\n",
    "+ scale_x_discrete(limits=chart_data['Zip'].tolist()) + theme(figure_size=(16, 8))\n"
   ]
  },
  {
   "cell_type": "markdown",
   "id": "c9d77d05",
   "metadata": {},
   "source": [
    "#### Add other details to make the chart more informative"
   ]
  },
  {
   "cell_type": "code",
   "execution_count": 11,
   "id": "622590d9",
   "metadata": {},
   "outputs": [
    {
     "data": {
      "image/png": "[encoded data removed]",
      "text/plain": [
       "<Figure size 1600x800 with 1 Axes>"
      ]
     },
     "metadata": {},
     "output_type": "display_data"
    },
    {
     "data": {
      "text/plain": [
       "<ggplot: (110166213836)>"
      ]
     },
     "execution_count": 11,
     "metadata": {},
     "output_type": "execute_result"
    }
   ],
   "source": [
    "ggplot(chart_data,aes(x='Zip',y = 'Price')) + geom_bar(stat = 'identity') \\\n",
    "+ scale_x_discrete(limits=chart_data['Zip'].tolist()) \\\n",
    "+ labs(y='House prices in millions', x='Zip code', title='Top 10 Areas with the highest house prices') \\\n",
    "+ theme(figure_size=(16, 8), \n",
    "        axis_title=element_text(face='bold',size =12),\n",
    "          axis_text=element_text(face='italic',size =8),\n",
    "          plot_title=element_text(face='bold',\n",
    "                                  size=12))"
   ]
  }
 ],
 "metadata": {
  "kernelspec": {
   "display_name": "Python 3",
   "language": "python",
   "name": "python3"
  },
  "language_info": {
   "codemirror_mode": {
    "name": "ipython",
    "version": 3
   },
   "file_extension": ".py",
   "mimetype": "text/x-python",
   "name": "python",
   "nbconvert_exporter": "python",
   "pygments_lexer": "ipython3",
   "version": "3.7.1"
  }
 },
 "nbformat": 4,
 "nbformat_minor": 5
}

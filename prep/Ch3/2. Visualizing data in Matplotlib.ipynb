{
 "cells": [
  {
   "cell_type": "markdown",
   "id": "2dbc33b1",
   "metadata": {},
   "source": [
    "#### Import relevant libraries"
   ]
  },
  {
   "cell_type": "code",
   "execution_count": 1,
   "id": "0ae67507",
   "metadata": {},
   "outputs": [],
   "source": [
    "import pandas as pd\n",
    "import matplotlib.pyplot as plt"
   ]
  },
  {
   "cell_type": "markdown",
   "id": "a2050fe1",
   "metadata": {},
   "source": [
    "#### Load dataset"
   ]
  },
  {
   "cell_type": "code",
   "execution_count": 2,
   "id": "3a02fac1",
   "metadata": {},
   "outputs": [],
   "source": [
    "houseprices_data = pd.read_csv(\"data/HousingPricesData.csv\")"
   ]
  },
  {
   "cell_type": "markdown",
   "id": "e81aa501",
   "metadata": {},
   "source": [
    "#### Subset for relevant columns"
   ]
  },
  {
   "cell_type": "code",
   "execution_count": 3,
   "id": "9279d462",
   "metadata": {},
   "outputs": [],
   "source": [
    "houseprices_data = houseprices_data[['Zip', 'Price', 'Area', 'Room']]"
   ]
  },
  {
   "cell_type": "markdown",
   "id": "128c9ecd",
   "metadata": {},
   "source": [
    "#### Inspect first 2 rows and data types of the dataset"
   ]
  },
  {
   "cell_type": "code",
   "execution_count": 4,
   "id": "1f556097",
   "metadata": {
    "scrolled": true
   },
   "outputs": [
    {
     "data": {
      "text/html": [
       "<div>\n",
       "<style scoped>\n",
       "    .dataframe tbody tr th:only-of-type {\n",
       "        vertical-align: middle;\n",
       "    }\n",
       "\n",
       "    .dataframe tbody tr th {\n",
       "        vertical-align: top;\n",
       "    }\n",
       "\n",
       "    .dataframe thead th {\n",
       "        text-align: right;\n",
       "    }\n",
       "</style>\n",
       "<table border=\"1\" class=\"dataframe\">\n",
       "  <thead>\n",
       "    <tr style=\"text-align: right;\">\n",
       "      <th></th>\n",
       "      <th>Zip</th>\n",
       "      <th>Price</th>\n",
       "      <th>Area</th>\n",
       "      <th>Room</th>\n",
       "    </tr>\n",
       "  </thead>\n",
       "  <tbody>\n",
       "    <tr>\n",
       "      <th>0</th>\n",
       "      <td>1091 CR</td>\n",
       "      <td>685000.0</td>\n",
       "      <td>64</td>\n",
       "      <td>3</td>\n",
       "    </tr>\n",
       "    <tr>\n",
       "      <th>1</th>\n",
       "      <td>1059 EL</td>\n",
       "      <td>475000.0</td>\n",
       "      <td>60</td>\n",
       "      <td>3</td>\n",
       "    </tr>\n",
       "    <tr>\n",
       "      <th>2</th>\n",
       "      <td>1097 SM</td>\n",
       "      <td>850000.0</td>\n",
       "      <td>109</td>\n",
       "      <td>4</td>\n",
       "    </tr>\n",
       "    <tr>\n",
       "      <th>3</th>\n",
       "      <td>1060 TH</td>\n",
       "      <td>580000.0</td>\n",
       "      <td>128</td>\n",
       "      <td>6</td>\n",
       "    </tr>\n",
       "    <tr>\n",
       "      <th>4</th>\n",
       "      <td>1036 KN</td>\n",
       "      <td>720000.0</td>\n",
       "      <td>138</td>\n",
       "      <td>5</td>\n",
       "    </tr>\n",
       "  </tbody>\n",
       "</table>\n",
       "</div>"
      ],
      "text/plain": [
       "       Zip     Price  Area  Room\n",
       "0  1091 CR  685000.0    64     3\n",
       "1  1059 EL  475000.0    60     3\n",
       "2  1097 SM  850000.0   109     4\n",
       "3  1060 TH  580000.0   128     6\n",
       "4  1036 KN  720000.0   138     5"
      ]
     },
     "execution_count": 4,
     "metadata": {},
     "output_type": "execute_result"
    }
   ],
   "source": [
    "houseprices_data.head()"
   ]
  },
  {
   "cell_type": "code",
   "execution_count": 5,
   "id": "bdf17c4b",
   "metadata": {},
   "outputs": [
    {
     "data": {
      "text/plain": [
       "(924, 4)"
      ]
     },
     "execution_count": 5,
     "metadata": {},
     "output_type": "execute_result"
    }
   ],
   "source": [
    "houseprices_data.shape"
   ]
  },
  {
   "cell_type": "code",
   "execution_count": 6,
   "id": "b3601b62",
   "metadata": {},
   "outputs": [
    {
     "data": {
      "text/plain": [
       "Zip       object\n",
       "Price    float64\n",
       "Area       int64\n",
       "Room       int64\n",
       "dtype: object"
      ]
     },
     "execution_count": 6,
     "metadata": {},
     "output_type": "execute_result"
    }
   ],
   "source": [
    "houseprices_data.dtypes"
   ]
  },
  {
   "cell_type": "markdown",
   "id": "399bdcd2",
   "metadata": {},
   "source": [
    "#### Create a price per sqm variable based on the price and area variables"
   ]
  },
  {
   "cell_type": "code",
   "execution_count": 7,
   "id": "79a52604",
   "metadata": {},
   "outputs": [],
   "source": [
    "houseprices_data['PriceperSqm'] = houseprices_data['Price']/houseprices_data['Area']"
   ]
  },
  {
   "cell_type": "markdown",
   "id": "7ac13896",
   "metadata": {},
   "source": [
    "#### Sort houses based on prices"
   ]
  },
  {
   "cell_type": "code",
   "execution_count": 8,
   "id": "b65033e0",
   "metadata": {},
   "outputs": [],
   "source": [
    "houseprices_sorted = houseprices_data.sort_values('Price', ascending = False)"
   ]
  },
  {
   "cell_type": "code",
   "execution_count": 9,
   "id": "b72c379e",
   "metadata": {
    "scrolled": true
   },
   "outputs": [
    {
     "data": {
      "text/html": [
       "<div>\n",
       "<style scoped>\n",
       "    .dataframe tbody tr th:only-of-type {\n",
       "        vertical-align: middle;\n",
       "    }\n",
       "\n",
       "    .dataframe tbody tr th {\n",
       "        vertical-align: top;\n",
       "    }\n",
       "\n",
       "    .dataframe thead th {\n",
       "        text-align: right;\n",
       "    }\n",
       "</style>\n",
       "<table border=\"1\" class=\"dataframe\">\n",
       "  <thead>\n",
       "    <tr style=\"text-align: right;\">\n",
       "      <th></th>\n",
       "      <th>Zip</th>\n",
       "      <th>Price</th>\n",
       "      <th>Area</th>\n",
       "      <th>Room</th>\n",
       "      <th>PriceperSqm</th>\n",
       "    </tr>\n",
       "  </thead>\n",
       "  <tbody>\n",
       "    <tr>\n",
       "      <th>195</th>\n",
       "      <td>1017 EL</td>\n",
       "      <td>5950000.0</td>\n",
       "      <td>394</td>\n",
       "      <td>10</td>\n",
       "      <td>15101.522843</td>\n",
       "    </tr>\n",
       "    <tr>\n",
       "      <th>837</th>\n",
       "      <td>1075 AH</td>\n",
       "      <td>5850000.0</td>\n",
       "      <td>480</td>\n",
       "      <td>14</td>\n",
       "      <td>12187.500000</td>\n",
       "    </tr>\n",
       "    <tr>\n",
       "      <th>305</th>\n",
       "      <td>1016 AE</td>\n",
       "      <td>4900000.0</td>\n",
       "      <td>623</td>\n",
       "      <td>13</td>\n",
       "      <td>7865.168539</td>\n",
       "    </tr>\n",
       "    <tr>\n",
       "      <th>103</th>\n",
       "      <td>1017 ZP</td>\n",
       "      <td>4550000.0</td>\n",
       "      <td>497</td>\n",
       "      <td>13</td>\n",
       "      <td>9154.929577</td>\n",
       "    </tr>\n",
       "    <tr>\n",
       "      <th>179</th>\n",
       "      <td>1012 JS</td>\n",
       "      <td>4495000.0</td>\n",
       "      <td>178</td>\n",
       "      <td>5</td>\n",
       "      <td>25252.808989</td>\n",
       "    </tr>\n",
       "  </tbody>\n",
       "</table>\n",
       "</div>"
      ],
      "text/plain": [
       "         Zip      Price  Area  Room   PriceperSqm\n",
       "195  1017 EL  5950000.0   394    10  15101.522843\n",
       "837  1075 AH  5850000.0   480    14  12187.500000\n",
       "305  1016 AE  4900000.0   623    13   7865.168539\n",
       "103  1017 ZP  4550000.0   497    13   9154.929577\n",
       "179  1012 JS  4495000.0   178     5  25252.808989"
      ]
     },
     "execution_count": 9,
     "metadata": {},
     "output_type": "execute_result"
    }
   ],
   "source": [
    "houseprices_sorted.head()"
   ]
  },
  {
   "cell_type": "markdown",
   "id": "46f24ec2",
   "metadata": {},
   "source": [
    "#### Plot a bar chart using Matplotlib"
   ]
  },
  {
   "cell_type": "code",
   "execution_count": 10,
   "id": "fe10f0a2",
   "metadata": {},
   "outputs": [
    {
     "data": {
      "image/png": "[encoded data removed]",
      "text/plain": [
       "<Figure size 864x432 with 1 Axes>"
      ]
     },
     "metadata": {
      "needs_background": "light"
     },
     "output_type": "display_data"
    }
   ],
   "source": [
    "plt.figure(figsize= (12,6))\n",
    "\n",
    "x = houseprices_sorted['Zip'][0:10]\n",
    "y = houseprices_sorted['Price'][0:10]\n",
    "plt.bar(x,y)\n",
    "plt.show()"
   ]
  },
  {
   "cell_type": "markdown",
   "id": "da8b7f21",
   "metadata": {},
   "source": [
    "#### Add other details to make the chart more informative"
   ]
  },
  {
   "cell_type": "code",
   "execution_count": 11,
   "id": "0d4f42bb",
   "metadata": {},
   "outputs": [
    {
     "data": {
      "image/png": "[encoded data removed]",
      "text/plain": [
       "<Figure size 864x432 with 1 Axes>"
      ]
     },
     "metadata": {
      "needs_background": "light"
     },
     "output_type": "display_data"
    }
   ],
   "source": [
    "plt.figure(figsize= (12,6))\n",
    "plt.bar(x,y)\n",
    "plt.title('Top 10 Areas with the highest house prices', fontsize=15)\n",
    "plt.xlabel('Zip code', fontsize = 12)\n",
    "plt.xticks(fontsize=10)\n",
    "plt.ylabel('House prices in millions', fontsize=12)\n",
    "plt.yticks(fontsize=10)\n",
    "plt.show()"
   ]
  },
  {
   "cell_type": "markdown",
   "id": "7427a3e7",
   "metadata": {},
   "source": [
    "#### Create Subplots"
   ]
  },
  {
   "cell_type": "code",
   "execution_count": 12,
   "id": "dc01b14b",
   "metadata": {},
   "outputs": [
    {
     "data": {
      "image/png": "[encoded data removed]",
      "text/plain": [
       "<Figure size 2880x1296 with 2 Axes>"
      ]
     },
     "metadata": {
      "needs_background": "light"
     },
     "output_type": "display_data"
    }
   ],
   "source": [
    "fig, ax = plt.subplots(figsize=(40,18))\n",
    "\n",
    "x = houseprices_sorted['Zip'][0:10]\n",
    "y = houseprices_sorted['Price'][0:10]\n",
    "y1 = houseprices_sorted['PriceperSqm'][0:10]\n",
    "\n",
    "plt.subplot(1,2,1)\n",
    "plt.bar(x,y)\n",
    "plt.xticks(fontsize=17)\n",
    "plt.ylabel('House prices in millions', fontsize=25)\n",
    "plt.yticks(fontsize=20)\n",
    "plt.title('Top 10 Areas with the highest house prices', fontsize=25)\n",
    "\n",
    "plt.subplot(1,2,2)\n",
    "plt.bar(x,y1)\n",
    "plt.xticks(fontsize=17)\n",
    "plt.ylabel('House prices per sqm', fontsize=25)\n",
    "plt.yticks(fontsize=20)\n",
    "plt.title('Top 10 Areas with the highest house prices per sqm', fontsize=25)\n",
    "plt.show()"
   ]
  }
 ],
 "metadata": {
  "kernelspec": {
   "display_name": "Python 3",
   "language": "python",
   "name": "python3"
  },
  "language_info": {
   "codemirror_mode": {
    "name": "ipython",
    "version": 3
   },
   "file_extension": ".py",
   "mimetype": "text/x-python",
   "name": "python",
   "nbconvert_exporter": "python",
   "pygments_lexer": "ipython3",
   "version": "3.7.1"
  }
 },
 "nbformat": 4,
 "nbformat_minor": 5
}
